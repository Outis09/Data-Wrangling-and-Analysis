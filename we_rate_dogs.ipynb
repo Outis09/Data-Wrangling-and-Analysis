{
 "cells": [
  {
   "cell_type": "markdown",
   "id": "0a343cb6",
   "metadata": {},
   "source": [
    "# Project: Wrangling and Analyzing WeRateDogs® Twitter Archive\n",
    "\n",
    "## Table of Contents\n",
    "<ul>\n",
    "   <li><a href=\"#intro\">Introduction</a></li> \n",
    "<li><a href=\"#gather\">Data Gathering</a></li>\n",
    "<li><a href=\"#assess\">Assessing Data</a></li>\n",
    "<li><a href=\"#clean\">Cleaning Data</a></li>\n",
    "<li><a href=\"#analysis\">Analyzing and Visualizing Data</a></li>\n",
    "    <li><a href=\"#insights\">Insights</a></li>\n",
    "</ul>"
   ]
  },
  {
   "cell_type": "markdown",
   "id": "6948cce1",
   "metadata": {},
   "source": [
    "<a id='intro'></a>\n",
    "## Introduction\n",
    "\n",
    "The aim of this project is to wrangle and analyze data. The data used in this analysis is the tweet archive of a user, [WeRateDogs®](https://twitter.com/dog_rates), from 15th November 2015 to 1st August 2017. WeRateDogs is a Twitter account that rates dogs with a humorous comment about the dog. The data used is spread across different sources. The data included WeRateDogs twitter archive given by Udacity as a [csv file](https://d17h27t6h515a5.cloudfront.net/topher/2017/August/59a4e958_twitter-archive-enhanced/twitter-archive-enhanced.csv), a tsv file hosted on Udacity servers containing image predictions for each tweet ID and additional data on the tweets which I accessed using the Twitter API.\n",
    "\n",
    "The goal of this project is to gather and clean the data from the three sources as they contain some quality and tidiness issues and combine these into a master pandas DataFrame. I intend to then analyze this master DataFrame and derive insights from the data.\n",
    "\n",
    "In some instances, I viewed the tweets on Twitter using the tweet's ID by adding the ID to https://twitter.com/i/web/status/\n"
   ]
  },
  {
   "cell_type": "markdown",
   "id": "ad1eb83e",
   "metadata": {},
   "source": [
    "### Importing modules"
   ]
  },
  {
   "cell_type": "code",
   "execution_count": 1,
   "id": "32a0eab3",
   "metadata": {},
   "outputs": [],
   "source": [
    "import copy\n",
    "import json\n",
    "import os\n",
    "from timeit import default_timer as timer\n",
    "\n",
    "import numpy as np\n",
    "import pandas as pd\n",
    "import matplotlib.pyplot as plt\n",
    "%matplotlib inline\n",
    "import requests\n",
    "import tweepy\n",
    "from tweepy import OAuthHandler"
   ]
  },
  {
   "cell_type": "markdown",
   "id": "a382030d",
   "metadata": {},
   "source": [
    "<a id='gather'></a>\n",
    "##  Data Gathering"
   ]
  },
  {
   "cell_type": "markdown",
   "id": "6bd60d71",
   "metadata": {},
   "source": [
    "##### Importing first file (csv file)"
   ]
  },
  {
   "cell_type": "code",
   "execution_count": 2,
   "id": "822bf49e",
   "metadata": {},
   "outputs": [],
   "source": [
    "# reading csv file into a dataframe\n",
    "df = pd.read_csv('twitter-archive-enhanced.csv')"
   ]
  },
  {
   "cell_type": "code",
   "execution_count": 3,
   "id": "8fa9f373",
   "metadata": {
    "scrolled": true
   },
   "outputs": [
    {
     "data": {
      "text/html": [
       "<div>\n",
       "<style scoped>\n",
       "    .dataframe tbody tr th:only-of-type {\n",
       "        vertical-align: middle;\n",
       "    }\n",
       "\n",
       "    .dataframe tbody tr th {\n",
       "        vertical-align: top;\n",
       "    }\n",
       "\n",
       "    .dataframe thead th {\n",
       "        text-align: right;\n",
       "    }\n",
       "</style>\n",
       "<table border=\"1\" class=\"dataframe\">\n",
       "  <thead>\n",
       "    <tr style=\"text-align: right;\">\n",
       "      <th></th>\n",
       "      <th>tweet_id</th>\n",
       "      <th>in_reply_to_status_id</th>\n",
       "      <th>in_reply_to_user_id</th>\n",
       "      <th>timestamp</th>\n",
       "      <th>source</th>\n",
       "      <th>text</th>\n",
       "      <th>retweeted_status_id</th>\n",
       "      <th>retweeted_status_user_id</th>\n",
       "      <th>retweeted_status_timestamp</th>\n",
       "      <th>expanded_urls</th>\n",
       "      <th>rating_numerator</th>\n",
       "      <th>rating_denominator</th>\n",
       "      <th>name</th>\n",
       "      <th>doggo</th>\n",
       "      <th>floofer</th>\n",
       "      <th>pupper</th>\n",
       "      <th>puppo</th>\n",
       "    </tr>\n",
       "  </thead>\n",
       "  <tbody>\n",
       "    <tr>\n",
       "      <th>0</th>\n",
       "      <td>892420643555336193</td>\n",
       "      <td>NaN</td>\n",
       "      <td>NaN</td>\n",
       "      <td>2017-08-01 16:23:56 +0000</td>\n",
       "      <td>&lt;a href=\"http://twitter.com/download/iphone\" r...</td>\n",
       "      <td>This is Phineas. He's a mystical boy. Only eve...</td>\n",
       "      <td>NaN</td>\n",
       "      <td>NaN</td>\n",
       "      <td>NaN</td>\n",
       "      <td>https://twitter.com/dog_rates/status/892420643...</td>\n",
       "      <td>13</td>\n",
       "      <td>10</td>\n",
       "      <td>Phineas</td>\n",
       "      <td>None</td>\n",
       "      <td>None</td>\n",
       "      <td>None</td>\n",
       "      <td>None</td>\n",
       "    </tr>\n",
       "    <tr>\n",
       "      <th>1</th>\n",
       "      <td>892177421306343426</td>\n",
       "      <td>NaN</td>\n",
       "      <td>NaN</td>\n",
       "      <td>2017-08-01 00:17:27 +0000</td>\n",
       "      <td>&lt;a href=\"http://twitter.com/download/iphone\" r...</td>\n",
       "      <td>This is Tilly. She's just checking pup on you....</td>\n",
       "      <td>NaN</td>\n",
       "      <td>NaN</td>\n",
       "      <td>NaN</td>\n",
       "      <td>https://twitter.com/dog_rates/status/892177421...</td>\n",
       "      <td>13</td>\n",
       "      <td>10</td>\n",
       "      <td>Tilly</td>\n",
       "      <td>None</td>\n",
       "      <td>None</td>\n",
       "      <td>None</td>\n",
       "      <td>None</td>\n",
       "    </tr>\n",
       "    <tr>\n",
       "      <th>2</th>\n",
       "      <td>891815181378084864</td>\n",
       "      <td>NaN</td>\n",
       "      <td>NaN</td>\n",
       "      <td>2017-07-31 00:18:03 +0000</td>\n",
       "      <td>&lt;a href=\"http://twitter.com/download/iphone\" r...</td>\n",
       "      <td>This is Archie. He is a rare Norwegian Pouncin...</td>\n",
       "      <td>NaN</td>\n",
       "      <td>NaN</td>\n",
       "      <td>NaN</td>\n",
       "      <td>https://twitter.com/dog_rates/status/891815181...</td>\n",
       "      <td>12</td>\n",
       "      <td>10</td>\n",
       "      <td>Archie</td>\n",
       "      <td>None</td>\n",
       "      <td>None</td>\n",
       "      <td>None</td>\n",
       "      <td>None</td>\n",
       "    </tr>\n",
       "    <tr>\n",
       "      <th>3</th>\n",
       "      <td>891689557279858688</td>\n",
       "      <td>NaN</td>\n",
       "      <td>NaN</td>\n",
       "      <td>2017-07-30 15:58:51 +0000</td>\n",
       "      <td>&lt;a href=\"http://twitter.com/download/iphone\" r...</td>\n",
       "      <td>This is Darla. She commenced a snooze mid meal...</td>\n",
       "      <td>NaN</td>\n",
       "      <td>NaN</td>\n",
       "      <td>NaN</td>\n",
       "      <td>https://twitter.com/dog_rates/status/891689557...</td>\n",
       "      <td>13</td>\n",
       "      <td>10</td>\n",
       "      <td>Darla</td>\n",
       "      <td>None</td>\n",
       "      <td>None</td>\n",
       "      <td>None</td>\n",
       "      <td>None</td>\n",
       "    </tr>\n",
       "    <tr>\n",
       "      <th>4</th>\n",
       "      <td>891327558926688256</td>\n",
       "      <td>NaN</td>\n",
       "      <td>NaN</td>\n",
       "      <td>2017-07-29 16:00:24 +0000</td>\n",
       "      <td>&lt;a href=\"http://twitter.com/download/iphone\" r...</td>\n",
       "      <td>This is Franklin. He would like you to stop ca...</td>\n",
       "      <td>NaN</td>\n",
       "      <td>NaN</td>\n",
       "      <td>NaN</td>\n",
       "      <td>https://twitter.com/dog_rates/status/891327558...</td>\n",
       "      <td>12</td>\n",
       "      <td>10</td>\n",
       "      <td>Franklin</td>\n",
       "      <td>None</td>\n",
       "      <td>None</td>\n",
       "      <td>None</td>\n",
       "      <td>None</td>\n",
       "    </tr>\n",
       "  </tbody>\n",
       "</table>\n",
       "</div>"
      ],
      "text/plain": [
       "             tweet_id  in_reply_to_status_id  in_reply_to_user_id  \\\n",
       "0  892420643555336193                    NaN                  NaN   \n",
       "1  892177421306343426                    NaN                  NaN   \n",
       "2  891815181378084864                    NaN                  NaN   \n",
       "3  891689557279858688                    NaN                  NaN   \n",
       "4  891327558926688256                    NaN                  NaN   \n",
       "\n",
       "                   timestamp  \\\n",
       "0  2017-08-01 16:23:56 +0000   \n",
       "1  2017-08-01 00:17:27 +0000   \n",
       "2  2017-07-31 00:18:03 +0000   \n",
       "3  2017-07-30 15:58:51 +0000   \n",
       "4  2017-07-29 16:00:24 +0000   \n",
       "\n",
       "                                              source  \\\n",
       "0  <a href=\"http://twitter.com/download/iphone\" r...   \n",
       "1  <a href=\"http://twitter.com/download/iphone\" r...   \n",
       "2  <a href=\"http://twitter.com/download/iphone\" r...   \n",
       "3  <a href=\"http://twitter.com/download/iphone\" r...   \n",
       "4  <a href=\"http://twitter.com/download/iphone\" r...   \n",
       "\n",
       "                                                text  retweeted_status_id  \\\n",
       "0  This is Phineas. He's a mystical boy. Only eve...                  NaN   \n",
       "1  This is Tilly. She's just checking pup on you....                  NaN   \n",
       "2  This is Archie. He is a rare Norwegian Pouncin...                  NaN   \n",
       "3  This is Darla. She commenced a snooze mid meal...                  NaN   \n",
       "4  This is Franklin. He would like you to stop ca...                  NaN   \n",
       "\n",
       "   retweeted_status_user_id retweeted_status_timestamp  \\\n",
       "0                       NaN                        NaN   \n",
       "1                       NaN                        NaN   \n",
       "2                       NaN                        NaN   \n",
       "3                       NaN                        NaN   \n",
       "4                       NaN                        NaN   \n",
       "\n",
       "                                       expanded_urls  rating_numerator  \\\n",
       "0  https://twitter.com/dog_rates/status/892420643...                13   \n",
       "1  https://twitter.com/dog_rates/status/892177421...                13   \n",
       "2  https://twitter.com/dog_rates/status/891815181...                12   \n",
       "3  https://twitter.com/dog_rates/status/891689557...                13   \n",
       "4  https://twitter.com/dog_rates/status/891327558...                12   \n",
       "\n",
       "   rating_denominator      name doggo floofer pupper puppo  \n",
       "0                  10   Phineas  None    None   None  None  \n",
       "1                  10     Tilly  None    None   None  None  \n",
       "2                  10    Archie  None    None   None  None  \n",
       "3                  10     Darla  None    None   None  None  \n",
       "4                  10  Franklin  None    None   None  None  "
      ]
     },
     "execution_count": 3,
     "metadata": {},
     "output_type": "execute_result"
    }
   ],
   "source": [
    "# displaying first 5 rows of the dataframe\n",
    "df.head()"
   ]
  },
  {
   "cell_type": "markdown",
   "id": "f8174a50",
   "metadata": {},
   "source": [
    "##### Downloading second file using the Requests library"
   ]
  },
  {
   "cell_type": "code",
   "execution_count": 4,
   "id": "0d508dff",
   "metadata": {},
   "outputs": [],
   "source": [
    "# creating a folder\n",
    "directory_name = 'tsv_file'\n",
    "if not os.path.exists(directory_name):\n",
    "    os.makedirs(directory_name)"
   ]
  },
  {
   "cell_type": "code",
   "execution_count": 5,
   "id": "7eb6eb58",
   "metadata": {},
   "outputs": [],
   "source": [
    "# using the Requests library to get the contents of the url\n",
    "url = 'https://d17h27t6h515a5.cloudfront.net/topher/2017/August/599fd2ad_image-predictions/image-predictions.tsv'\n",
    "response = requests.get(url)"
   ]
  },
  {
   "cell_type": "code",
   "execution_count": 6,
   "id": "1dd818d5",
   "metadata": {},
   "outputs": [],
   "source": [
    "# writing the contents of the url to a file\n",
    "with open(os.path.join(directory_name,url.split('/')[-1]),mode='wb') as file:\n",
    "    file.write(response.content)"
   ]
  },
  {
   "cell_type": "code",
   "execution_count": 7,
   "id": "8e9678fe",
   "metadata": {},
   "outputs": [],
   "source": [
    "# reading the tsv file into a dataframe\n",
    "df_02 = pd.read_csv('tsv_file/image-predictions.tsv',sep = '\\t')"
   ]
  },
  {
   "cell_type": "code",
   "execution_count": 8,
   "id": "87aeb21d",
   "metadata": {
    "scrolled": false
   },
   "outputs": [
    {
     "data": {
      "text/html": [
       "<div>\n",
       "<style scoped>\n",
       "    .dataframe tbody tr th:only-of-type {\n",
       "        vertical-align: middle;\n",
       "    }\n",
       "\n",
       "    .dataframe tbody tr th {\n",
       "        vertical-align: top;\n",
       "    }\n",
       "\n",
       "    .dataframe thead th {\n",
       "        text-align: right;\n",
       "    }\n",
       "</style>\n",
       "<table border=\"1\" class=\"dataframe\">\n",
       "  <thead>\n",
       "    <tr style=\"text-align: right;\">\n",
       "      <th></th>\n",
       "      <th>tweet_id</th>\n",
       "      <th>jpg_url</th>\n",
       "      <th>img_num</th>\n",
       "      <th>p1</th>\n",
       "      <th>p1_conf</th>\n",
       "      <th>p1_dog</th>\n",
       "      <th>p2</th>\n",
       "      <th>p2_conf</th>\n",
       "      <th>p2_dog</th>\n",
       "      <th>p3</th>\n",
       "      <th>p3_conf</th>\n",
       "      <th>p3_dog</th>\n",
       "    </tr>\n",
       "  </thead>\n",
       "  <tbody>\n",
       "    <tr>\n",
       "      <th>0</th>\n",
       "      <td>666020888022790149</td>\n",
       "      <td>https://pbs.twimg.com/media/CT4udn0WwAA0aMy.jpg</td>\n",
       "      <td>1</td>\n",
       "      <td>Welsh_springer_spaniel</td>\n",
       "      <td>0.465074</td>\n",
       "      <td>True</td>\n",
       "      <td>collie</td>\n",
       "      <td>0.156665</td>\n",
       "      <td>True</td>\n",
       "      <td>Shetland_sheepdog</td>\n",
       "      <td>0.061428</td>\n",
       "      <td>True</td>\n",
       "    </tr>\n",
       "    <tr>\n",
       "      <th>1</th>\n",
       "      <td>666029285002620928</td>\n",
       "      <td>https://pbs.twimg.com/media/CT42GRgUYAA5iDo.jpg</td>\n",
       "      <td>1</td>\n",
       "      <td>redbone</td>\n",
       "      <td>0.506826</td>\n",
       "      <td>True</td>\n",
       "      <td>miniature_pinscher</td>\n",
       "      <td>0.074192</td>\n",
       "      <td>True</td>\n",
       "      <td>Rhodesian_ridgeback</td>\n",
       "      <td>0.072010</td>\n",
       "      <td>True</td>\n",
       "    </tr>\n",
       "    <tr>\n",
       "      <th>2</th>\n",
       "      <td>666033412701032449</td>\n",
       "      <td>https://pbs.twimg.com/media/CT4521TWwAEvMyu.jpg</td>\n",
       "      <td>1</td>\n",
       "      <td>German_shepherd</td>\n",
       "      <td>0.596461</td>\n",
       "      <td>True</td>\n",
       "      <td>malinois</td>\n",
       "      <td>0.138584</td>\n",
       "      <td>True</td>\n",
       "      <td>bloodhound</td>\n",
       "      <td>0.116197</td>\n",
       "      <td>True</td>\n",
       "    </tr>\n",
       "    <tr>\n",
       "      <th>3</th>\n",
       "      <td>666044226329800704</td>\n",
       "      <td>https://pbs.twimg.com/media/CT5Dr8HUEAA-lEu.jpg</td>\n",
       "      <td>1</td>\n",
       "      <td>Rhodesian_ridgeback</td>\n",
       "      <td>0.408143</td>\n",
       "      <td>True</td>\n",
       "      <td>redbone</td>\n",
       "      <td>0.360687</td>\n",
       "      <td>True</td>\n",
       "      <td>miniature_pinscher</td>\n",
       "      <td>0.222752</td>\n",
       "      <td>True</td>\n",
       "    </tr>\n",
       "    <tr>\n",
       "      <th>4</th>\n",
       "      <td>666049248165822465</td>\n",
       "      <td>https://pbs.twimg.com/media/CT5IQmsXIAAKY4A.jpg</td>\n",
       "      <td>1</td>\n",
       "      <td>miniature_pinscher</td>\n",
       "      <td>0.560311</td>\n",
       "      <td>True</td>\n",
       "      <td>Rottweiler</td>\n",
       "      <td>0.243682</td>\n",
       "      <td>True</td>\n",
       "      <td>Doberman</td>\n",
       "      <td>0.154629</td>\n",
       "      <td>True</td>\n",
       "    </tr>\n",
       "  </tbody>\n",
       "</table>\n",
       "</div>"
      ],
      "text/plain": [
       "             tweet_id                                          jpg_url  \\\n",
       "0  666020888022790149  https://pbs.twimg.com/media/CT4udn0WwAA0aMy.jpg   \n",
       "1  666029285002620928  https://pbs.twimg.com/media/CT42GRgUYAA5iDo.jpg   \n",
       "2  666033412701032449  https://pbs.twimg.com/media/CT4521TWwAEvMyu.jpg   \n",
       "3  666044226329800704  https://pbs.twimg.com/media/CT5Dr8HUEAA-lEu.jpg   \n",
       "4  666049248165822465  https://pbs.twimg.com/media/CT5IQmsXIAAKY4A.jpg   \n",
       "\n",
       "   img_num                      p1   p1_conf  p1_dog                  p2  \\\n",
       "0        1  Welsh_springer_spaniel  0.465074    True              collie   \n",
       "1        1                 redbone  0.506826    True  miniature_pinscher   \n",
       "2        1         German_shepherd  0.596461    True            malinois   \n",
       "3        1     Rhodesian_ridgeback  0.408143    True             redbone   \n",
       "4        1      miniature_pinscher  0.560311    True          Rottweiler   \n",
       "\n",
       "    p2_conf  p2_dog                   p3   p3_conf  p3_dog  \n",
       "0  0.156665    True    Shetland_sheepdog  0.061428    True  \n",
       "1  0.074192    True  Rhodesian_ridgeback  0.072010    True  \n",
       "2  0.138584    True           bloodhound  0.116197    True  \n",
       "3  0.360687    True   miniature_pinscher  0.222752    True  \n",
       "4  0.243682    True             Doberman  0.154629    True  "
      ]
     },
     "execution_count": 8,
     "metadata": {},
     "output_type": "execute_result"
    }
   ],
   "source": [
    "# displaying first rows of the dataframe\n",
    "df_02.head()"
   ]
  },
  {
   "cell_type": "markdown",
   "id": "e9b79033",
   "metadata": {},
   "source": [
    "##### Getting third file from Twitter using the Tweepy library"
   ]
  },
  {
   "cell_type": "code",
   "execution_count": 9,
   "id": "5f8bc166",
   "metadata": {},
   "outputs": [
    {
     "name": "stdout",
     "output_type": "stream",
     "text": [
      "3948.1561274\n",
      "29\n"
     ]
    }
   ],
   "source": [
    "consumer_key = 'CFFMKK8neCam3tdTYiNkMGQEc'\n",
    "consumer_secret = 'yDyuIs6JyI1nvpkoQTb4xkg0Tnr2Dh9uX4RdHtZJyNoL0U8yrT'\n",
    "access_token = '963677285328019458-DWqNSl1pyMuGfnOCMpBIDxmDVirIm87'\n",
    "access_secret = '8URMQsiQNinPWIbdq6lk2CipTP4OxRcNxdq9z1W6MDkMR'\n",
    "\n",
    "auth = OAuthHandler(consumer_key, consumer_secret)\n",
    "auth.set_access_token(access_token, access_secret)\n",
    "\n",
    "api = tweepy.API(auth, wait_on_rate_limit=True)\n",
    "\n",
    "# assigning tweet Ids in df to a variable\n",
    "tweet_ids = df.tweet_id.values\n",
    "len(tweet_ids)\n",
    "\n",
    "# creating dictionary to which erroes will be appended\n",
    "fails_dict = {}\n",
    "start = timer()\n",
    "# Saving each tweet's returned JSON as a new line in a .txt file\n",
    "with open('tweet_json.txt', 'w') as outfile:\n",
    "    # loop to get each tweet's json data\n",
    "    for tweet_id in tweet_ids:\n",
    "        try:\n",
    "            tweet = api.get_status(tweet_id, tweet_mode='extended')\n",
    "            json.dump(tweet._json, outfile)\n",
    "            outfile.write('\\n')\n",
    "        except Exception as e:\n",
    "            fails_dict[tweet_id] = e\n",
    "            pass\n",
    "end = timer()\n",
    "# printing time it took to run\n",
    "print(end - start)\n",
    "# printing the number of errors\n",
    "print(len(fails_dict))"
   ]
  },
  {
   "cell_type": "markdown",
   "id": "96148cfc",
   "metadata": {},
   "source": [
    "It took 66 mins to run and 29 tweet IDs were not retrieved"
   ]
  },
  {
   "cell_type": "code",
   "execution_count": 10,
   "id": "bf98433e",
   "metadata": {},
   "outputs": [
    {
     "data": {
      "text/html": [
       "<div>\n",
       "<style scoped>\n",
       "    .dataframe tbody tr th:only-of-type {\n",
       "        vertical-align: middle;\n",
       "    }\n",
       "\n",
       "    .dataframe tbody tr th {\n",
       "        vertical-align: top;\n",
       "    }\n",
       "\n",
       "    .dataframe thead th {\n",
       "        text-align: right;\n",
       "    }\n",
       "</style>\n",
       "<table border=\"1\" class=\"dataframe\">\n",
       "  <thead>\n",
       "    <tr style=\"text-align: right;\">\n",
       "      <th></th>\n",
       "      <th>created_at</th>\n",
       "      <th>id</th>\n",
       "      <th>id_str</th>\n",
       "      <th>full_text</th>\n",
       "      <th>truncated</th>\n",
       "      <th>display_text_range</th>\n",
       "      <th>entities</th>\n",
       "      <th>extended_entities</th>\n",
       "      <th>source</th>\n",
       "      <th>in_reply_to_status_id</th>\n",
       "      <th>...</th>\n",
       "      <th>favorited</th>\n",
       "      <th>retweeted</th>\n",
       "      <th>possibly_sensitive</th>\n",
       "      <th>possibly_sensitive_appealable</th>\n",
       "      <th>lang</th>\n",
       "      <th>retweeted_status</th>\n",
       "      <th>quoted_status_id</th>\n",
       "      <th>quoted_status_id_str</th>\n",
       "      <th>quoted_status_permalink</th>\n",
       "      <th>quoted_status</th>\n",
       "    </tr>\n",
       "  </thead>\n",
       "  <tbody>\n",
       "    <tr>\n",
       "      <th>0</th>\n",
       "      <td>Tue Aug 01 16:23:56 +0000 2017</td>\n",
       "      <td>892420643555336193</td>\n",
       "      <td>892420643555336193</td>\n",
       "      <td>This is Phineas. He's a mystical boy. Only eve...</td>\n",
       "      <td>False</td>\n",
       "      <td>[0, 85]</td>\n",
       "      <td>{'hashtags': [], 'symbols': [], 'user_mentions...</td>\n",
       "      <td>{'media': [{'id': 892420639486877696, 'id_str'...</td>\n",
       "      <td>&lt;a href=\"http://twitter.com/download/iphone\" r...</td>\n",
       "      <td>NaN</td>\n",
       "      <td>...</td>\n",
       "      <td>False</td>\n",
       "      <td>False</td>\n",
       "      <td>False</td>\n",
       "      <td>False</td>\n",
       "      <td>en</td>\n",
       "      <td>NaN</td>\n",
       "      <td>NaN</td>\n",
       "      <td>NaN</td>\n",
       "      <td>NaN</td>\n",
       "      <td>NaN</td>\n",
       "    </tr>\n",
       "    <tr>\n",
       "      <th>1</th>\n",
       "      <td>Tue Aug 01 00:17:27 +0000 2017</td>\n",
       "      <td>892177421306343426</td>\n",
       "      <td>892177421306343426</td>\n",
       "      <td>This is Tilly. She's just checking pup on you....</td>\n",
       "      <td>False</td>\n",
       "      <td>[0, 138]</td>\n",
       "      <td>{'hashtags': [], 'symbols': [], 'user_mentions...</td>\n",
       "      <td>{'media': [{'id': 892177413194625024, 'id_str'...</td>\n",
       "      <td>&lt;a href=\"http://twitter.com/download/iphone\" r...</td>\n",
       "      <td>NaN</td>\n",
       "      <td>...</td>\n",
       "      <td>False</td>\n",
       "      <td>False</td>\n",
       "      <td>False</td>\n",
       "      <td>False</td>\n",
       "      <td>en</td>\n",
       "      <td>NaN</td>\n",
       "      <td>NaN</td>\n",
       "      <td>NaN</td>\n",
       "      <td>NaN</td>\n",
       "      <td>NaN</td>\n",
       "    </tr>\n",
       "    <tr>\n",
       "      <th>2</th>\n",
       "      <td>Mon Jul 31 00:18:03 +0000 2017</td>\n",
       "      <td>891815181378084864</td>\n",
       "      <td>891815181378084864</td>\n",
       "      <td>This is Archie. He is a rare Norwegian Pouncin...</td>\n",
       "      <td>False</td>\n",
       "      <td>[0, 121]</td>\n",
       "      <td>{'hashtags': [], 'symbols': [], 'user_mentions...</td>\n",
       "      <td>{'media': [{'id': 891815175371796480, 'id_str'...</td>\n",
       "      <td>&lt;a href=\"http://twitter.com/download/iphone\" r...</td>\n",
       "      <td>NaN</td>\n",
       "      <td>...</td>\n",
       "      <td>False</td>\n",
       "      <td>False</td>\n",
       "      <td>False</td>\n",
       "      <td>False</td>\n",
       "      <td>en</td>\n",
       "      <td>NaN</td>\n",
       "      <td>NaN</td>\n",
       "      <td>NaN</td>\n",
       "      <td>NaN</td>\n",
       "      <td>NaN</td>\n",
       "    </tr>\n",
       "    <tr>\n",
       "      <th>3</th>\n",
       "      <td>Sun Jul 30 15:58:51 +0000 2017</td>\n",
       "      <td>891689557279858688</td>\n",
       "      <td>891689557279858688</td>\n",
       "      <td>This is Darla. She commenced a snooze mid meal...</td>\n",
       "      <td>False</td>\n",
       "      <td>[0, 79]</td>\n",
       "      <td>{'hashtags': [], 'symbols': [], 'user_mentions...</td>\n",
       "      <td>{'media': [{'id': 891689552724799489, 'id_str'...</td>\n",
       "      <td>&lt;a href=\"http://twitter.com/download/iphone\" r...</td>\n",
       "      <td>NaN</td>\n",
       "      <td>...</td>\n",
       "      <td>False</td>\n",
       "      <td>False</td>\n",
       "      <td>False</td>\n",
       "      <td>False</td>\n",
       "      <td>en</td>\n",
       "      <td>NaN</td>\n",
       "      <td>NaN</td>\n",
       "      <td>NaN</td>\n",
       "      <td>NaN</td>\n",
       "      <td>NaN</td>\n",
       "    </tr>\n",
       "    <tr>\n",
       "      <th>4</th>\n",
       "      <td>Sat Jul 29 16:00:24 +0000 2017</td>\n",
       "      <td>891327558926688256</td>\n",
       "      <td>891327558926688256</td>\n",
       "      <td>This is Franklin. He would like you to stop ca...</td>\n",
       "      <td>False</td>\n",
       "      <td>[0, 138]</td>\n",
       "      <td>{'hashtags': [{'text': 'BarkWeek', 'indices': ...</td>\n",
       "      <td>{'media': [{'id': 891327551943041024, 'id_str'...</td>\n",
       "      <td>&lt;a href=\"http://twitter.com/download/iphone\" r...</td>\n",
       "      <td>NaN</td>\n",
       "      <td>...</td>\n",
       "      <td>False</td>\n",
       "      <td>False</td>\n",
       "      <td>False</td>\n",
       "      <td>False</td>\n",
       "      <td>en</td>\n",
       "      <td>NaN</td>\n",
       "      <td>NaN</td>\n",
       "      <td>NaN</td>\n",
       "      <td>NaN</td>\n",
       "      <td>NaN</td>\n",
       "    </tr>\n",
       "  </tbody>\n",
       "</table>\n",
       "<p>5 rows × 32 columns</p>\n",
       "</div>"
      ],
      "text/plain": [
       "                       created_at                  id              id_str  \\\n",
       "0  Tue Aug 01 16:23:56 +0000 2017  892420643555336193  892420643555336193   \n",
       "1  Tue Aug 01 00:17:27 +0000 2017  892177421306343426  892177421306343426   \n",
       "2  Mon Jul 31 00:18:03 +0000 2017  891815181378084864  891815181378084864   \n",
       "3  Sun Jul 30 15:58:51 +0000 2017  891689557279858688  891689557279858688   \n",
       "4  Sat Jul 29 16:00:24 +0000 2017  891327558926688256  891327558926688256   \n",
       "\n",
       "                                           full_text  truncated  \\\n",
       "0  This is Phineas. He's a mystical boy. Only eve...      False   \n",
       "1  This is Tilly. She's just checking pup on you....      False   \n",
       "2  This is Archie. He is a rare Norwegian Pouncin...      False   \n",
       "3  This is Darla. She commenced a snooze mid meal...      False   \n",
       "4  This is Franklin. He would like you to stop ca...      False   \n",
       "\n",
       "  display_text_range                                           entities  \\\n",
       "0            [0, 85]  {'hashtags': [], 'symbols': [], 'user_mentions...   \n",
       "1           [0, 138]  {'hashtags': [], 'symbols': [], 'user_mentions...   \n",
       "2           [0, 121]  {'hashtags': [], 'symbols': [], 'user_mentions...   \n",
       "3            [0, 79]  {'hashtags': [], 'symbols': [], 'user_mentions...   \n",
       "4           [0, 138]  {'hashtags': [{'text': 'BarkWeek', 'indices': ...   \n",
       "\n",
       "                                   extended_entities  \\\n",
       "0  {'media': [{'id': 892420639486877696, 'id_str'...   \n",
       "1  {'media': [{'id': 892177413194625024, 'id_str'...   \n",
       "2  {'media': [{'id': 891815175371796480, 'id_str'...   \n",
       "3  {'media': [{'id': 891689552724799489, 'id_str'...   \n",
       "4  {'media': [{'id': 891327551943041024, 'id_str'...   \n",
       "\n",
       "                                              source  in_reply_to_status_id  \\\n",
       "0  <a href=\"http://twitter.com/download/iphone\" r...                    NaN   \n",
       "1  <a href=\"http://twitter.com/download/iphone\" r...                    NaN   \n",
       "2  <a href=\"http://twitter.com/download/iphone\" r...                    NaN   \n",
       "3  <a href=\"http://twitter.com/download/iphone\" r...                    NaN   \n",
       "4  <a href=\"http://twitter.com/download/iphone\" r...                    NaN   \n",
       "\n",
       "   ... favorited  retweeted possibly_sensitive possibly_sensitive_appealable  \\\n",
       "0  ...     False      False              False                         False   \n",
       "1  ...     False      False              False                         False   \n",
       "2  ...     False      False              False                         False   \n",
       "3  ...     False      False              False                         False   \n",
       "4  ...     False      False              False                         False   \n",
       "\n",
       "  lang retweeted_status quoted_status_id quoted_status_id_str  \\\n",
       "0   en              NaN              NaN                  NaN   \n",
       "1   en              NaN              NaN                  NaN   \n",
       "2   en              NaN              NaN                  NaN   \n",
       "3   en              NaN              NaN                  NaN   \n",
       "4   en              NaN              NaN                  NaN   \n",
       "\n",
       "  quoted_status_permalink  quoted_status  \n",
       "0                     NaN            NaN  \n",
       "1                     NaN            NaN  \n",
       "2                     NaN            NaN  \n",
       "3                     NaN            NaN  \n",
       "4                     NaN            NaN  \n",
       "\n",
       "[5 rows x 32 columns]"
      ]
     },
     "execution_count": 10,
     "metadata": {},
     "output_type": "execute_result"
    }
   ],
   "source": [
    "# reading the json contents stored in the txt file to  a DataFrame\n",
    "with open('tweet_json.txt') as f:\n",
    "    data = [json.loads(line) for line in f ]\n",
    "\n",
    "json_df = pd.DataFrame(data)\n",
    "json_df.head()"
   ]
  },
  {
   "cell_type": "code",
   "execution_count": 11,
   "id": "a9625333",
   "metadata": {},
   "outputs": [],
   "source": [
    "# creating new DataFrame using relevant columns from json_df\n",
    "df_03 = json_df[['id','retweet_count','favorite_count']].copy()"
   ]
  },
  {
   "cell_type": "code",
   "execution_count": 12,
   "id": "69ff39d8",
   "metadata": {
    "scrolled": false
   },
   "outputs": [
    {
     "data": {
      "text/html": [
       "<div>\n",
       "<style scoped>\n",
       "    .dataframe tbody tr th:only-of-type {\n",
       "        vertical-align: middle;\n",
       "    }\n",
       "\n",
       "    .dataframe tbody tr th {\n",
       "        vertical-align: top;\n",
       "    }\n",
       "\n",
       "    .dataframe thead th {\n",
       "        text-align: right;\n",
       "    }\n",
       "</style>\n",
       "<table border=\"1\" class=\"dataframe\">\n",
       "  <thead>\n",
       "    <tr style=\"text-align: right;\">\n",
       "      <th></th>\n",
       "      <th>id</th>\n",
       "      <th>retweet_count</th>\n",
       "      <th>favorite_count</th>\n",
       "    </tr>\n",
       "  </thead>\n",
       "  <tbody>\n",
       "    <tr>\n",
       "      <th>1158</th>\n",
       "      <td>718540630683709445</td>\n",
       "      <td>920</td>\n",
       "      <td>2241</td>\n",
       "    </tr>\n",
       "    <tr>\n",
       "      <th>1210</th>\n",
       "      <td>712097430750289920</td>\n",
       "      <td>930</td>\n",
       "      <td>3448</td>\n",
       "    </tr>\n",
       "    <tr>\n",
       "      <th>1214</th>\n",
       "      <td>711998809858043904</td>\n",
       "      <td>120</td>\n",
       "      <td>0</td>\n",
       "    </tr>\n",
       "    <tr>\n",
       "      <th>1131</th>\n",
       "      <td>724046343203856385</td>\n",
       "      <td>512</td>\n",
       "      <td>2449</td>\n",
       "    </tr>\n",
       "    <tr>\n",
       "      <th>914</th>\n",
       "      <td>752917284578922496</td>\n",
       "      <td>1436</td>\n",
       "      <td>6482</td>\n",
       "    </tr>\n",
       "    <tr>\n",
       "      <th>1790</th>\n",
       "      <td>676590572941893632</td>\n",
       "      <td>110</td>\n",
       "      <td>834</td>\n",
       "    </tr>\n",
       "    <tr>\n",
       "      <th>1294</th>\n",
       "      <td>706291001778950144</td>\n",
       "      <td>434</td>\n",
       "      <td>1565</td>\n",
       "    </tr>\n",
       "    <tr>\n",
       "      <th>1579</th>\n",
       "      <td>685663452032069632</td>\n",
       "      <td>1328</td>\n",
       "      <td>2967</td>\n",
       "    </tr>\n",
       "    <tr>\n",
       "      <th>1193</th>\n",
       "      <td>714485234495041536</td>\n",
       "      <td>1007</td>\n",
       "      <td>2444</td>\n",
       "    </tr>\n",
       "    <tr>\n",
       "      <th>1318</th>\n",
       "      <td>704480331685040129</td>\n",
       "      <td>977</td>\n",
       "      <td>3140</td>\n",
       "    </tr>\n",
       "  </tbody>\n",
       "</table>\n",
       "</div>"
      ],
      "text/plain": [
       "                      id  retweet_count  favorite_count\n",
       "1158  718540630683709445            920            2241\n",
       "1210  712097430750289920            930            3448\n",
       "1214  711998809858043904            120               0\n",
       "1131  724046343203856385            512            2449\n",
       "914   752917284578922496           1436            6482\n",
       "1790  676590572941893632            110             834\n",
       "1294  706291001778950144            434            1565\n",
       "1579  685663452032069632           1328            2967\n",
       "1193  714485234495041536           1007            2444\n",
       "1318  704480331685040129            977            3140"
      ]
     },
     "execution_count": 12,
     "metadata": {},
     "output_type": "execute_result"
    }
   ],
   "source": [
    "# displaying a sample of the DataFrame \n",
    "df_03.sample(10)"
   ]
  },
  {
   "cell_type": "markdown",
   "id": "315e3a48",
   "metadata": {},
   "source": [
    "<a id='assess'></a>\n",
    "## Assessing Data"
   ]
  },
  {
   "cell_type": "markdown",
   "id": "cc7ff01c",
   "metadata": {},
   "source": [
    "##### df"
   ]
  },
  {
   "cell_type": "code",
   "execution_count": 13,
   "id": "07b05af3",
   "metadata": {
    "scrolled": true
   },
   "outputs": [
    {
     "data": {
      "text/html": [
       "<div>\n",
       "<style scoped>\n",
       "    .dataframe tbody tr th:only-of-type {\n",
       "        vertical-align: middle;\n",
       "    }\n",
       "\n",
       "    .dataframe tbody tr th {\n",
       "        vertical-align: top;\n",
       "    }\n",
       "\n",
       "    .dataframe thead th {\n",
       "        text-align: right;\n",
       "    }\n",
       "</style>\n",
       "<table border=\"1\" class=\"dataframe\">\n",
       "  <thead>\n",
       "    <tr style=\"text-align: right;\">\n",
       "      <th></th>\n",
       "      <th>tweet_id</th>\n",
       "      <th>in_reply_to_status_id</th>\n",
       "      <th>in_reply_to_user_id</th>\n",
       "      <th>timestamp</th>\n",
       "      <th>source</th>\n",
       "      <th>text</th>\n",
       "      <th>retweeted_status_id</th>\n",
       "      <th>retweeted_status_user_id</th>\n",
       "      <th>retweeted_status_timestamp</th>\n",
       "      <th>expanded_urls</th>\n",
       "      <th>rating_numerator</th>\n",
       "      <th>rating_denominator</th>\n",
       "      <th>name</th>\n",
       "      <th>doggo</th>\n",
       "      <th>floofer</th>\n",
       "      <th>pupper</th>\n",
       "      <th>puppo</th>\n",
       "    </tr>\n",
       "  </thead>\n",
       "  <tbody>\n",
       "    <tr>\n",
       "      <th>2108</th>\n",
       "      <td>670452855871037440</td>\n",
       "      <td>NaN</td>\n",
       "      <td>NaN</td>\n",
       "      <td>2015-11-28 04:03:11 +0000</td>\n",
       "      <td>&lt;a href=\"http://twitter.com/download/iphone\" r...</td>\n",
       "      <td>This dog can't see its haters. 11/10 https://t...</td>\n",
       "      <td>NaN</td>\n",
       "      <td>NaN</td>\n",
       "      <td>NaN</td>\n",
       "      <td>https://twitter.com/dog_rates/status/670452855...</td>\n",
       "      <td>11</td>\n",
       "      <td>10</td>\n",
       "      <td>None</td>\n",
       "      <td>None</td>\n",
       "      <td>None</td>\n",
       "      <td>None</td>\n",
       "      <td>None</td>\n",
       "    </tr>\n",
       "    <tr>\n",
       "      <th>1184</th>\n",
       "      <td>718631497683582976</td>\n",
       "      <td>NaN</td>\n",
       "      <td>NaN</td>\n",
       "      <td>2016-04-09 02:47:55 +0000</td>\n",
       "      <td>&lt;a href=\"http://twitter.com/download/iphone\" r...</td>\n",
       "      <td>We normally don't rate marshmallows but this o...</td>\n",
       "      <td>NaN</td>\n",
       "      <td>NaN</td>\n",
       "      <td>NaN</td>\n",
       "      <td>https://twitter.com/dog_rates/status/718631497...</td>\n",
       "      <td>10</td>\n",
       "      <td>10</td>\n",
       "      <td>None</td>\n",
       "      <td>None</td>\n",
       "      <td>None</td>\n",
       "      <td>None</td>\n",
       "      <td>None</td>\n",
       "    </tr>\n",
       "    <tr>\n",
       "      <th>828</th>\n",
       "      <td>768970937022709760</td>\n",
       "      <td>NaN</td>\n",
       "      <td>NaN</td>\n",
       "      <td>2016-08-26 00:38:52 +0000</td>\n",
       "      <td>&lt;a href=\"http://twitter.com\" rel=\"nofollow\"&gt;Tw...</td>\n",
       "      <td>This is Kirby. His bowl weighs more than him. ...</td>\n",
       "      <td>NaN</td>\n",
       "      <td>NaN</td>\n",
       "      <td>NaN</td>\n",
       "      <td>https://twitter.com/dog_rates/status/768970937...</td>\n",
       "      <td>12</td>\n",
       "      <td>10</td>\n",
       "      <td>Kirby</td>\n",
       "      <td>None</td>\n",
       "      <td>None</td>\n",
       "      <td>None</td>\n",
       "      <td>None</td>\n",
       "    </tr>\n",
       "    <tr>\n",
       "      <th>1784</th>\n",
       "      <td>677662372920729601</td>\n",
       "      <td>NaN</td>\n",
       "      <td>NaN</td>\n",
       "      <td>2015-12-18 01:31:14 +0000</td>\n",
       "      <td>&lt;a href=\"http://twitter.com/download/iphone\" r...</td>\n",
       "      <td>In honor of the new Star Wars movie. Here's Yo...</td>\n",
       "      <td>NaN</td>\n",
       "      <td>NaN</td>\n",
       "      <td>NaN</td>\n",
       "      <td>https://twitter.com/dog_rates/status/677662372...</td>\n",
       "      <td>12</td>\n",
       "      <td>10</td>\n",
       "      <td>None</td>\n",
       "      <td>None</td>\n",
       "      <td>None</td>\n",
       "      <td>None</td>\n",
       "      <td>None</td>\n",
       "    </tr>\n",
       "    <tr>\n",
       "      <th>770</th>\n",
       "      <td>776819012571455488</td>\n",
       "      <td>NaN</td>\n",
       "      <td>NaN</td>\n",
       "      <td>2016-09-16 16:24:19 +0000</td>\n",
       "      <td>&lt;a href=\"http://twitter.com/download/iphone\" r...</td>\n",
       "      <td>RT @dog_rates: Everybody look at this beautifu...</td>\n",
       "      <td>6.798284e+17</td>\n",
       "      <td>4.196984e+09</td>\n",
       "      <td>2015-12-24 00:58:27 +0000</td>\n",
       "      <td>https://twitter.com/dog_rates/status/679828447...</td>\n",
       "      <td>13</td>\n",
       "      <td>10</td>\n",
       "      <td>None</td>\n",
       "      <td>None</td>\n",
       "      <td>None</td>\n",
       "      <td>pupper</td>\n",
       "      <td>None</td>\n",
       "    </tr>\n",
       "    <tr>\n",
       "      <th>718</th>\n",
       "      <td>783466772167098368</td>\n",
       "      <td>NaN</td>\n",
       "      <td>NaN</td>\n",
       "      <td>2016-10-05 00:40:09 +0000</td>\n",
       "      <td>&lt;a href=\"http://twitter.com/download/iphone\" r...</td>\n",
       "      <td>This is Finn. He likes eavesdropping from fili...</td>\n",
       "      <td>NaN</td>\n",
       "      <td>NaN</td>\n",
       "      <td>NaN</td>\n",
       "      <td>https://twitter.com/dog_rates/status/783466772...</td>\n",
       "      <td>11</td>\n",
       "      <td>10</td>\n",
       "      <td>Finn</td>\n",
       "      <td>None</td>\n",
       "      <td>None</td>\n",
       "      <td>None</td>\n",
       "      <td>None</td>\n",
       "    </tr>\n",
       "    <tr>\n",
       "      <th>0</th>\n",
       "      <td>892420643555336193</td>\n",
       "      <td>NaN</td>\n",
       "      <td>NaN</td>\n",
       "      <td>2017-08-01 16:23:56 +0000</td>\n",
       "      <td>&lt;a href=\"http://twitter.com/download/iphone\" r...</td>\n",
       "      <td>This is Phineas. He's a mystical boy. Only eve...</td>\n",
       "      <td>NaN</td>\n",
       "      <td>NaN</td>\n",
       "      <td>NaN</td>\n",
       "      <td>https://twitter.com/dog_rates/status/892420643...</td>\n",
       "      <td>13</td>\n",
       "      <td>10</td>\n",
       "      <td>Phineas</td>\n",
       "      <td>None</td>\n",
       "      <td>None</td>\n",
       "      <td>None</td>\n",
       "      <td>None</td>\n",
       "    </tr>\n",
       "    <tr>\n",
       "      <th>984</th>\n",
       "      <td>749317047558017024</td>\n",
       "      <td>NaN</td>\n",
       "      <td>NaN</td>\n",
       "      <td>2016-07-02 19:01:20 +0000</td>\n",
       "      <td>&lt;a href=\"http://twitter.com/download/iphone\" r...</td>\n",
       "      <td>This is Blu. He's a wild bush Floofer. I wish ...</td>\n",
       "      <td>NaN</td>\n",
       "      <td>NaN</td>\n",
       "      <td>NaN</td>\n",
       "      <td>https://twitter.com/dog_rates/status/749317047...</td>\n",
       "      <td>12</td>\n",
       "      <td>10</td>\n",
       "      <td>Blu</td>\n",
       "      <td>None</td>\n",
       "      <td>floofer</td>\n",
       "      <td>None</td>\n",
       "      <td>None</td>\n",
       "    </tr>\n",
       "    <tr>\n",
       "      <th>280</th>\n",
       "      <td>839549326359670784</td>\n",
       "      <td>NaN</td>\n",
       "      <td>NaN</td>\n",
       "      <td>2017-03-08 18:52:12 +0000</td>\n",
       "      <td>&lt;a href=\"http://twitter.com/download/iphone\" r...</td>\n",
       "      <td>Meet Winston. He knows he's a little too big f...</td>\n",
       "      <td>NaN</td>\n",
       "      <td>NaN</td>\n",
       "      <td>NaN</td>\n",
       "      <td>https://twitter.com/dog_rates/status/839549326...</td>\n",
       "      <td>12</td>\n",
       "      <td>10</td>\n",
       "      <td>Winston</td>\n",
       "      <td>None</td>\n",
       "      <td>None</td>\n",
       "      <td>None</td>\n",
       "      <td>None</td>\n",
       "    </tr>\n",
       "    <tr>\n",
       "      <th>2133</th>\n",
       "      <td>670073503555706880</td>\n",
       "      <td>NaN</td>\n",
       "      <td>NaN</td>\n",
       "      <td>2015-11-27 02:55:47 +0000</td>\n",
       "      <td>&lt;a href=\"http://twitter.com/download/iphone\" r...</td>\n",
       "      <td>Meet Winston. He wants to be a power drill. Ve...</td>\n",
       "      <td>NaN</td>\n",
       "      <td>NaN</td>\n",
       "      <td>NaN</td>\n",
       "      <td>https://twitter.com/dog_rates/status/670073503...</td>\n",
       "      <td>10</td>\n",
       "      <td>10</td>\n",
       "      <td>Winston</td>\n",
       "      <td>None</td>\n",
       "      <td>None</td>\n",
       "      <td>None</td>\n",
       "      <td>None</td>\n",
       "    </tr>\n",
       "  </tbody>\n",
       "</table>\n",
       "</div>"
      ],
      "text/plain": [
       "                tweet_id  in_reply_to_status_id  in_reply_to_user_id  \\\n",
       "2108  670452855871037440                    NaN                  NaN   \n",
       "1184  718631497683582976                    NaN                  NaN   \n",
       "828   768970937022709760                    NaN                  NaN   \n",
       "1784  677662372920729601                    NaN                  NaN   \n",
       "770   776819012571455488                    NaN                  NaN   \n",
       "718   783466772167098368                    NaN                  NaN   \n",
       "0     892420643555336193                    NaN                  NaN   \n",
       "984   749317047558017024                    NaN                  NaN   \n",
       "280   839549326359670784                    NaN                  NaN   \n",
       "2133  670073503555706880                    NaN                  NaN   \n",
       "\n",
       "                      timestamp  \\\n",
       "2108  2015-11-28 04:03:11 +0000   \n",
       "1184  2016-04-09 02:47:55 +0000   \n",
       "828   2016-08-26 00:38:52 +0000   \n",
       "1784  2015-12-18 01:31:14 +0000   \n",
       "770   2016-09-16 16:24:19 +0000   \n",
       "718   2016-10-05 00:40:09 +0000   \n",
       "0     2017-08-01 16:23:56 +0000   \n",
       "984   2016-07-02 19:01:20 +0000   \n",
       "280   2017-03-08 18:52:12 +0000   \n",
       "2133  2015-11-27 02:55:47 +0000   \n",
       "\n",
       "                                                 source  \\\n",
       "2108  <a href=\"http://twitter.com/download/iphone\" r...   \n",
       "1184  <a href=\"http://twitter.com/download/iphone\" r...   \n",
       "828   <a href=\"http://twitter.com\" rel=\"nofollow\">Tw...   \n",
       "1784  <a href=\"http://twitter.com/download/iphone\" r...   \n",
       "770   <a href=\"http://twitter.com/download/iphone\" r...   \n",
       "718   <a href=\"http://twitter.com/download/iphone\" r...   \n",
       "0     <a href=\"http://twitter.com/download/iphone\" r...   \n",
       "984   <a href=\"http://twitter.com/download/iphone\" r...   \n",
       "280   <a href=\"http://twitter.com/download/iphone\" r...   \n",
       "2133  <a href=\"http://twitter.com/download/iphone\" r...   \n",
       "\n",
       "                                                   text  retweeted_status_id  \\\n",
       "2108  This dog can't see its haters. 11/10 https://t...                  NaN   \n",
       "1184  We normally don't rate marshmallows but this o...                  NaN   \n",
       "828   This is Kirby. His bowl weighs more than him. ...                  NaN   \n",
       "1784  In honor of the new Star Wars movie. Here's Yo...                  NaN   \n",
       "770   RT @dog_rates: Everybody look at this beautifu...         6.798284e+17   \n",
       "718   This is Finn. He likes eavesdropping from fili...                  NaN   \n",
       "0     This is Phineas. He's a mystical boy. Only eve...                  NaN   \n",
       "984   This is Blu. He's a wild bush Floofer. I wish ...                  NaN   \n",
       "280   Meet Winston. He knows he's a little too big f...                  NaN   \n",
       "2133  Meet Winston. He wants to be a power drill. Ve...                  NaN   \n",
       "\n",
       "      retweeted_status_user_id retweeted_status_timestamp  \\\n",
       "2108                       NaN                        NaN   \n",
       "1184                       NaN                        NaN   \n",
       "828                        NaN                        NaN   \n",
       "1784                       NaN                        NaN   \n",
       "770               4.196984e+09  2015-12-24 00:58:27 +0000   \n",
       "718                        NaN                        NaN   \n",
       "0                          NaN                        NaN   \n",
       "984                        NaN                        NaN   \n",
       "280                        NaN                        NaN   \n",
       "2133                       NaN                        NaN   \n",
       "\n",
       "                                          expanded_urls  rating_numerator  \\\n",
       "2108  https://twitter.com/dog_rates/status/670452855...                11   \n",
       "1184  https://twitter.com/dog_rates/status/718631497...                10   \n",
       "828   https://twitter.com/dog_rates/status/768970937...                12   \n",
       "1784  https://twitter.com/dog_rates/status/677662372...                12   \n",
       "770   https://twitter.com/dog_rates/status/679828447...                13   \n",
       "718   https://twitter.com/dog_rates/status/783466772...                11   \n",
       "0     https://twitter.com/dog_rates/status/892420643...                13   \n",
       "984   https://twitter.com/dog_rates/status/749317047...                12   \n",
       "280   https://twitter.com/dog_rates/status/839549326...                12   \n",
       "2133  https://twitter.com/dog_rates/status/670073503...                10   \n",
       "\n",
       "      rating_denominator     name doggo  floofer  pupper puppo  \n",
       "2108                  10     None  None     None    None  None  \n",
       "1184                  10     None  None     None    None  None  \n",
       "828                   10    Kirby  None     None    None  None  \n",
       "1784                  10     None  None     None    None  None  \n",
       "770                   10     None  None     None  pupper  None  \n",
       "718                   10     Finn  None     None    None  None  \n",
       "0                     10  Phineas  None     None    None  None  \n",
       "984                   10      Blu  None  floofer    None  None  \n",
       "280                   10  Winston  None     None    None  None  \n",
       "2133                  10  Winston  None     None    None  None  "
      ]
     },
     "execution_count": 13,
     "metadata": {},
     "output_type": "execute_result"
    }
   ],
   "source": [
    "df.sample(10)"
   ]
  },
  {
   "cell_type": "code",
   "execution_count": 14,
   "id": "2cb389a7",
   "metadata": {
    "scrolled": true
   },
   "outputs": [
    {
     "name": "stdout",
     "output_type": "stream",
     "text": [
      "<class 'pandas.core.frame.DataFrame'>\n",
      "RangeIndex: 2356 entries, 0 to 2355\n",
      "Data columns (total 17 columns):\n",
      " #   Column                      Non-Null Count  Dtype  \n",
      "---  ------                      --------------  -----  \n",
      " 0   tweet_id                    2356 non-null   int64  \n",
      " 1   in_reply_to_status_id       78 non-null     float64\n",
      " 2   in_reply_to_user_id         78 non-null     float64\n",
      " 3   timestamp                   2356 non-null   object \n",
      " 4   source                      2356 non-null   object \n",
      " 5   text                        2356 non-null   object \n",
      " 6   retweeted_status_id         181 non-null    float64\n",
      " 7   retweeted_status_user_id    181 non-null    float64\n",
      " 8   retweeted_status_timestamp  181 non-null    object \n",
      " 9   expanded_urls               2297 non-null   object \n",
      " 10  rating_numerator            2356 non-null   int64  \n",
      " 11  rating_denominator          2356 non-null   int64  \n",
      " 12  name                        2356 non-null   object \n",
      " 13  doggo                       2356 non-null   object \n",
      " 14  floofer                     2356 non-null   object \n",
      " 15  pupper                      2356 non-null   object \n",
      " 16  puppo                       2356 non-null   object \n",
      "dtypes: float64(4), int64(3), object(10)\n",
      "memory usage: 313.0+ KB\n"
     ]
    }
   ],
   "source": [
    "df.info()"
   ]
  },
  {
   "cell_type": "code",
   "execution_count": 15,
   "id": "11b3327f",
   "metadata": {},
   "outputs": [
    {
     "data": {
      "text/html": [
       "<div>\n",
       "<style scoped>\n",
       "    .dataframe tbody tr th:only-of-type {\n",
       "        vertical-align: middle;\n",
       "    }\n",
       "\n",
       "    .dataframe tbody tr th {\n",
       "        vertical-align: top;\n",
       "    }\n",
       "\n",
       "    .dataframe thead th {\n",
       "        text-align: right;\n",
       "    }\n",
       "</style>\n",
       "<table border=\"1\" class=\"dataframe\">\n",
       "  <thead>\n",
       "    <tr style=\"text-align: right;\">\n",
       "      <th></th>\n",
       "      <th>tweet_id</th>\n",
       "      <th>in_reply_to_status_id</th>\n",
       "      <th>in_reply_to_user_id</th>\n",
       "      <th>timestamp</th>\n",
       "      <th>source</th>\n",
       "      <th>text</th>\n",
       "      <th>retweeted_status_id</th>\n",
       "      <th>retweeted_status_user_id</th>\n",
       "      <th>retweeted_status_timestamp</th>\n",
       "      <th>expanded_urls</th>\n",
       "      <th>rating_numerator</th>\n",
       "      <th>rating_denominator</th>\n",
       "      <th>name</th>\n",
       "      <th>doggo</th>\n",
       "      <th>floofer</th>\n",
       "      <th>pupper</th>\n",
       "      <th>puppo</th>\n",
       "    </tr>\n",
       "  </thead>\n",
       "  <tbody>\n",
       "    <tr>\n",
       "      <th>200</th>\n",
       "      <td>854010172552949760</td>\n",
       "      <td>NaN</td>\n",
       "      <td>NaN</td>\n",
       "      <td>2017-04-17 16:34:26 +0000</td>\n",
       "      <td>&lt;a href=\"http://twitter.com/download/iphone\" r...</td>\n",
       "      <td>At first I thought this was a shy doggo, but i...</td>\n",
       "      <td>NaN</td>\n",
       "      <td>NaN</td>\n",
       "      <td>NaN</td>\n",
       "      <td>https://twitter.com/dog_rates/status/854010172...</td>\n",
       "      <td>11</td>\n",
       "      <td>10</td>\n",
       "      <td>None</td>\n",
       "      <td>doggo</td>\n",
       "      <td>floofer</td>\n",
       "      <td>None</td>\n",
       "      <td>None</td>\n",
       "    </tr>\n",
       "  </tbody>\n",
       "</table>\n",
       "</div>"
      ],
      "text/plain": [
       "               tweet_id  in_reply_to_status_id  in_reply_to_user_id  \\\n",
       "200  854010172552949760                    NaN                  NaN   \n",
       "\n",
       "                     timestamp  \\\n",
       "200  2017-04-17 16:34:26 +0000   \n",
       "\n",
       "                                                source  \\\n",
       "200  <a href=\"http://twitter.com/download/iphone\" r...   \n",
       "\n",
       "                                                  text  retweeted_status_id  \\\n",
       "200  At first I thought this was a shy doggo, but i...                  NaN   \n",
       "\n",
       "     retweeted_status_user_id retweeted_status_timestamp  \\\n",
       "200                       NaN                        NaN   \n",
       "\n",
       "                                         expanded_urls  rating_numerator  \\\n",
       "200  https://twitter.com/dog_rates/status/854010172...                11   \n",
       "\n",
       "     rating_denominator  name  doggo  floofer pupper puppo  \n",
       "200                  10  None  doggo  floofer   None  None  "
      ]
     },
     "execution_count": 15,
     "metadata": {},
     "output_type": "execute_result"
    }
   ],
   "source": [
    "# checking for double dog stages\n",
    "df[(df['doggo'] != \"None\") & (df['floofer'] != \"None\")]"
   ]
  },
  {
   "cell_type": "markdown",
   "id": "77b8f61e",
   "metadata": {},
   "source": [
    "* index 200 - Two dog stages were extracted from the tweet because two dog stages were mentioned but it is only one dog and the stage is `floofer` therefore `doggo` needs to be replaced with `None`."
   ]
  },
  {
   "cell_type": "code",
   "execution_count": 16,
   "id": "76c0f917",
   "metadata": {},
   "outputs": [
    {
     "data": {
      "text/html": [
       "<div>\n",
       "<style scoped>\n",
       "    .dataframe tbody tr th:only-of-type {\n",
       "        vertical-align: middle;\n",
       "    }\n",
       "\n",
       "    .dataframe tbody tr th {\n",
       "        vertical-align: top;\n",
       "    }\n",
       "\n",
       "    .dataframe thead th {\n",
       "        text-align: right;\n",
       "    }\n",
       "</style>\n",
       "<table border=\"1\" class=\"dataframe\">\n",
       "  <thead>\n",
       "    <tr style=\"text-align: right;\">\n",
       "      <th></th>\n",
       "      <th>tweet_id</th>\n",
       "      <th>in_reply_to_status_id</th>\n",
       "      <th>in_reply_to_user_id</th>\n",
       "      <th>timestamp</th>\n",
       "      <th>source</th>\n",
       "      <th>text</th>\n",
       "      <th>retweeted_status_id</th>\n",
       "      <th>retweeted_status_user_id</th>\n",
       "      <th>retweeted_status_timestamp</th>\n",
       "      <th>expanded_urls</th>\n",
       "      <th>rating_numerator</th>\n",
       "      <th>rating_denominator</th>\n",
       "      <th>name</th>\n",
       "      <th>doggo</th>\n",
       "      <th>floofer</th>\n",
       "      <th>pupper</th>\n",
       "      <th>puppo</th>\n",
       "    </tr>\n",
       "  </thead>\n",
       "  <tbody>\n",
       "    <tr>\n",
       "      <th>460</th>\n",
       "      <td>817777686764523521</td>\n",
       "      <td>NaN</td>\n",
       "      <td>NaN</td>\n",
       "      <td>2017-01-07 16:59:28 +0000</td>\n",
       "      <td>&lt;a href=\"http://twitter.com/download/iphone\" r...</td>\n",
       "      <td>This is Dido. She's playing the lead role in \"...</td>\n",
       "      <td>NaN</td>\n",
       "      <td>NaN</td>\n",
       "      <td>NaN</td>\n",
       "      <td>https://twitter.com/dog_rates/status/817777686...</td>\n",
       "      <td>13</td>\n",
       "      <td>10</td>\n",
       "      <td>Dido</td>\n",
       "      <td>doggo</td>\n",
       "      <td>None</td>\n",
       "      <td>pupper</td>\n",
       "      <td>None</td>\n",
       "    </tr>\n",
       "    <tr>\n",
       "      <th>531</th>\n",
       "      <td>808106460588765185</td>\n",
       "      <td>NaN</td>\n",
       "      <td>NaN</td>\n",
       "      <td>2016-12-12 00:29:28 +0000</td>\n",
       "      <td>&lt;a href=\"http://twitter.com/download/iphone\" r...</td>\n",
       "      <td>Here we have Burke (pupper) and Dexter (doggo)...</td>\n",
       "      <td>NaN</td>\n",
       "      <td>NaN</td>\n",
       "      <td>NaN</td>\n",
       "      <td>https://twitter.com/dog_rates/status/808106460...</td>\n",
       "      <td>12</td>\n",
       "      <td>10</td>\n",
       "      <td>None</td>\n",
       "      <td>doggo</td>\n",
       "      <td>None</td>\n",
       "      <td>pupper</td>\n",
       "      <td>None</td>\n",
       "    </tr>\n",
       "    <tr>\n",
       "      <th>565</th>\n",
       "      <td>802265048156610565</td>\n",
       "      <td>7.331095e+17</td>\n",
       "      <td>4.196984e+09</td>\n",
       "      <td>2016-11-25 21:37:47 +0000</td>\n",
       "      <td>&lt;a href=\"http://twitter.com/download/iphone\" r...</td>\n",
       "      <td>Like doggo, like pupper version 2. Both 11/10 ...</td>\n",
       "      <td>NaN</td>\n",
       "      <td>NaN</td>\n",
       "      <td>NaN</td>\n",
       "      <td>https://twitter.com/dog_rates/status/802265048...</td>\n",
       "      <td>11</td>\n",
       "      <td>10</td>\n",
       "      <td>None</td>\n",
       "      <td>doggo</td>\n",
       "      <td>None</td>\n",
       "      <td>pupper</td>\n",
       "      <td>None</td>\n",
       "    </tr>\n",
       "    <tr>\n",
       "      <th>575</th>\n",
       "      <td>801115127852503040</td>\n",
       "      <td>NaN</td>\n",
       "      <td>NaN</td>\n",
       "      <td>2016-11-22 17:28:25 +0000</td>\n",
       "      <td>&lt;a href=\"http://twitter.com/download/iphone\" r...</td>\n",
       "      <td>This is Bones. He's being haunted by another d...</td>\n",
       "      <td>NaN</td>\n",
       "      <td>NaN</td>\n",
       "      <td>NaN</td>\n",
       "      <td>https://twitter.com/dog_rates/status/801115127...</td>\n",
       "      <td>12</td>\n",
       "      <td>10</td>\n",
       "      <td>Bones</td>\n",
       "      <td>doggo</td>\n",
       "      <td>None</td>\n",
       "      <td>pupper</td>\n",
       "      <td>None</td>\n",
       "    </tr>\n",
       "    <tr>\n",
       "      <th>705</th>\n",
       "      <td>785639753186217984</td>\n",
       "      <td>NaN</td>\n",
       "      <td>NaN</td>\n",
       "      <td>2016-10-11 00:34:48 +0000</td>\n",
       "      <td>&lt;a href=\"http://twitter.com/download/iphone\" r...</td>\n",
       "      <td>This is Pinot. He's a sophisticated doggo. You...</td>\n",
       "      <td>NaN</td>\n",
       "      <td>NaN</td>\n",
       "      <td>NaN</td>\n",
       "      <td>https://twitter.com/dog_rates/status/785639753...</td>\n",
       "      <td>10</td>\n",
       "      <td>10</td>\n",
       "      <td>Pinot</td>\n",
       "      <td>doggo</td>\n",
       "      <td>None</td>\n",
       "      <td>pupper</td>\n",
       "      <td>None</td>\n",
       "    </tr>\n",
       "    <tr>\n",
       "      <th>733</th>\n",
       "      <td>781308096455073793</td>\n",
       "      <td>NaN</td>\n",
       "      <td>NaN</td>\n",
       "      <td>2016-09-29 01:42:20 +0000</td>\n",
       "      <td>&lt;a href=\"http://vine.co\" rel=\"nofollow\"&gt;Vine -...</td>\n",
       "      <td>Pupper butt 1, Doggo 0. Both 12/10 https://t.c...</td>\n",
       "      <td>NaN</td>\n",
       "      <td>NaN</td>\n",
       "      <td>NaN</td>\n",
       "      <td>https://vine.co/v/5rgu2Law2ut</td>\n",
       "      <td>12</td>\n",
       "      <td>10</td>\n",
       "      <td>None</td>\n",
       "      <td>doggo</td>\n",
       "      <td>None</td>\n",
       "      <td>pupper</td>\n",
       "      <td>None</td>\n",
       "    </tr>\n",
       "    <tr>\n",
       "      <th>778</th>\n",
       "      <td>775898661951791106</td>\n",
       "      <td>NaN</td>\n",
       "      <td>NaN</td>\n",
       "      <td>2016-09-14 03:27:11 +0000</td>\n",
       "      <td>&lt;a href=\"http://twitter.com/download/iphone\" r...</td>\n",
       "      <td>RT @dog_rates: Like father (doggo), like son (...</td>\n",
       "      <td>7.331095e+17</td>\n",
       "      <td>4.196984e+09</td>\n",
       "      <td>2016-05-19 01:38:16 +0000</td>\n",
       "      <td>https://twitter.com/dog_rates/status/733109485...</td>\n",
       "      <td>12</td>\n",
       "      <td>10</td>\n",
       "      <td>None</td>\n",
       "      <td>doggo</td>\n",
       "      <td>None</td>\n",
       "      <td>pupper</td>\n",
       "      <td>None</td>\n",
       "    </tr>\n",
       "    <tr>\n",
       "      <th>822</th>\n",
       "      <td>770093767776997377</td>\n",
       "      <td>NaN</td>\n",
       "      <td>NaN</td>\n",
       "      <td>2016-08-29 03:00:36 +0000</td>\n",
       "      <td>&lt;a href=\"http://twitter.com/download/iphone\" r...</td>\n",
       "      <td>RT @dog_rates: This is just downright precious...</td>\n",
       "      <td>7.410673e+17</td>\n",
       "      <td>4.196984e+09</td>\n",
       "      <td>2016-06-10 00:39:48 +0000</td>\n",
       "      <td>https://twitter.com/dog_rates/status/741067306...</td>\n",
       "      <td>12</td>\n",
       "      <td>10</td>\n",
       "      <td>just</td>\n",
       "      <td>doggo</td>\n",
       "      <td>None</td>\n",
       "      <td>pupper</td>\n",
       "      <td>None</td>\n",
       "    </tr>\n",
       "    <tr>\n",
       "      <th>889</th>\n",
       "      <td>759793422261743616</td>\n",
       "      <td>NaN</td>\n",
       "      <td>NaN</td>\n",
       "      <td>2016-07-31 16:50:42 +0000</td>\n",
       "      <td>&lt;a href=\"http://twitter.com/download/iphone\" r...</td>\n",
       "      <td>Meet Maggie &amp;amp; Lila. Maggie is the doggo, L...</td>\n",
       "      <td>NaN</td>\n",
       "      <td>NaN</td>\n",
       "      <td>NaN</td>\n",
       "      <td>https://twitter.com/dog_rates/status/759793422...</td>\n",
       "      <td>12</td>\n",
       "      <td>10</td>\n",
       "      <td>Maggie</td>\n",
       "      <td>doggo</td>\n",
       "      <td>None</td>\n",
       "      <td>pupper</td>\n",
       "      <td>None</td>\n",
       "    </tr>\n",
       "    <tr>\n",
       "      <th>956</th>\n",
       "      <td>751583847268179968</td>\n",
       "      <td>NaN</td>\n",
       "      <td>NaN</td>\n",
       "      <td>2016-07-09 01:08:47 +0000</td>\n",
       "      <td>&lt;a href=\"http://twitter.com/download/iphone\" r...</td>\n",
       "      <td>Please stop sending it pictures that don't eve...</td>\n",
       "      <td>NaN</td>\n",
       "      <td>NaN</td>\n",
       "      <td>NaN</td>\n",
       "      <td>https://twitter.com/dog_rates/status/751583847...</td>\n",
       "      <td>5</td>\n",
       "      <td>10</td>\n",
       "      <td>None</td>\n",
       "      <td>doggo</td>\n",
       "      <td>None</td>\n",
       "      <td>pupper</td>\n",
       "      <td>None</td>\n",
       "    </tr>\n",
       "    <tr>\n",
       "      <th>1063</th>\n",
       "      <td>741067306818797568</td>\n",
       "      <td>NaN</td>\n",
       "      <td>NaN</td>\n",
       "      <td>2016-06-10 00:39:48 +0000</td>\n",
       "      <td>&lt;a href=\"http://twitter.com/download/iphone\" r...</td>\n",
       "      <td>This is just downright precious af. 12/10 for ...</td>\n",
       "      <td>NaN</td>\n",
       "      <td>NaN</td>\n",
       "      <td>NaN</td>\n",
       "      <td>https://twitter.com/dog_rates/status/741067306...</td>\n",
       "      <td>12</td>\n",
       "      <td>10</td>\n",
       "      <td>just</td>\n",
       "      <td>doggo</td>\n",
       "      <td>None</td>\n",
       "      <td>pupper</td>\n",
       "      <td>None</td>\n",
       "    </tr>\n",
       "    <tr>\n",
       "      <th>1113</th>\n",
       "      <td>733109485275860992</td>\n",
       "      <td>NaN</td>\n",
       "      <td>NaN</td>\n",
       "      <td>2016-05-19 01:38:16 +0000</td>\n",
       "      <td>&lt;a href=\"http://twitter.com/download/iphone\" r...</td>\n",
       "      <td>Like father (doggo), like son (pupper). Both 1...</td>\n",
       "      <td>NaN</td>\n",
       "      <td>NaN</td>\n",
       "      <td>NaN</td>\n",
       "      <td>https://twitter.com/dog_rates/status/733109485...</td>\n",
       "      <td>12</td>\n",
       "      <td>10</td>\n",
       "      <td>None</td>\n",
       "      <td>doggo</td>\n",
       "      <td>None</td>\n",
       "      <td>pupper</td>\n",
       "      <td>None</td>\n",
       "    </tr>\n",
       "  </tbody>\n",
       "</table>\n",
       "</div>"
      ],
      "text/plain": [
       "                tweet_id  in_reply_to_status_id  in_reply_to_user_id  \\\n",
       "460   817777686764523521                    NaN                  NaN   \n",
       "531   808106460588765185                    NaN                  NaN   \n",
       "565   802265048156610565           7.331095e+17         4.196984e+09   \n",
       "575   801115127852503040                    NaN                  NaN   \n",
       "705   785639753186217984                    NaN                  NaN   \n",
       "733   781308096455073793                    NaN                  NaN   \n",
       "778   775898661951791106                    NaN                  NaN   \n",
       "822   770093767776997377                    NaN                  NaN   \n",
       "889   759793422261743616                    NaN                  NaN   \n",
       "956   751583847268179968                    NaN                  NaN   \n",
       "1063  741067306818797568                    NaN                  NaN   \n",
       "1113  733109485275860992                    NaN                  NaN   \n",
       "\n",
       "                      timestamp  \\\n",
       "460   2017-01-07 16:59:28 +0000   \n",
       "531   2016-12-12 00:29:28 +0000   \n",
       "565   2016-11-25 21:37:47 +0000   \n",
       "575   2016-11-22 17:28:25 +0000   \n",
       "705   2016-10-11 00:34:48 +0000   \n",
       "733   2016-09-29 01:42:20 +0000   \n",
       "778   2016-09-14 03:27:11 +0000   \n",
       "822   2016-08-29 03:00:36 +0000   \n",
       "889   2016-07-31 16:50:42 +0000   \n",
       "956   2016-07-09 01:08:47 +0000   \n",
       "1063  2016-06-10 00:39:48 +0000   \n",
       "1113  2016-05-19 01:38:16 +0000   \n",
       "\n",
       "                                                 source  \\\n",
       "460   <a href=\"http://twitter.com/download/iphone\" r...   \n",
       "531   <a href=\"http://twitter.com/download/iphone\" r...   \n",
       "565   <a href=\"http://twitter.com/download/iphone\" r...   \n",
       "575   <a href=\"http://twitter.com/download/iphone\" r...   \n",
       "705   <a href=\"http://twitter.com/download/iphone\" r...   \n",
       "733   <a href=\"http://vine.co\" rel=\"nofollow\">Vine -...   \n",
       "778   <a href=\"http://twitter.com/download/iphone\" r...   \n",
       "822   <a href=\"http://twitter.com/download/iphone\" r...   \n",
       "889   <a href=\"http://twitter.com/download/iphone\" r...   \n",
       "956   <a href=\"http://twitter.com/download/iphone\" r...   \n",
       "1063  <a href=\"http://twitter.com/download/iphone\" r...   \n",
       "1113  <a href=\"http://twitter.com/download/iphone\" r...   \n",
       "\n",
       "                                                   text  retweeted_status_id  \\\n",
       "460   This is Dido. She's playing the lead role in \"...                  NaN   \n",
       "531   Here we have Burke (pupper) and Dexter (doggo)...                  NaN   \n",
       "565   Like doggo, like pupper version 2. Both 11/10 ...                  NaN   \n",
       "575   This is Bones. He's being haunted by another d...                  NaN   \n",
       "705   This is Pinot. He's a sophisticated doggo. You...                  NaN   \n",
       "733   Pupper butt 1, Doggo 0. Both 12/10 https://t.c...                  NaN   \n",
       "778   RT @dog_rates: Like father (doggo), like son (...         7.331095e+17   \n",
       "822   RT @dog_rates: This is just downright precious...         7.410673e+17   \n",
       "889   Meet Maggie &amp; Lila. Maggie is the doggo, L...                  NaN   \n",
       "956   Please stop sending it pictures that don't eve...                  NaN   \n",
       "1063  This is just downright precious af. 12/10 for ...                  NaN   \n",
       "1113  Like father (doggo), like son (pupper). Both 1...                  NaN   \n",
       "\n",
       "      retweeted_status_user_id retweeted_status_timestamp  \\\n",
       "460                        NaN                        NaN   \n",
       "531                        NaN                        NaN   \n",
       "565                        NaN                        NaN   \n",
       "575                        NaN                        NaN   \n",
       "705                        NaN                        NaN   \n",
       "733                        NaN                        NaN   \n",
       "778               4.196984e+09  2016-05-19 01:38:16 +0000   \n",
       "822               4.196984e+09  2016-06-10 00:39:48 +0000   \n",
       "889                        NaN                        NaN   \n",
       "956                        NaN                        NaN   \n",
       "1063                       NaN                        NaN   \n",
       "1113                       NaN                        NaN   \n",
       "\n",
       "                                          expanded_urls  rating_numerator  \\\n",
       "460   https://twitter.com/dog_rates/status/817777686...                13   \n",
       "531   https://twitter.com/dog_rates/status/808106460...                12   \n",
       "565   https://twitter.com/dog_rates/status/802265048...                11   \n",
       "575   https://twitter.com/dog_rates/status/801115127...                12   \n",
       "705   https://twitter.com/dog_rates/status/785639753...                10   \n",
       "733                       https://vine.co/v/5rgu2Law2ut                12   \n",
       "778   https://twitter.com/dog_rates/status/733109485...                12   \n",
       "822   https://twitter.com/dog_rates/status/741067306...                12   \n",
       "889   https://twitter.com/dog_rates/status/759793422...                12   \n",
       "956   https://twitter.com/dog_rates/status/751583847...                 5   \n",
       "1063  https://twitter.com/dog_rates/status/741067306...                12   \n",
       "1113  https://twitter.com/dog_rates/status/733109485...                12   \n",
       "\n",
       "      rating_denominator    name  doggo floofer  pupper puppo  \n",
       "460                   10    Dido  doggo    None  pupper  None  \n",
       "531                   10    None  doggo    None  pupper  None  \n",
       "565                   10    None  doggo    None  pupper  None  \n",
       "575                   10   Bones  doggo    None  pupper  None  \n",
       "705                   10   Pinot  doggo    None  pupper  None  \n",
       "733                   10    None  doggo    None  pupper  None  \n",
       "778                   10    None  doggo    None  pupper  None  \n",
       "822                   10    just  doggo    None  pupper  None  \n",
       "889                   10  Maggie  doggo    None  pupper  None  \n",
       "956                   10    None  doggo    None  pupper  None  \n",
       "1063                  10    just  doggo    None  pupper  None  \n",
       "1113                  10    None  doggo    None  pupper  None  "
      ]
     },
     "execution_count": 16,
     "metadata": {},
     "output_type": "execute_result"
    }
   ],
   "source": [
    "df[(df['doggo'] != \"None\") & (df['pupper'] != \"None\")]"
   ]
  },
  {
   "cell_type": "markdown",
   "id": "73120f52",
   "metadata": {},
   "source": [
    "* index 460 - dog stage is actually `pupper` therefore `doggo` has to be replaced with `None`\n",
    "* index 575 - dog is actually a `pupper` therefore `doggo` has to be replaced with `None`\n",
    "* index 705 - even though the animal is not a dog it's given stage was `doggo` not `pupper`\n",
    "* index 956 - even though two dog stages were mentioned, none applies to the dog\n",
    "\n",
    "NB: for indexes that were not mentioned, there were two dogs in the tweet hence the double stages"
   ]
  },
  {
   "cell_type": "code",
   "execution_count": 17,
   "id": "cf5a6393",
   "metadata": {},
   "outputs": [
    {
     "data": {
      "text/html": [
       "<div>\n",
       "<style scoped>\n",
       "    .dataframe tbody tr th:only-of-type {\n",
       "        vertical-align: middle;\n",
       "    }\n",
       "\n",
       "    .dataframe tbody tr th {\n",
       "        vertical-align: top;\n",
       "    }\n",
       "\n",
       "    .dataframe thead th {\n",
       "        text-align: right;\n",
       "    }\n",
       "</style>\n",
       "<table border=\"1\" class=\"dataframe\">\n",
       "  <thead>\n",
       "    <tr style=\"text-align: right;\">\n",
       "      <th></th>\n",
       "      <th>tweet_id</th>\n",
       "      <th>in_reply_to_status_id</th>\n",
       "      <th>in_reply_to_user_id</th>\n",
       "      <th>timestamp</th>\n",
       "      <th>source</th>\n",
       "      <th>text</th>\n",
       "      <th>retweeted_status_id</th>\n",
       "      <th>retweeted_status_user_id</th>\n",
       "      <th>retweeted_status_timestamp</th>\n",
       "      <th>expanded_urls</th>\n",
       "      <th>rating_numerator</th>\n",
       "      <th>rating_denominator</th>\n",
       "      <th>name</th>\n",
       "      <th>doggo</th>\n",
       "      <th>floofer</th>\n",
       "      <th>pupper</th>\n",
       "      <th>puppo</th>\n",
       "    </tr>\n",
       "  </thead>\n",
       "  <tbody>\n",
       "    <tr>\n",
       "      <th>191</th>\n",
       "      <td>855851453814013952</td>\n",
       "      <td>NaN</td>\n",
       "      <td>NaN</td>\n",
       "      <td>2017-04-22 18:31:02 +0000</td>\n",
       "      <td>&lt;a href=\"http://twitter.com/download/iphone\" r...</td>\n",
       "      <td>Here's a puppo participating in the #ScienceMa...</td>\n",
       "      <td>NaN</td>\n",
       "      <td>NaN</td>\n",
       "      <td>NaN</td>\n",
       "      <td>https://twitter.com/dog_rates/status/855851453...</td>\n",
       "      <td>13</td>\n",
       "      <td>10</td>\n",
       "      <td>None</td>\n",
       "      <td>doggo</td>\n",
       "      <td>None</td>\n",
       "      <td>None</td>\n",
       "      <td>puppo</td>\n",
       "    </tr>\n",
       "  </tbody>\n",
       "</table>\n",
       "</div>"
      ],
      "text/plain": [
       "               tweet_id  in_reply_to_status_id  in_reply_to_user_id  \\\n",
       "191  855851453814013952                    NaN                  NaN   \n",
       "\n",
       "                     timestamp  \\\n",
       "191  2017-04-22 18:31:02 +0000   \n",
       "\n",
       "                                                source  \\\n",
       "191  <a href=\"http://twitter.com/download/iphone\" r...   \n",
       "\n",
       "                                                  text  retweeted_status_id  \\\n",
       "191  Here's a puppo participating in the #ScienceMa...                  NaN   \n",
       "\n",
       "     retweeted_status_user_id retweeted_status_timestamp  \\\n",
       "191                       NaN                        NaN   \n",
       "\n",
       "                                         expanded_urls  rating_numerator  \\\n",
       "191  https://twitter.com/dog_rates/status/855851453...                13   \n",
       "\n",
       "     rating_denominator  name  doggo floofer pupper  puppo  \n",
       "191                  10  None  doggo    None   None  puppo  "
      ]
     },
     "execution_count": 17,
     "metadata": {},
     "output_type": "execute_result"
    }
   ],
   "source": [
    "df[(df['doggo'] != \"None\") & (df['puppo'] != \"None\")]"
   ]
  },
  {
   "cell_type": "markdown",
   "id": "925cd3db",
   "metadata": {},
   "source": [
    "* index 191 - dog stage is `puppo` even though `doggo` was mentioned in the tweet"
   ]
  },
  {
   "cell_type": "code",
   "execution_count": 18,
   "id": "66abe2b4",
   "metadata": {},
   "outputs": [
    {
     "data": {
      "text/html": [
       "<div>\n",
       "<style scoped>\n",
       "    .dataframe tbody tr th:only-of-type {\n",
       "        vertical-align: middle;\n",
       "    }\n",
       "\n",
       "    .dataframe tbody tr th {\n",
       "        vertical-align: top;\n",
       "    }\n",
       "\n",
       "    .dataframe thead th {\n",
       "        text-align: right;\n",
       "    }\n",
       "</style>\n",
       "<table border=\"1\" class=\"dataframe\">\n",
       "  <thead>\n",
       "    <tr style=\"text-align: right;\">\n",
       "      <th></th>\n",
       "      <th>tweet_id</th>\n",
       "      <th>in_reply_to_status_id</th>\n",
       "      <th>in_reply_to_user_id</th>\n",
       "      <th>timestamp</th>\n",
       "      <th>source</th>\n",
       "      <th>text</th>\n",
       "      <th>retweeted_status_id</th>\n",
       "      <th>retweeted_status_user_id</th>\n",
       "      <th>retweeted_status_timestamp</th>\n",
       "      <th>expanded_urls</th>\n",
       "      <th>rating_numerator</th>\n",
       "      <th>rating_denominator</th>\n",
       "      <th>name</th>\n",
       "      <th>doggo</th>\n",
       "      <th>floofer</th>\n",
       "      <th>pupper</th>\n",
       "      <th>puppo</th>\n",
       "    </tr>\n",
       "  </thead>\n",
       "  <tbody>\n",
       "  </tbody>\n",
       "</table>\n",
       "</div>"
      ],
      "text/plain": [
       "Empty DataFrame\n",
       "Columns: [tweet_id, in_reply_to_status_id, in_reply_to_user_id, timestamp, source, text, retweeted_status_id, retweeted_status_user_id, retweeted_status_timestamp, expanded_urls, rating_numerator, rating_denominator, name, doggo, floofer, pupper, puppo]\n",
       "Index: []"
      ]
     },
     "execution_count": 18,
     "metadata": {},
     "output_type": "execute_result"
    }
   ],
   "source": [
    "df[(df['floofer'] != \"None\") & (df['pupper'] != \"None\")]"
   ]
  },
  {
   "cell_type": "markdown",
   "id": "a9bc5a58",
   "metadata": {},
   "source": [
    "No tweets with both `floofer` and `pupper` stages"
   ]
  },
  {
   "cell_type": "code",
   "execution_count": 19,
   "id": "f684d435",
   "metadata": {},
   "outputs": [
    {
     "data": {
      "text/html": [
       "<div>\n",
       "<style scoped>\n",
       "    .dataframe tbody tr th:only-of-type {\n",
       "        vertical-align: middle;\n",
       "    }\n",
       "\n",
       "    .dataframe tbody tr th {\n",
       "        vertical-align: top;\n",
       "    }\n",
       "\n",
       "    .dataframe thead th {\n",
       "        text-align: right;\n",
       "    }\n",
       "</style>\n",
       "<table border=\"1\" class=\"dataframe\">\n",
       "  <thead>\n",
       "    <tr style=\"text-align: right;\">\n",
       "      <th></th>\n",
       "      <th>tweet_id</th>\n",
       "      <th>in_reply_to_status_id</th>\n",
       "      <th>in_reply_to_user_id</th>\n",
       "      <th>timestamp</th>\n",
       "      <th>source</th>\n",
       "      <th>text</th>\n",
       "      <th>retweeted_status_id</th>\n",
       "      <th>retweeted_status_user_id</th>\n",
       "      <th>retweeted_status_timestamp</th>\n",
       "      <th>expanded_urls</th>\n",
       "      <th>rating_numerator</th>\n",
       "      <th>rating_denominator</th>\n",
       "      <th>name</th>\n",
       "      <th>doggo</th>\n",
       "      <th>floofer</th>\n",
       "      <th>pupper</th>\n",
       "      <th>puppo</th>\n",
       "    </tr>\n",
       "  </thead>\n",
       "  <tbody>\n",
       "  </tbody>\n",
       "</table>\n",
       "</div>"
      ],
      "text/plain": [
       "Empty DataFrame\n",
       "Columns: [tweet_id, in_reply_to_status_id, in_reply_to_user_id, timestamp, source, text, retweeted_status_id, retweeted_status_user_id, retweeted_status_timestamp, expanded_urls, rating_numerator, rating_denominator, name, doggo, floofer, pupper, puppo]\n",
       "Index: []"
      ]
     },
     "execution_count": 19,
     "metadata": {},
     "output_type": "execute_result"
    }
   ],
   "source": [
    "df[(df['floofer'] != \"None\") & (df['puppo'] != \"None\")]"
   ]
  },
  {
   "cell_type": "markdown",
   "id": "3f9132c8",
   "metadata": {},
   "source": [
    "No tweets with `floofer` and `puppo` stages"
   ]
  },
  {
   "cell_type": "code",
   "execution_count": 20,
   "id": "01442e08",
   "metadata": {},
   "outputs": [
    {
     "data": {
      "text/html": [
       "<div>\n",
       "<style scoped>\n",
       "    .dataframe tbody tr th:only-of-type {\n",
       "        vertical-align: middle;\n",
       "    }\n",
       "\n",
       "    .dataframe tbody tr th {\n",
       "        vertical-align: top;\n",
       "    }\n",
       "\n",
       "    .dataframe thead th {\n",
       "        text-align: right;\n",
       "    }\n",
       "</style>\n",
       "<table border=\"1\" class=\"dataframe\">\n",
       "  <thead>\n",
       "    <tr style=\"text-align: right;\">\n",
       "      <th></th>\n",
       "      <th>tweet_id</th>\n",
       "      <th>in_reply_to_status_id</th>\n",
       "      <th>in_reply_to_user_id</th>\n",
       "      <th>timestamp</th>\n",
       "      <th>source</th>\n",
       "      <th>text</th>\n",
       "      <th>retweeted_status_id</th>\n",
       "      <th>retweeted_status_user_id</th>\n",
       "      <th>retweeted_status_timestamp</th>\n",
       "      <th>expanded_urls</th>\n",
       "      <th>rating_numerator</th>\n",
       "      <th>rating_denominator</th>\n",
       "      <th>name</th>\n",
       "      <th>doggo</th>\n",
       "      <th>floofer</th>\n",
       "      <th>pupper</th>\n",
       "      <th>puppo</th>\n",
       "    </tr>\n",
       "  </thead>\n",
       "  <tbody>\n",
       "  </tbody>\n",
       "</table>\n",
       "</div>"
      ],
      "text/plain": [
       "Empty DataFrame\n",
       "Columns: [tweet_id, in_reply_to_status_id, in_reply_to_user_id, timestamp, source, text, retweeted_status_id, retweeted_status_user_id, retweeted_status_timestamp, expanded_urls, rating_numerator, rating_denominator, name, doggo, floofer, pupper, puppo]\n",
       "Index: []"
      ]
     },
     "execution_count": 20,
     "metadata": {},
     "output_type": "execute_result"
    }
   ],
   "source": [
    "df[(df['pupper'] != \"None\") & (df['puppo'] != \"None\")]"
   ]
  },
  {
   "cell_type": "markdown",
   "id": "8a65dbaa",
   "metadata": {},
   "source": [
    "No tweets with `pupper` and `puppo` stages"
   ]
  },
  {
   "cell_type": "code",
   "execution_count": 21,
   "id": "5cdeaada",
   "metadata": {
    "scrolled": true
   },
   "outputs": [
    {
     "data": {
      "text/plain": [
       "10     2333\n",
       "11        3\n",
       "50        3\n",
       "20        2\n",
       "80        2\n",
       "70        1\n",
       "7         1\n",
       "15        1\n",
       "150       1\n",
       "170       1\n",
       "0         1\n",
       "90        1\n",
       "40        1\n",
       "130       1\n",
       "110       1\n",
       "16        1\n",
       "120       1\n",
       "2         1\n",
       "Name: rating_denominator, dtype: int64"
      ]
     },
     "execution_count": 21,
     "metadata": {},
     "output_type": "execute_result"
    }
   ],
   "source": [
    "# checking the distribution of numbers in the `rating_denominators` column\n",
    "df.rating_denominator.value_counts()"
   ]
  },
  {
   "cell_type": "markdown",
   "id": "5b68c727",
   "metadata": {},
   "source": [
    "The rating denominator is almost always 10 and as the ratings were extracted from the text so I will display the text of tweets where the denominator is not 10 to and identify any problems with the ratings extraction "
   ]
  },
  {
   "cell_type": "code",
   "execution_count": 22,
   "id": "f257ae2f",
   "metadata": {
    "scrolled": true
   },
   "outputs": [
    {
     "data": {
      "text/plain": [
       "['RT @dog_rates: After so many requests, this is Bretagne. She was the last surviving 9/11 search dog, and our second ever 14/10. RIP https:/…',\n",
       " 'After so many requests, this is Bretagne. She was the last surviving 9/11 search dog, and our second ever 14/10. RIP https://t.co/XAVDNDaVgQ',\n",
       " 'This is Darrel. He just robbed a 7/11 and is in a high speed police chase. Was just spotted by the helicopter 10/10 https://t.co/7EsP8LmSp5']"
      ]
     },
     "execution_count": 22,
     "metadata": {},
     "output_type": "execute_result"
    }
   ],
   "source": [
    "df.query('rating_denominator == 11').text.tolist()"
   ]
  },
  {
   "cell_type": "code",
   "execution_count": 23,
   "id": "42fd65b3",
   "metadata": {},
   "outputs": [
    {
     "data": {
      "text/plain": [
       "Int64Index([784, 1068, 1662], dtype='int64')"
      ]
     },
     "execution_count": 23,
     "metadata": {},
     "output_type": "execute_result"
    }
   ],
   "source": [
    "df.query('rating_denominator == 11').index"
   ]
  },
  {
   "cell_type": "markdown",
   "id": "91c3c5ca",
   "metadata": {},
   "source": [
    "* index 784 is a retweet of the tweet ID in index 1068 and must be dropped\n",
    "* index 1068 - rating numerator is actually 14 and denominator is 10 \n",
    "* index 1662 - rating numerator is actually 10 and denominator is 10"
   ]
  },
  {
   "cell_type": "code",
   "execution_count": 24,
   "id": "715a8fe7",
   "metadata": {
    "scrolled": true
   },
   "outputs": [
    {
     "data": {
      "text/plain": [
       "['This is Bluebert. He just saw that both #FinalFur match ups are split 50/50. Amazed af. 11/10 https://t.co/Kky1DPG4iq',\n",
       " 'From left to right:\\nCletus, Jerome, Alejandro, Burp, &amp; Titson\\nNone know where camera is. 45/50 would hug all at once https://t.co/sedre1ivTK',\n",
       " \"Here is a whole flock of puppers.  60/50 I'll take the lot https://t.co/9dpcw6MdWa\"]"
      ]
     },
     "execution_count": 24,
     "metadata": {},
     "output_type": "execute_result"
    }
   ],
   "source": [
    "df.query('rating_denominator == 50').text.tolist()"
   ]
  },
  {
   "cell_type": "code",
   "execution_count": 25,
   "id": "ef518fea",
   "metadata": {},
   "outputs": [
    {
     "data": {
      "text/plain": [
       "Int64Index([1202, 1274, 1351], dtype='int64')"
      ]
     },
     "execution_count": 25,
     "metadata": {},
     "output_type": "execute_result"
    }
   ],
   "source": [
    "df.query('rating_denominator == 50').index"
   ]
  },
  {
   "cell_type": "markdown",
   "id": "b2a316ea",
   "metadata": {},
   "source": [
    "* Index 1202 - the actual rating is 11/10 not 50/50 \n",
    "* In the second and third indexes, the ratings were given to a group of dogs"
   ]
  },
  {
   "cell_type": "code",
   "execution_count": 26,
   "id": "7a65903f",
   "metadata": {},
   "outputs": [
    {
     "data": {
      "text/plain": [
       "['Happy 4/20 from the squad! 13/10 for all https://t.co/eV1diwds8a',\n",
       " \"Yes I do realize a rating of 4/20 would've been fitting. However, it would be unjust to give these cooperative pups that low of a rating\"]"
      ]
     },
     "execution_count": 26,
     "metadata": {},
     "output_type": "execute_result"
    }
   ],
   "source": [
    "df.query('rating_denominator == 20').text.tolist()"
   ]
  },
  {
   "cell_type": "code",
   "execution_count": 27,
   "id": "498a8ecb",
   "metadata": {},
   "outputs": [
    {
     "data": {
      "text/plain": [
       "Int64Index([1165, 1598], dtype='int64')"
      ]
     },
     "execution_count": 27,
     "metadata": {},
     "output_type": "execute_result"
    }
   ],
   "source": [
    "df.query('rating_denominator == 20').index"
   ]
  },
  {
   "cell_type": "markdown",
   "id": "13c16270",
   "metadata": {},
   "source": [
    "* Index 1165 - the rating is actually 13/10\n",
    "* Index 1598 - the tweet is a reply and not an actual rating"
   ]
  },
  {
   "cell_type": "code",
   "execution_count": 28,
   "id": "db7ae6c2",
   "metadata": {},
   "outputs": [
    {
     "data": {
      "text/plain": [
       "[\"Here's a brigade of puppers. All look very prepared for whatever happens next. 80/80 https://t.co/0eb7R1Om12\",\n",
       " 'Here we have an entire platoon of puppers. Total score: 88/80 would pet all at once https://t.co/y93p6FLvVw']"
      ]
     },
     "execution_count": 28,
     "metadata": {},
     "output_type": "execute_result"
    }
   ],
   "source": [
    "df.query('rating_denominator == 80').text.tolist()"
   ]
  },
  {
   "cell_type": "markdown",
   "id": "1ad59b65",
   "metadata": {},
   "source": [
    "For both instances, the ratings were given to a group of dogs"
   ]
  },
  {
   "cell_type": "code",
   "execution_count": 29,
   "id": "4cd51560",
   "metadata": {},
   "outputs": [
    {
     "data": {
      "text/plain": [
       "['The floofs have been released I repeat the floofs have been released. 84/70 https://t.co/NIYC820tmd']"
      ]
     },
     "execution_count": 29,
     "metadata": {},
     "output_type": "execute_result"
    }
   ],
   "source": [
    "df.query('rating_denominator == 70').text.tolist()"
   ]
  },
  {
   "cell_type": "markdown",
   "id": "eb896dc6",
   "metadata": {},
   "source": [
    "Rating was for a group of dogs"
   ]
  },
  {
   "cell_type": "code",
   "execution_count": 30,
   "id": "eb3d87c4",
   "metadata": {
    "scrolled": true
   },
   "outputs": [
    {
     "data": {
      "text/plain": [
       "['Meet Sam. She smiles 24/7 &amp; secretly aspires to be a reindeer. \\nKeep Sam smiling by clicking and sharing this link:\\nhttps://t.co/98tB8y7y7t https://t.co/LouL5vdvxx']"
      ]
     },
     "execution_count": 30,
     "metadata": {},
     "output_type": "execute_result"
    }
   ],
   "source": [
    "df.query('rating_denominator == 7').text.tolist()"
   ]
  },
  {
   "cell_type": "code",
   "execution_count": 31,
   "id": "f5899365",
   "metadata": {},
   "outputs": [
    {
     "data": {
      "text/plain": [
       "Int64Index([516], dtype='int64')"
      ]
     },
     "execution_count": 31,
     "metadata": {},
     "output_type": "execute_result"
    }
   ],
   "source": [
    "df.query('rating_denominator == 7').index"
   ]
  },
  {
   "cell_type": "markdown",
   "id": "75e10963",
   "metadata": {},
   "source": [
    "* index 516 - 24/7 is not a rating and there was no given rating in the tweet."
   ]
  },
  {
   "cell_type": "code",
   "execution_count": 32,
   "id": "f1b87aaf",
   "metadata": {},
   "outputs": [
    {
     "data": {
      "text/plain": [
       "['@docmisterio account started on 11/15/15']"
      ]
     },
     "execution_count": 32,
     "metadata": {},
     "output_type": "execute_result"
    }
   ],
   "source": [
    "df.query('rating_denominator == 15').text.tolist()"
   ]
  },
  {
   "cell_type": "code",
   "execution_count": 33,
   "id": "e2d1a76f",
   "metadata": {},
   "outputs": [
    {
     "data": {
      "text/plain": [
       "Int64Index([342], dtype='int64')"
      ]
     },
     "execution_count": 33,
     "metadata": {},
     "output_type": "execute_result"
    }
   ],
   "source": [
    "df.query('rating_denominator == 15').index"
   ]
  },
  {
   "cell_type": "markdown",
   "id": "54f51db8",
   "metadata": {},
   "source": [
    "* index 342 - tweet was a reply to another user and not a dog rating"
   ]
  },
  {
   "cell_type": "code",
   "execution_count": 34,
   "id": "c4227c7b",
   "metadata": {},
   "outputs": [
    {
     "data": {
      "text/plain": [
       "['Why does this never happen at my front door... 165/150 https://t.co/HmwrdfEfUE']"
      ]
     },
     "execution_count": 34,
     "metadata": {},
     "output_type": "execute_result"
    }
   ],
   "source": [
    "df.query('rating_denominator == 150').text.tolist()"
   ]
  },
  {
   "cell_type": "markdown",
   "id": "1e1b0ce4",
   "metadata": {},
   "source": [
    "rating was for a group of dogs"
   ]
  },
  {
   "cell_type": "code",
   "execution_count": 35,
   "id": "e89bf4f2",
   "metadata": {},
   "outputs": [
    {
     "data": {
      "text/plain": [
       "['Say hello to this unbelievably well behaved squad of doggos. 204/170 would try to pet all at once https://t.co/yGQI3He3xv']"
      ]
     },
     "execution_count": 35,
     "metadata": {},
     "output_type": "execute_result"
    }
   ],
   "source": [
    "df.query('rating_denominator == 170').text.tolist()"
   ]
  },
  {
   "cell_type": "markdown",
   "id": "040b1e91",
   "metadata": {},
   "source": [
    "rating was for a group of dogs"
   ]
  },
  {
   "cell_type": "code",
   "execution_count": 36,
   "id": "508d7d79",
   "metadata": {},
   "outputs": [
    {
     "data": {
      "text/plain": [
       "[\"@jonnysun @Lin_Manuel ok jomny I know you're excited but 960/00 isn't a valid rating, 13/10 is tho\"]"
      ]
     },
     "execution_count": 36,
     "metadata": {},
     "output_type": "execute_result"
    }
   ],
   "source": [
    "df.query('rating_denominator == 0').text.tolist()"
   ]
  },
  {
   "cell_type": "code",
   "execution_count": 37,
   "id": "97f45719",
   "metadata": {},
   "outputs": [
    {
     "data": {
      "text/plain": [
       "Int64Index([313], dtype='int64')"
      ]
     },
     "execution_count": 37,
     "metadata": {},
     "output_type": "execute_result"
    }
   ],
   "source": [
    "df.query('rating_denominator == 0').index"
   ]
  },
  {
   "cell_type": "markdown",
   "id": "e41c68bc",
   "metadata": {},
   "source": [
    "* index 313 - This is a reply to another user and not an actual dog rating"
   ]
  },
  {
   "cell_type": "code",
   "execution_count": 38,
   "id": "ace0d247",
   "metadata": {},
   "outputs": [
    {
     "data": {
      "text/plain": [
       "[\"Happy Saturday here's 9 puppers on a bench. 99/90 good work everybody https://t.co/mpvaVxKmc1\"]"
      ]
     },
     "execution_count": 38,
     "metadata": {},
     "output_type": "execute_result"
    }
   ],
   "source": [
    "df.query('rating_denominator == 90').text.tolist()"
   ]
  },
  {
   "cell_type": "markdown",
   "id": "a45443c8",
   "metadata": {},
   "source": [
    "rating is for a group of dogs"
   ]
  },
  {
   "cell_type": "code",
   "execution_count": 39,
   "id": "7ba765c2",
   "metadata": {},
   "outputs": [
    {
     "data": {
      "text/plain": [
       "[\"Happy Wednesday here's a bucket of pups. 44/40 would pet all at once https://t.co/HppvrYuamZ\"]"
      ]
     },
     "execution_count": 39,
     "metadata": {},
     "output_type": "execute_result"
    }
   ],
   "source": [
    "df.query('rating_denominator == 40').text.tolist()"
   ]
  },
  {
   "cell_type": "markdown",
   "id": "73a00953",
   "metadata": {},
   "source": [
    "Rating is for a group of dogs"
   ]
  },
  {
   "cell_type": "code",
   "execution_count": 40,
   "id": "6e465d23",
   "metadata": {
    "scrolled": true
   },
   "outputs": [
    {
     "data": {
      "text/plain": [
       "['Two sneaky puppers were not initially seen, moving the rating to 143/130. Please forgive us. Thank you https://t.co/kRK51Y5ac3']"
      ]
     },
     "execution_count": 40,
     "metadata": {},
     "output_type": "execute_result"
    }
   ],
   "source": [
    "df.query('rating_denominator == 130').text.tolist()"
   ]
  },
  {
   "cell_type": "markdown",
   "id": "a63d8cd3",
   "metadata": {},
   "source": [
    "After checking the tweet on Twitter, I realized the initial rating was 121/110 but WeRateDogs changed the rating to 143/130."
   ]
  },
  {
   "cell_type": "code",
   "execution_count": 41,
   "id": "a3459225",
   "metadata": {},
   "outputs": [
    {
     "data": {
      "text/plain": [
       "['Someone help the girl is being mugged. Several are distracting her while two steal her shoes. Clever puppers 121/110 https://t.co/1zfnTJLt55']"
      ]
     },
     "execution_count": 41,
     "metadata": {},
     "output_type": "execute_result"
    }
   ],
   "source": [
    "df.query('rating_denominator == 110').text.tolist()"
   ]
  },
  {
   "cell_type": "code",
   "execution_count": 42,
   "id": "1ee91acf",
   "metadata": {},
   "outputs": [
    {
     "data": {
      "text/plain": [
       "Int64Index([1635], dtype='int64')"
      ]
     },
     "execution_count": 42,
     "metadata": {},
     "output_type": "execute_result"
    }
   ],
   "source": [
    "df.query('rating_denominator == 110').index"
   ]
  },
  {
   "cell_type": "markdown",
   "id": "042a8fe6",
   "metadata": {},
   "source": [
    "* index 1635 - This is the tweet where the initial rating was 121/110 but changed to 143/130"
   ]
  },
  {
   "cell_type": "code",
   "execution_count": 43,
   "id": "27e0ed48",
   "metadata": {},
   "outputs": [
    {
     "data": {
      "text/plain": [
       "[\"I'm aware that I could've said 20/16, but here at WeRateDogs we are very professional. An inconsistent rating scale is simply irresponsible\"]"
      ]
     },
     "execution_count": 43,
     "metadata": {},
     "output_type": "execute_result"
    }
   ],
   "source": [
    "df.query('rating_denominator == 16').text.tolist()"
   ]
  },
  {
   "cell_type": "code",
   "execution_count": 44,
   "id": "5272c30c",
   "metadata": {},
   "outputs": [
    {
     "data": {
      "text/plain": [
       "Int64Index([1663], dtype='int64')"
      ]
     },
     "execution_count": 44,
     "metadata": {},
     "output_type": "execute_result"
    }
   ],
   "source": [
    "df.query('rating_denominator == 16').index"
   ]
  },
  {
   "cell_type": "markdown",
   "id": "d60c69fa",
   "metadata": {},
   "source": [
    "* index 1663 - After viewing the tweet on Twitter, I discovered that it was not a dog rating."
   ]
  },
  {
   "cell_type": "code",
   "execution_count": 45,
   "id": "0d84ec32",
   "metadata": {},
   "outputs": [
    {
     "data": {
      "text/plain": [
       "[\"IT'S PUPPERGEDDON. Total of 144/120 ...I think https://t.co/ZanVtAtvIq\"]"
      ]
     },
     "execution_count": 45,
     "metadata": {},
     "output_type": "execute_result"
    }
   ],
   "source": [
    "df.query('rating_denominator == 120').text.tolist()"
   ]
  },
  {
   "cell_type": "markdown",
   "id": "7ed877be",
   "metadata": {},
   "source": [
    "Rating was for a group of dogs"
   ]
  },
  {
   "cell_type": "code",
   "execution_count": 46,
   "id": "eca50ae3",
   "metadata": {
    "scrolled": true
   },
   "outputs": [
    {
     "data": {
      "text/plain": [
       "['This is an Albanian 3 1/2 legged  Episcopalian. Loves well-polished hardwood flooring. Penis on the collar. 9/10 https://t.co/d9NcXFKwLv']"
      ]
     },
     "execution_count": 46,
     "metadata": {},
     "output_type": "execute_result"
    }
   ],
   "source": [
    "df.query('rating_denominator == 2').text.tolist()"
   ]
  },
  {
   "cell_type": "code",
   "execution_count": 47,
   "id": "b1c722bf",
   "metadata": {},
   "outputs": [
    {
     "data": {
      "text/plain": [
       "Int64Index([2335], dtype='int64')"
      ]
     },
     "execution_count": 47,
     "metadata": {},
     "output_type": "execute_result"
    }
   ],
   "source": [
    "df.query('rating_denominator == 2').index"
   ]
  },
  {
   "cell_type": "markdown",
   "id": "db5cbb5a",
   "metadata": {},
   "source": [
    "* index 2335 - The actual rating is 9/10"
   ]
  },
  {
   "cell_type": "code",
   "execution_count": 48,
   "id": "e5522930",
   "metadata": {
    "scrolled": true
   },
   "outputs": [
    {
     "data": {
      "text/plain": [
       "12      558\n",
       "11      464\n",
       "10      461\n",
       "13      351\n",
       "9       158\n",
       "8       102\n",
       "7        55\n",
       "14       54\n",
       "5        37\n",
       "6        32\n",
       "3        19\n",
       "4        17\n",
       "2         9\n",
       "1         9\n",
       "75        2\n",
       "15        2\n",
       "420       2\n",
       "0         2\n",
       "80        1\n",
       "144       1\n",
       "17        1\n",
       "26        1\n",
       "20        1\n",
       "121       1\n",
       "143       1\n",
       "44        1\n",
       "60        1\n",
       "45        1\n",
       "50        1\n",
       "99        1\n",
       "204       1\n",
       "1776      1\n",
       "165       1\n",
       "666       1\n",
       "27        1\n",
       "182       1\n",
       "24        1\n",
       "960       1\n",
       "84        1\n",
       "88        1\n",
       "Name: rating_numerator, dtype: int64"
      ]
     },
     "execution_count": 48,
     "metadata": {},
     "output_type": "execute_result"
    }
   ],
   "source": [
    "# checking the distribution of numbers in the `rating_numerator` column\n",
    "df.rating_numerator.value_counts()"
   ]
  },
  {
   "cell_type": "markdown",
   "id": "0cca54d8",
   "metadata": {},
   "source": [
    "Because some of the ratings were given only once, I decided to investigate those ratings to see if they were the correct ratings or had been extracted wrongly. Where there were no issues with the rating, I did not comment but where i discovered an issue with the rating, I commented below noting the index to be used to correct the issue."
   ]
  },
  {
   "cell_type": "code",
   "execution_count": 49,
   "id": "1c419fd0",
   "metadata": {},
   "outputs": [
    {
     "data": {
      "text/plain": [
       "['Here we have an entire platoon of puppers. Total score: 88/80 would pet all at once https://t.co/y93p6FLvVw']"
      ]
     },
     "execution_count": 49,
     "metadata": {},
     "output_type": "execute_result"
    }
   ],
   "source": [
    "df.query('rating_numerator == 88').text.tolist()"
   ]
  },
  {
   "cell_type": "code",
   "execution_count": 50,
   "id": "5f07a0b4",
   "metadata": {},
   "outputs": [
    {
     "data": {
      "text/plain": [
       "['The floofs have been released I repeat the floofs have been released. 84/70 https://t.co/NIYC820tmd']"
      ]
     },
     "execution_count": 50,
     "metadata": {},
     "output_type": "execute_result"
    }
   ],
   "source": [
    "df.query('rating_numerator == 84').text.tolist()"
   ]
  },
  {
   "cell_type": "code",
   "execution_count": 51,
   "id": "8ef4a588",
   "metadata": {},
   "outputs": [
    {
     "data": {
      "text/plain": [
       "[\"@jonnysun @Lin_Manuel ok jomny I know you're excited but 960/00 isn't a valid rating, 13/10 is tho\"]"
      ]
     },
     "execution_count": 51,
     "metadata": {},
     "output_type": "execute_result"
    }
   ],
   "source": [
    "df.query('rating_numerator == 960').text.tolist()"
   ]
  },
  {
   "cell_type": "markdown",
   "id": "54482245",
   "metadata": {},
   "source": [
    "Tweet is not a rating but issue has already been discovered under `rating_denominator` value counts"
   ]
  },
  {
   "cell_type": "code",
   "execution_count": 52,
   "id": "eb1a98e0",
   "metadata": {},
   "outputs": [
    {
     "data": {
      "text/plain": [
       "['Meet Sam. She smiles 24/7 &amp; secretly aspires to be a reindeer. \\nKeep Sam smiling by clicking and sharing this link:\\nhttps://t.co/98tB8y7y7t https://t.co/LouL5vdvxx']"
      ]
     },
     "execution_count": 52,
     "metadata": {},
     "output_type": "execute_result"
    }
   ],
   "source": [
    "df.query('rating_numerator == 24').text.tolist()"
   ]
  },
  {
   "cell_type": "markdown",
   "id": "29b22f12",
   "metadata": {},
   "source": [
    "24/7 is not the rating but issue has already been discovered in `rating_denominator` value counts "
   ]
  },
  {
   "cell_type": "code",
   "execution_count": 53,
   "id": "18c71991",
   "metadata": {},
   "outputs": [
    {
     "data": {
      "text/plain": [
       "['@markhoppus 182/10']"
      ]
     },
     "execution_count": 53,
     "metadata": {},
     "output_type": "execute_result"
    }
   ],
   "source": [
    "df.query('rating_numerator == 182').text.tolist()"
   ]
  },
  {
   "cell_type": "code",
   "execution_count": 54,
   "id": "50587f66",
   "metadata": {},
   "outputs": [
    {
     "data": {
      "text/plain": [
       "[\"This is Sophie. She's a Jubilant Bush Pupper. Super h*ckin rare. Appears at random just to smile at the locals. 11.27/10 would smile back https://t.co/QFaUiIHxHq\"]"
      ]
     },
     "execution_count": 54,
     "metadata": {},
     "output_type": "execute_result"
    }
   ],
   "source": [
    "df.query('rating_numerator == 27').text.tolist()"
   ]
  },
  {
   "cell_type": "code",
   "execution_count": 55,
   "id": "ba981994",
   "metadata": {},
   "outputs": [
    {
     "data": {
      "text/plain": [
       "Int64Index([763], dtype='int64')"
      ]
     },
     "execution_count": 55,
     "metadata": {},
     "output_type": "execute_result"
    }
   ],
   "source": [
    "df.query('rating_numerator == 27').index"
   ]
  },
  {
   "cell_type": "markdown",
   "id": "41cc351d",
   "metadata": {},
   "source": [
    "* index 763 - correct rating is 11.27/10 not 27/10"
   ]
  },
  {
   "cell_type": "code",
   "execution_count": 56,
   "id": "f848f02a",
   "metadata": {},
   "outputs": [
    {
     "data": {
      "text/plain": [
       "['@s8n You tried very hard to portray this good boy as not so good, but you have ultimately failed. His goodness shines through. 666/10']"
      ]
     },
     "execution_count": 56,
     "metadata": {},
     "output_type": "execute_result"
    }
   ],
   "source": [
    "df.query('rating_numerator == 666').text.tolist()"
   ]
  },
  {
   "cell_type": "code",
   "execution_count": 57,
   "id": "9fbc29a7",
   "metadata": {},
   "outputs": [
    {
     "data": {
      "text/plain": [
       "['Why does this never happen at my front door... 165/150 https://t.co/HmwrdfEfUE']"
      ]
     },
     "execution_count": 57,
     "metadata": {},
     "output_type": "execute_result"
    }
   ],
   "source": [
    "df.query('rating_numerator == 165').text.tolist()"
   ]
  },
  {
   "cell_type": "code",
   "execution_count": 58,
   "id": "ce3c81ce",
   "metadata": {},
   "outputs": [
    {
     "data": {
      "text/plain": [
       "[\"This is Atticus. He's quite simply America af. 1776/10 https://t.co/GRXwMxLBkh\"]"
      ]
     },
     "execution_count": 58,
     "metadata": {},
     "output_type": "execute_result"
    }
   ],
   "source": [
    "df.query('rating_numerator == 1776').text.tolist()"
   ]
  },
  {
   "cell_type": "code",
   "execution_count": 59,
   "id": "46bdf362",
   "metadata": {},
   "outputs": [
    {
     "data": {
      "text/plain": [
       "['Say hello to this unbelievably well behaved squad of doggos. 204/170 would try to pet all at once https://t.co/yGQI3He3xv']"
      ]
     },
     "execution_count": 59,
     "metadata": {},
     "output_type": "execute_result"
    }
   ],
   "source": [
    "df.query('rating_numerator == 204').text.tolist()"
   ]
  },
  {
   "cell_type": "code",
   "execution_count": 60,
   "id": "40397cee",
   "metadata": {},
   "outputs": [
    {
     "data": {
      "text/plain": [
       "[\"Happy Saturday here's 9 puppers on a bench. 99/90 good work everybody https://t.co/mpvaVxKmc1\"]"
      ]
     },
     "execution_count": 60,
     "metadata": {},
     "output_type": "execute_result"
    }
   ],
   "source": [
    "df.query('rating_numerator == 99').text.tolist()"
   ]
  },
  {
   "cell_type": "code",
   "execution_count": 61,
   "id": "108a5860",
   "metadata": {},
   "outputs": [
    {
     "data": {
      "text/plain": [
       "['This is Bluebert. He just saw that both #FinalFur match ups are split 50/50. Amazed af. 11/10 https://t.co/Kky1DPG4iq']"
      ]
     },
     "execution_count": 61,
     "metadata": {},
     "output_type": "execute_result"
    }
   ],
   "source": [
    "df.query('rating_numerator == 50').text.tolist()"
   ]
  },
  {
   "cell_type": "markdown",
   "id": "d5871103",
   "metadata": {},
   "source": [
    "Actual rating is 11/10 not 50/50 but issue has already been discovered under rating_denominator"
   ]
  },
  {
   "cell_type": "code",
   "execution_count": 62,
   "id": "10e86bb0",
   "metadata": {},
   "outputs": [
    {
     "data": {
      "text/plain": [
       "['From left to right:\\nCletus, Jerome, Alejandro, Burp, &amp; Titson\\nNone know where camera is. 45/50 would hug all at once https://t.co/sedre1ivTK']"
      ]
     },
     "execution_count": 62,
     "metadata": {},
     "output_type": "execute_result"
    }
   ],
   "source": [
    "df.query('rating_numerator == 45').text.tolist()"
   ]
  },
  {
   "cell_type": "code",
   "execution_count": 63,
   "id": "c374d0ff",
   "metadata": {},
   "outputs": [
    {
     "data": {
      "text/plain": [
       "[\"Here is a whole flock of puppers.  60/50 I'll take the lot https://t.co/9dpcw6MdWa\"]"
      ]
     },
     "execution_count": 63,
     "metadata": {},
     "output_type": "execute_result"
    }
   ],
   "source": [
    "df.query('rating_numerator == 60').text.tolist()"
   ]
  },
  {
   "cell_type": "code",
   "execution_count": 64,
   "id": "92ab94aa",
   "metadata": {},
   "outputs": [
    {
     "data": {
      "text/plain": [
       "[\"Happy Wednesday here's a bucket of pups. 44/40 would pet all at once https://t.co/HppvrYuamZ\"]"
      ]
     },
     "execution_count": 64,
     "metadata": {},
     "output_type": "execute_result"
    }
   ],
   "source": [
    "df.query('rating_numerator == 44').text.tolist()"
   ]
  },
  {
   "cell_type": "code",
   "execution_count": 65,
   "id": "c4a45fcc",
   "metadata": {},
   "outputs": [
    {
     "data": {
      "text/plain": [
       "['Two sneaky puppers were not initially seen, moving the rating to 143/130. Please forgive us. Thank you https://t.co/kRK51Y5ac3']"
      ]
     },
     "execution_count": 65,
     "metadata": {},
     "output_type": "execute_result"
    }
   ],
   "source": [
    "df.query('rating_numerator == 143').text.tolist()"
   ]
  },
  {
   "cell_type": "code",
   "execution_count": 66,
   "id": "e55d3af7",
   "metadata": {},
   "outputs": [
    {
     "data": {
      "text/plain": [
       "['Someone help the girl is being mugged. Several are distracting her while two steal her shoes. Clever puppers 121/110 https://t.co/1zfnTJLt55']"
      ]
     },
     "execution_count": 66,
     "metadata": {},
     "output_type": "execute_result"
    }
   ],
   "source": [
    "df.query('rating_numerator == 121').text.tolist()"
   ]
  },
  {
   "cell_type": "code",
   "execution_count": 67,
   "id": "ba6dc7bb",
   "metadata": {},
   "outputs": [
    {
     "data": {
      "text/plain": [
       "[\"I'm aware that I could've said 20/16, but here at WeRateDogs we are very professional. An inconsistent rating scale is simply irresponsible\"]"
      ]
     },
     "execution_count": 67,
     "metadata": {},
     "output_type": "execute_result"
    }
   ],
   "source": [
    "df.query('rating_numerator == 20').text.tolist()"
   ]
  },
  {
   "cell_type": "code",
   "execution_count": 68,
   "id": "b52701ee",
   "metadata": {},
   "outputs": [
    {
     "data": {
      "text/plain": [
       "['Here we have uncovered an entire battalion of holiday puppers. Average of 11.26/10 https://t.co/eNm2S6p9BD']"
      ]
     },
     "execution_count": 68,
     "metadata": {},
     "output_type": "execute_result"
    }
   ],
   "source": [
    "df.query('rating_numerator == 26').text.tolist()"
   ]
  },
  {
   "cell_type": "code",
   "execution_count": 69,
   "id": "d0cdb876",
   "metadata": {},
   "outputs": [
    {
     "data": {
      "text/plain": [
       "Int64Index([1712], dtype='int64')"
      ]
     },
     "execution_count": 69,
     "metadata": {},
     "output_type": "execute_result"
    }
   ],
   "source": [
    "df.query('rating_numerator == 26').index"
   ]
  },
  {
   "cell_type": "markdown",
   "id": "5969ea27",
   "metadata": {},
   "source": [
    "* index 1712 - correct rating is 11.26/10 not 26/10"
   ]
  },
  {
   "cell_type": "code",
   "execution_count": 70,
   "id": "720b010d",
   "metadata": {},
   "outputs": [
    {
     "data": {
      "text/plain": [
       "['@roushfenway These are good dogs but 17/10 is an emotional impulse rating. More like 13/10s']"
      ]
     },
     "execution_count": 70,
     "metadata": {},
     "output_type": "execute_result"
    }
   ],
   "source": [
    "df.query('rating_numerator == 17').text.tolist()"
   ]
  },
  {
   "cell_type": "code",
   "execution_count": 71,
   "id": "fcbffa3f",
   "metadata": {},
   "outputs": [
    {
     "data": {
      "text/plain": [
       "Int64Index([55], dtype='int64')"
      ]
     },
     "execution_count": 71,
     "metadata": {},
     "output_type": "execute_result"
    }
   ],
   "source": [
    "df.query('rating_numerator == 17').index"
   ]
  },
  {
   "cell_type": "markdown",
   "id": "8fb24190",
   "metadata": {},
   "source": [
    "* index 55 - rating is 13/10 not 17/10"
   ]
  },
  {
   "cell_type": "code",
   "execution_count": 72,
   "id": "ff8ba3b1",
   "metadata": {},
   "outputs": [
    {
     "data": {
      "text/plain": [
       "[\"IT'S PUPPERGEDDON. Total of 144/120 ...I think https://t.co/ZanVtAtvIq\"]"
      ]
     },
     "execution_count": 72,
     "metadata": {},
     "output_type": "execute_result"
    }
   ],
   "source": [
    "df.query('rating_numerator == 144').text.tolist()"
   ]
  },
  {
   "cell_type": "code",
   "execution_count": 73,
   "id": "3e10a6bb",
   "metadata": {},
   "outputs": [
    {
     "data": {
      "text/plain": [
       "[\"Here's a brigade of puppers. All look very prepared for whatever happens next. 80/80 https://t.co/0eb7R1Om12\"]"
      ]
     },
     "execution_count": 73,
     "metadata": {},
     "output_type": "execute_result"
    }
   ],
   "source": [
    "df.query('rating_numerator == 80').text.tolist()"
   ]
  },
  {
   "cell_type": "code",
   "execution_count": 74,
   "id": "cf789193",
   "metadata": {},
   "outputs": [
    {
     "data": {
      "text/plain": [
       "[\"When you're so blinded by your systematic plagiarism that you forget what day it is. 0/10 https://t.co/YbEJPkg4Ag\",\n",
       " \"PUPDATE: can't see any. Even if I could, I couldn't reach them to pet. 0/10 much disappointment https://t.co/c7WXaB2nqX\"]"
      ]
     },
     "execution_count": 74,
     "metadata": {},
     "output_type": "execute_result"
    }
   ],
   "source": [
    "df.query('rating_numerator == 0').text.tolist()"
   ]
  },
  {
   "cell_type": "code",
   "execution_count": 75,
   "id": "a8866895",
   "metadata": {},
   "outputs": [
    {
     "data": {
      "text/plain": [
       "['@dhmontgomery We also gave snoop dogg a 420/10 but I think that predated your research',\n",
       " 'After so many requests... here you go.\\n\\nGood dogg. 420/10 https://t.co/yfAAo1gdeY']"
      ]
     },
     "execution_count": 75,
     "metadata": {},
     "output_type": "execute_result"
    }
   ],
   "source": [
    "df.query('rating_numerator == 420').text.tolist()"
   ]
  },
  {
   "cell_type": "code",
   "execution_count": 76,
   "id": "54c86248",
   "metadata": {},
   "outputs": [
    {
     "data": {
      "text/plain": [
       "Int64Index([188, 2074], dtype='int64')"
      ]
     },
     "execution_count": 76,
     "metadata": {},
     "output_type": "execute_result"
    }
   ],
   "source": [
    "df.query('rating_numerator == 420').index"
   ]
  },
  {
   "cell_type": "markdown",
   "id": "68ffb4ba",
   "metadata": {},
   "source": [
    "* index 188 is a reply and not an actual rating but a mention of the rating in index 2074 therefore must be dropped"
   ]
  },
  {
   "cell_type": "code",
   "execution_count": 77,
   "id": "4cb252a8",
   "metadata": {},
   "outputs": [
    {
     "data": {
      "text/plain": [
       "['RT @KibaDva: I collected all the good dogs!! 15/10 @dog_rates #GoodDogs https://t.co/6UCGFczlOI',\n",
       " '@bragg6of8 @Andy_Pace_ we are still looking for the first 15/10']"
      ]
     },
     "execution_count": 77,
     "metadata": {},
     "output_type": "execute_result"
    }
   ],
   "source": [
    "df.query('rating_numerator == 15').text.tolist()"
   ]
  },
  {
   "cell_type": "code",
   "execution_count": 78,
   "id": "8915c15c",
   "metadata": {},
   "outputs": [
    {
     "data": {
      "text/plain": [
       "[\"RT @dog_rates: This is Logan, the Chow who lived. He solemnly swears he's up to lots of good. H*ckin magical af 9.75/10 https://t.co/yBO5wu…\",\n",
       " \"This is Logan, the Chow who lived. He solemnly swears he's up to lots of good. H*ckin magical af 9.75/10 https://t.co/yBO5wuqaPS\"]"
      ]
     },
     "execution_count": 78,
     "metadata": {},
     "output_type": "execute_result"
    }
   ],
   "source": [
    "df.query('rating_numerator == 75').text.tolist()"
   ]
  },
  {
   "cell_type": "code",
   "execution_count": 79,
   "id": "e94fd1a9",
   "metadata": {},
   "outputs": [
    {
     "data": {
      "text/plain": [
       "Int64Index([340, 695], dtype='int64')"
      ]
     },
     "execution_count": 79,
     "metadata": {},
     "output_type": "execute_result"
    }
   ],
   "source": [
    "df.query('rating_numerator == 75').index"
   ]
  },
  {
   "cell_type": "markdown",
   "id": "ec32e028",
   "metadata": {},
   "source": [
    "* index 340 and 695 - rating is actually 9.75/10 not 75/10 as extracted"
   ]
  },
  {
   "cell_type": "code",
   "execution_count": 80,
   "id": "046218ad",
   "metadata": {},
   "outputs": [
    {
     "data": {
      "text/plain": [
       "[\"RT @dog_rates: Not familiar with this breed. No tail (weird). Only 2 legs. Doesn't bark. Surprisingly quick. Shits eggs. 1/10 https://t.co/…\",\n",
       " 'After reading the comments I may have overestimated this pup. Downgraded to a 1/10. Please forgive me',\n",
       " \"What kind of person sends in a picture without a dog in it? 1/10 just because that's a nice table https://t.co/RDXCfk8hK0\",\n",
       " \"The millennials have spoken and we've decided to immediately demote to a 1/10. Thank you\",\n",
       " 'After 22 minutes of careful deliberation this dog is being demoted to a 1/10. The longer you look at him the more terrifying he becomes',\n",
       " \"Flamboyant pup here. Probably poisonous. Won't eat kibble. Doesn't bark. Slow af. Petting doesn't look fun. 1/10 https://t.co/jxukeh2BeO\",\n",
       " 'Never seen dog like this. Breathes heavy. Tilts head in a pattern. No bark. Shitty at fetch. Not even cordless. 1/10 https://t.co/i9iSGNn3fx',\n",
       " 'This is an Albanian 3 1/2 legged  Episcopalian. Loves well-polished hardwood flooring. Penis on the collar. 9/10 https://t.co/d9NcXFKwLv',\n",
       " \"Not familiar with this breed. No tail (weird). Only 2 legs. Doesn't bark. Surprisingly quick. Shits eggs. 1/10 https://t.co/Asgdc6kuLX\"]"
      ]
     },
     "execution_count": 80,
     "metadata": {},
     "output_type": "execute_result"
    }
   ],
   "source": [
    "df.query('rating_numerator == 1').text.tolist()"
   ]
  },
  {
   "cell_type": "markdown",
   "id": "7bc9daed",
   "metadata": {},
   "source": [
    "In the 8th text, the rating is 9/10 not 1/2 but issue was discovered under rating_denominator vlaue counts"
   ]
  },
  {
   "cell_type": "code",
   "execution_count": 81,
   "id": "5e56d02e",
   "metadata": {
    "scrolled": true
   },
   "outputs": [
    {
     "data": {
      "text/plain": [
       "['Exotic pup here. Tail long af. Throat looks swollen. Might breathe fire. Exceptionally unfluffy 2/10 would still pet https://t.co/a8SqCaSo2r',\n",
       " \"This is Crystal. She's a shitty fireman. No sense of urgency. People could be dying Crystal. 2/10 just irresponsible https://t.co/rtMtjSl9pz\",\n",
       " \"This is Henry. He's a shit dog. Short pointy ears. Leaves trail of pee. Not fluffy. Doesn't come when called. 2/10 https://t.co/Pu9RhfHDEQ\",\n",
       " \"Scary dog here. Too many legs. Extra tail. Not soft, let alone fluffy. Won't bark. Moves sideways. Has weapon. 2/10 https://t.co/XOPXCSXiUT\",\n",
       " \"This lil pup is Oliver. Hops around. Has wings but doesn't fly (lame). Annoying chirp. Won't catch tennis balls 2/10 https://t.co/DnhUw0aBM2\",\n",
       " \"This is Tedrick. He lives on the edge. Needs someone to hit the gas tho. Other than that he's a baller. 10&amp;2/10 https://t.co/LvP1TTYSCN\",\n",
       " \"Unfamiliar with this breed. Ears pointy af. Won't let go of seashell. Won't eat kibble. Not very fast. Bad dog 2/10 https://t.co/EIn5kElY1S\",\n",
       " \"This is quite the dog. Gets really excited when not in water. Not very soft tho. Bad at fetch. Can't do tricks. 2/10 https://t.co/aMCTNWO94t\",\n",
       " \"This is an odd dog. Hard on the outside but loving on the inside. Petting still fun. Doesn't play catch well. 2/10 https://t.co/v5A4vzSDdc\"]"
      ]
     },
     "execution_count": 81,
     "metadata": {},
     "output_type": "execute_result"
    }
   ],
   "source": [
    "df.query('rating_numerator == 2').text.tolist()"
   ]
  },
  {
   "cell_type": "code",
   "execution_count": 82,
   "id": "d30356a2",
   "metadata": {
    "scrolled": true
   },
   "outputs": [
    {
     "data": {
      "text/plain": [
       "['This is Fido. He can tell the weather. Not good at fetch tho. Never comes when called. 4/10 would probably still pet https://t.co/4gOv2Q3iKP',\n",
       " \"Here's another picture without a dog in it. Idk why you guys keep sending these. 4/10 just because that's a neat rug https://t.co/mOmnL19Wsl\",\n",
       " 'Viewer discretion is advised. This is a terrible attack in progress. Not even in water (tragic af). 4/10 bad sherk https://t.co/L3U0j14N5R',\n",
       " 'Happy 4/20 from the squad! 13/10 for all https://t.co/eV1diwds8a',\n",
       " \"This is Benedict. He's a feisty pup. Needs a brushing. Portable af. Looks very angry actually. 4/10 might not pet https://t.co/3oeFfHjv0Z\",\n",
       " \"This is Keurig. He's a rare dog. Laughs like an idiot tho. Head is basically a weapon. Poorly maintained goatee 4/10 https://t.co/xOrUyj7K30\",\n",
       " \"This may be the greatest video I've ever been sent. 4/10 for Charles the puppy, 13/10 overall. (Vid by @stevenxx_) https://t.co/uaJmNgXR2P\",\n",
       " \"Yes I do realize a rating of 4/20 would've been fitting. However, it would be unjust to give these cooperative pups that low of a rating\",\n",
       " \"This is Bobby. He doesn't give a damn about personal space. Convinced he called shotgun first. 4/10 not the best dog https://t.co/b8XW69gSaU\",\n",
       " \"This is Alice. She's an idiot. 4/10 https://t.co/VQXdwJfkyS\",\n",
       " 'This is a heavily opinionated dog. Loves walls. Nobody knows how the hair works. Always ready for a kiss. 4/10 https://t.co/dFiaKZ9cDl',\n",
       " \"Two miniature golden retrievers here. Webbed paws. Don't walk very efficiently. Can't catch a tennis ball. 4/10s https://t.co/WzVLdSHJU7\",\n",
       " \"Pink dogs here. Unreasonably long necks. Left guy has only 1 leg. Quite nimble. Don't bark tho 4/10s would still pet https://t.co/QY5uvMmmQk\",\n",
       " \"Unique dog here. Oddly shaped tail. Long pink front legs. I don't think dogs breath underwater sos. 4/10 bad owner https://t.co/0EJXxE9UxW\",\n",
       " \"Here is a mother dog caring for her pups. Snazzy red mohawk. Doesn't wag tail. Pups look confused. Overall 4/10 https://t.co/YOHe6lf09m\",\n",
       " 'These are strange dogs. All have toupees. Long neck for dogs. In a shed of sorts? Work in groups? 4/10 still petable https://t.co/PZxSarAfSN',\n",
       " \"Cool dog. Enjoys couch. Low monotone bark. Very nice kicks. Pisses milk (must be rare). Can't go down stairs. 4/10 https://t.co/vXMKrJC81s\"]"
      ]
     },
     "execution_count": 82,
     "metadata": {},
     "output_type": "execute_result"
    }
   ],
   "source": [
    "df.query('rating_numerator == 4').text.tolist()"
   ]
  },
  {
   "cell_type": "code",
   "execution_count": 83,
   "id": "a11639d3",
   "metadata": {
    "scrolled": true
   },
   "outputs": [
    {
     "data": {
      "text/plain": [
       "[\"This is Wesley. He's clearly trespassing. Seems rather h*ckin violent too. Weaponized forehead. 3/10 wouldn't let in https://t.co/pL7wbMRW7M\",\n",
       " \"This is Alexanderson. He's got a weird ass birth mark. Dreadful at fetch. Won't eat kibble. 3/10 wtf @Target https://t.co/FmxOpf2Sgl\",\n",
       " \"What hooligan sent in pictures w/out a dog in them? Churlish af. 3/10 just bc that's a neat fluffy bean bag chair https://t.co/wcwoGOkZvz\",\n",
       " \"This is Elliot. He's blocking the roadway. Downright rude as hell. Doesn't care that you're already late. 3/10 https://t.co/FMUxir5pYu\",\n",
       " \"This is Charl. He's a bully. Chucks that dumbbell around like its nothing. Sharp neck. Exceptionally unfluffy. 3/10 https://t.co/VfLoDZecJ7\",\n",
       " \"Meet Phil. He's big af. Currently destroying this nice family home. Completely uncalled for. 3/10 not a good pupper https://t.co/fShNNhBWYx\",\n",
       " \"This is Hammond. He's a peculiar pup. Loves long walks. Bark barely audible. Too many legs. 3/10 must be rare https://t.co/NOIiRWr5Jf\",\n",
       " \"This is Chuck. He's a neat dog. Very flexible. Trapped in a glass case of emotion. Devastatingly unfluffy 3/10 https://t.co/YqbU9xHV3p\",\n",
       " \"Extremely rare pup here. Very religious. Always praying. Too many legs. Not overwhelmingly fluffy. Won't bark. 3/10 https://t.co/REyE5YKVBb\",\n",
       " \"Meet Patrick. He's an exotic pup. Jumps great distances for a dog. Always gets injured when I toss him a ball. 3/10 https://t.co/Unz1uNrOzo\",\n",
       " \"Herd of wild dogs here. Not sure what they're trying to do. No real goals in life. 3/10 find your purpose puppers https://t.co/t5ih0VrK02\",\n",
       " \"Guys I'm getting real tired of this. We only rate dogs. Please don't send in other things like this Bulbasaur. 3/10 https://t.co/t5rQHl6W8M\",\n",
       " 'Large blue dog here. Cool shades. Flipping us off w both hands. Obviously a preteen. 3/10 for rude blue preteen pup https://t.co/mcPd5AFfhA',\n",
       " \"This is Tommy. He's a cool dog. Hard not to step on. Won't let go of seashell. Not fast by any means. 3/10 https://t.co/0gY6XTOpn3\",\n",
       " \"This is Bernie. He's taking his Halloween costume very seriously. Wants to be baked. 3/10 not a good idea Bernie smh https://t.co/1zBp1moFlX\",\n",
       " 'Fascinating dog here. Loves beach. Oddly long nose for dog. Massive ass paws. Hard to cuddle w. 3/10 would still pet https://t.co/IiSdmhkC5N',\n",
       " 'This dog resembles a baked potato. Bed looks uncomfortable. No tail. Comes with butter tho. 3/10 petting still fun https://t.co/x89NSCEZCq',\n",
       " \"My goodness. Very rare dog here. Large. Tail dangerous. Kinda fat. Only eats leaves. Doesn't come when called 3/10 https://t.co/xYGdBrMS9h\",\n",
       " \"This is a funny dog. Weird toes. Won't come down. Loves branch. Refuses to eat his food. Hard to cuddle with. 3/10 https://t.co/IIXis0zta0\"]"
      ]
     },
     "execution_count": 83,
     "metadata": {},
     "output_type": "execute_result"
    }
   ],
   "source": [
    "df.query('rating_numerator == 3').text.tolist()"
   ]
  },
  {
   "cell_type": "code",
   "execution_count": 84,
   "id": "f481195c",
   "metadata": {
    "scrolled": true
   },
   "outputs": [
    {
     "data": {
      "text/plain": [
       "[\"This is Jerry. He's doing a distinguished tongue slip. Slightly patronizing tbh. You think you're better than us, Jerry? 6/10 hold me back https://t.co/DkOBbwulw1\",\n",
       " \"This is one of the most reckless puppers I've ever seen. How she got a license in the first place is beyond me. 6/10 https://t.co/z5bAdtn9kd\",\n",
       " \"This is Kyle. He's a heavy drinker and an avid pot user. Just wants to be pupular. 6/10 I can't support this Kyle https://t.co/rRULp7XFnO\",\n",
       " \"This is Charles. He's camera shy. Tail longer than average. Doesn't look overwhelmingly fluffy. 6/10 would still pet https://t.co/rXvcElhoog\",\n",
       " \"This is Chester. He's clearly in charge of the other dogs. Weird ass paws. Not fit for fetch. 6/10 would still pet https://t.co/o2GvskrhHt\",\n",
       " \"This is Chip. He's an Upper West Nile Pantaloon. Extremely deadly. Will rip your throat out. 6/10 might still pet https://t.co/LUFnwzznaV\",\n",
       " \"This is Murphy. He's a mini golden retriever. Missing two legs (tragic). Mouth sharp. Looks rather perturbed. 6/10 https://t.co/ALO02IAKCn\",\n",
       " \"This is Eazy-E. He's colorful af. Must be rare. Submerged in Sprite (rad). Doesn't perform well when not wet. 6/10 https://t.co/UtFI7eUCjE\",\n",
       " 'Meet Brian (pronounced \"Kirk\"). He\\'s not amused by ur churlish tomfoolery. Once u put him down you\\'re done for. 6/10 https://t.co/vityMwPKKi',\n",
       " 'Gang of fearless hoofed puppers here. Straight savages. Elevated for extra terror. Front one has killed before 6/10s https://t.co/jkCb25OWfh',\n",
       " 'Say hello to Moofasa. He must be a powerful dog. Fenced in for your protection. Just got his ear pierced. 6/10 https://t.co/w6fRfQ3RXD',\n",
       " \"Meet Tango. He's a large dog. Doesn't care much for personal space. Owner isn't very accepting. Tongue slip. 6/10 https://t.co/p2T5kGebxe\",\n",
       " 'Contortionist pup here. Inside pentagram. Clearly worships Satan. Known to slowly push fragile stuff off tables 6/10 https://t.co/EX9oR55VMe',\n",
       " \"This is Karl. Karl thinks he's slick. 6/10 sneaky pup https://t.co/Lo4ALwjVh4\",\n",
       " \"This is Donny. He's summoning the demon monster Babadook. 6/10 Donny please no that won't be a good time for anyone https://t.co/kiW6Knb7Gp\",\n",
       " \"Magical floating dog here. Very calm. Always hangs by the pond. Rather moist. Good listener. 6/10 personally I'd pet https://t.co/1euKoOvy49\",\n",
       " 'Marvelous dog here. Rad ears. Not very soft. Large tumor on nose. Has a pet rock. Good w kids. 6/10 overall neat pup https://t.co/g5YkRqP0dg',\n",
       " \"This is Norman. Doesn't bark much. Very docile pup. Up to date on current events. Overall nifty pupper. 6/10 https://t.co/ntxsR98f3U\",\n",
       " 'Very fit horned dog here. Looks powerful. Not phased by wind. Great beard. Big enough to ride? 6/10 would cuddle https://t.co/wwwYO9C9kl',\n",
       " 'Interesting dog here. Very large. Purple. Manifests rainbows. Perfect teeth. No ears. Surprisingly knowledgable 6/10 https://t.co/QVaEMsB9tS',\n",
       " 'Super rare dog here. Spiffy mohawk. Sharp mouth. Shits eggs. Cool chariot wheel in background. 6/10 v confident pup https://t.co/pcx8jm1J1K',\n",
       " \"Meet Phred. He isn't steering, looking at the road, or wearing a seatbelt. Phred is a rolling tornado of danger 6/10 https://t.co/mZD7Bo7HfV\",\n",
       " \"Meet Danny. He's too good to look at the road when he's driving. Absolute menace. 6/10 completely irresponsible https://t.co/I1lMUy1FqH\",\n",
       " 'Sharp dog here. Introverted. Loves purple. Not fun to pet. Hurts to cuddle with. 6/10 still good dog tho https://t.co/Dfv2YaHPMn',\n",
       " 'Special dog here. Pretty big. Neck kinda long for dog. Cool spots. Must be a Dalmatian variant. 6/10 would still pet https://t.co/f8GXeDbFzu',\n",
       " \"This is Billl. He's trying to be a ghost but he's not very good at it. 6/10 c'mon Billl https://t.co/ero0XfdGtY\",\n",
       " \"This is Alfie. He's that one hypocritical gym teacher who made you run laps. Great posture. Cool bench. 6/10 https://t.co/GCJzm3YsfX\",\n",
       " 'Exotic dog here. Long neck. Weird paws. Obsessed with bread. Waddles. Flies sometimes (wow!). Very happy dog. 6/10 https://t.co/rqO4I3nf2N',\n",
       " 'Oh boy what a pup! Sunglasses take this one to the next level. Weirdly folds front legs. Pretty big. 6/10 https://t.co/yECbFrSArM',\n",
       " 'Unique dog here. Very small. Lives in container of Frosted Flakes (?). Short legs. Must be rare 6/10 would still pet https://t.co/XMD9CwjEnM',\n",
       " 'Here we have a well-established sunblockerspaniel. Lost his other flip-flop. 6/10 not very waterproof https://t.co/3RU6x0vHB7',\n",
       " 'This is a purebred Piers Morgan. Loves to Netflix and chill. Always looks like he forgot to unplug the iron. 6/10 https://t.co/DWnyCjf2mx']"
      ]
     },
     "execution_count": 84,
     "metadata": {},
     "output_type": "execute_result"
    }
   ],
   "source": [
    "df.query('rating_numerator == 6').text.tolist()"
   ]
  },
  {
   "cell_type": "code",
   "execution_count": 85,
   "id": "0d89523c",
   "metadata": {
    "scrolled": true
   },
   "outputs": [
    {
     "data": {
      "text/plain": [
       "['This is Bella. She hopes her smile made you smile. If not, she is also offering you her favorite monkey. 13.5/10 https://t.co/qjrljjt948',\n",
       " 'Who keeps sending in pictures without dogs in them? This needs to stop. 5/10 for the mediocre road https://t.co/ELqelxWMrC',\n",
       " \"Please stop sending it pictures that don't even have a doggo or pupper in them. Churlish af. 5/10 neat couch tho https://t.co/u2c9c7qSg8\",\n",
       " \"This is Dave. He's a tropical pup. Short lil legs (dachshund mix?) Excels underwater, but refuses to eat kibble 5/10 https://t.co/ZJnCxlIf62\",\n",
       " 'Please only send in dogs. This t-rex is very scary. 5/10 ...might still pet (vid by @helizabethmicha) https://t.co/Vn6w5w8TO2',\n",
       " \"When bae says they can't go out but you see them with someone else that same night. 5/10 &amp; 10/10 for heartbroken pup https://t.co/aenk0KpoWM\",\n",
       " \"Army of water dogs here. None of them know where they're going. Have no real purpose. Aggressive barks. 5/10 for all https://t.co/A88x73TwMN\",\n",
       " 'For those who claim this is a goat, u are wrong. It is not the Greatest Of All Time. The rating of 5/10 should have made that clear. Thank u',\n",
       " \"This is Jerry. He's a neat dog. No legs (tragic). Has more horns than a dog usually does. Bark is unique af. 5/10 https://t.co/85q7xlplsJ\",\n",
       " \"Here we have a basking dino pupper. Looks powerful. Occasionally shits eggs. Doesn't want the holidays to end. 5/10 https://t.co/DnNweb5eTO\",\n",
       " \"This is Jiminy. He's not the brightest dog. Needs to lay off the kibble. 5/10 still petable https://t.co/omln4LOy1x\",\n",
       " \"Unique dog here. Wrinkly as hell. Weird segmented neck. Finger on fire. Doesn't seem to notice. 5/10 might still pet https://t.co/Hy9La4xNX3\",\n",
       " \"I've been told there's a slight possibility he's checking his mirror. We'll bump to 9.5/10. Still a menace\",\n",
       " \"Meet Penelope. She's a bacon frise. Total babe (lol get it like the movie). Doesn't bark tho. 5/10 very average dog https://t.co/SDcQYg0HSZ\",\n",
       " \"This is Juckson. He's totally on his way to a nascar race. 5/10 for Juckson https://t.co/IoLRvF0Kak\",\n",
       " 'Exotic handheld dog here. Appears unathletic. Feet look deadly. Can be thrown a great distance. 5/10 might pet idk https://t.co/Avq4awulqk',\n",
       " 'This is Bubbles. He kinda resembles a fish. Always makes eye contact with u no matter what. Sneaky tongue slip. 5/10 https://t.co/Nrhvc5tLFT',\n",
       " 'Rare shielded battle dog here. Very happy about abundance of lettuce. Painfully slow fetcher. Still petable. 5/10 https://t.co/C3tlKVq7eO',\n",
       " 'This is Steven. He got locked outside. Damn it Steven. 5/10 nice grill tho https://t.co/zf7Sxxjfp3',\n",
       " 'Two gorgeous dogs here. Little waddling dog is a rebel. Refuses to look at camera. Must be a preteen. 5/10 &amp; 8/10 https://t.co/YPfw7oahbD',\n",
       " 'Rare submerged pup here. Holds breath for a long time. Frowning because that spoon ignores him. 5/10 would still pet https://t.co/EJzzNHE8bE',\n",
       " 'This is Earl. Earl is lost. Someone help Earl. He has no tags. Just trying to get home. 5/10 hang in there Earl https://t.co/1ZbfqAVDg6',\n",
       " 'Extraordinary dog here. Looks large. Just a head. No body. Rather intrusive. 5/10 would still pet https://t.co/ufHWUFA9Pu',\n",
       " \"Exotic underwater dog here. Very shy. Wont return tennis balls I toss him. Never been petted. 5/10 I bet he's soft https://t.co/WH7Nzc5IBA\",\n",
       " \"This is Brad. He's a chubby lil pup. Doesn't really need the food he's trying to reach. 5/10 you've had enough Brad https://t.co/vPXKSaNsbE\",\n",
       " 'This is Anthony. He just finished up his masters at Harvard. Unprofessional tattoos. Always looks perturbed. 5/10 https://t.co/iHLo9rGay1',\n",
       " \"This dude slaps your girl's ass what do you do?\\n5/10 https://t.co/6dioUL6gcP\",\n",
       " 'Vibrant dog here. Fabulous tail. Only 2 legs tho. Has wings but can barely fly (lame). Rather elusive. 5/10 okay pup https://t.co/cixC0M3P1e',\n",
       " \"This is Randall. He's from Chernobyl. Built playground himself. Has been stuck up there quite a while. 5/10 good dog https://t.co/pzrvc7wKGd\",\n",
       " 'Awesome dog here. Not sure where it is tho. Spectacular camouflage. Enjoys leaves. Not very soft. 5/10 still petable https://t.co/rOTOteKx4q',\n",
       " \"This is a brave dog. Excellent free climber. Trying to get closer to God. Not very loyal though. Doesn't bark. 5/10 https://t.co/ODnILTr4QM\",\n",
       " 'Two gorgeous pups here. Both have cute fake horns(adorable). Barn in the back looks on fire. 5/10 would pet rly well https://t.co/w5oYFXi0uh',\n",
       " 'Meet Zeek. He is a grey Cumulonimbus. Zeek is hungry. Someone should feed Zeek asap. 5/10 absolutely terrifying https://t.co/fvVNScw8VH',\n",
       " 'Wow. Armored dog here. Ready for battle. Face looks dangerous. Not very loyal. Lil dog on back havin a blast. 5/10 https://t.co/SyMoWrp368',\n",
       " 'RT @dogratingrating: Unoriginal idea. Blatant plagiarism. Curious grammar. -5/10 https://t.co/r7XzeQZWzb',\n",
       " 'This is Josep. He is a Rye Manganese mix. Can drive w eyes closed. Very irresponsible. Menace on the roadways. 5/10 https://t.co/XNGeDwrtYH',\n",
       " 'Here we have a 1949 1st generation vulpix. Enjoys sweat tea and Fox News. Cannot be phased. 5/10 https://t.co/4B7cOc1EDq']"
      ]
     },
     "execution_count": 85,
     "metadata": {},
     "output_type": "execute_result"
    }
   ],
   "source": [
    "df.query('rating_numerator == 5').text.tolist()"
   ]
  },
  {
   "cell_type": "markdown",
   "id": "ca869606",
   "metadata": {},
   "source": [
    "\n",
    "* Index 45 (first text) correct rating is 13.5/10 and not 5/10\n"
   ]
  },
  {
   "cell_type": "code",
   "execution_count": 86,
   "id": "c5bf4234",
   "metadata": {},
   "outputs": [
    {
     "data": {
      "text/plain": [
       "0"
      ]
     },
     "execution_count": 86,
     "metadata": {},
     "output_type": "execute_result"
    }
   ],
   "source": [
    "# checking for duplicates in the DataFrame\n",
    "df.duplicated().sum()"
   ]
  },
  {
   "cell_type": "code",
   "execution_count": 87,
   "id": "7c4c92b2",
   "metadata": {
    "scrolled": false
   },
   "outputs": [
    {
     "data": {
      "text/plain": [
       "tweet_id                         0\n",
       "in_reply_to_status_id         2278\n",
       "in_reply_to_user_id           2278\n",
       "timestamp                        0\n",
       "source                           0\n",
       "text                             0\n",
       "retweeted_status_id           2175\n",
       "retweeted_status_user_id      2175\n",
       "retweeted_status_timestamp    2175\n",
       "expanded_urls                   59\n",
       "rating_numerator                 0\n",
       "rating_denominator               0\n",
       "name                             0\n",
       "doggo                            0\n",
       "floofer                          0\n",
       "pupper                           0\n",
       "puppo                            0\n",
       "dtype: int64"
      ]
     },
     "execution_count": 87,
     "metadata": {},
     "output_type": "execute_result"
    }
   ],
   "source": [
    "# checking the sum of null values in each column\n",
    "df.isnull().sum()"
   ]
  },
  {
   "cell_type": "code",
   "execution_count": 88,
   "id": "62e7c58a",
   "metadata": {},
   "outputs": [
    {
     "data": {
      "text/html": [
       "<div>\n",
       "<style scoped>\n",
       "    .dataframe tbody tr th:only-of-type {\n",
       "        vertical-align: middle;\n",
       "    }\n",
       "\n",
       "    .dataframe tbody tr th {\n",
       "        vertical-align: top;\n",
       "    }\n",
       "\n",
       "    .dataframe thead th {\n",
       "        text-align: right;\n",
       "    }\n",
       "</style>\n",
       "<table border=\"1\" class=\"dataframe\">\n",
       "  <thead>\n",
       "    <tr style=\"text-align: right;\">\n",
       "      <th></th>\n",
       "      <th>tweet_id</th>\n",
       "      <th>in_reply_to_status_id</th>\n",
       "      <th>in_reply_to_user_id</th>\n",
       "      <th>retweeted_status_id</th>\n",
       "      <th>retweeted_status_user_id</th>\n",
       "      <th>rating_numerator</th>\n",
       "      <th>rating_denominator</th>\n",
       "    </tr>\n",
       "  </thead>\n",
       "  <tbody>\n",
       "    <tr>\n",
       "      <th>count</th>\n",
       "      <td>2.356000e+03</td>\n",
       "      <td>7.800000e+01</td>\n",
       "      <td>7.800000e+01</td>\n",
       "      <td>1.810000e+02</td>\n",
       "      <td>1.810000e+02</td>\n",
       "      <td>2356.000000</td>\n",
       "      <td>2356.000000</td>\n",
       "    </tr>\n",
       "    <tr>\n",
       "      <th>mean</th>\n",
       "      <td>7.427716e+17</td>\n",
       "      <td>7.455079e+17</td>\n",
       "      <td>2.014171e+16</td>\n",
       "      <td>7.720400e+17</td>\n",
       "      <td>1.241698e+16</td>\n",
       "      <td>13.126486</td>\n",
       "      <td>10.455433</td>\n",
       "    </tr>\n",
       "    <tr>\n",
       "      <th>std</th>\n",
       "      <td>6.856705e+16</td>\n",
       "      <td>7.582492e+16</td>\n",
       "      <td>1.252797e+17</td>\n",
       "      <td>6.236928e+16</td>\n",
       "      <td>9.599254e+16</td>\n",
       "      <td>45.876648</td>\n",
       "      <td>6.745237</td>\n",
       "    </tr>\n",
       "    <tr>\n",
       "      <th>min</th>\n",
       "      <td>6.660209e+17</td>\n",
       "      <td>6.658147e+17</td>\n",
       "      <td>1.185634e+07</td>\n",
       "      <td>6.661041e+17</td>\n",
       "      <td>7.832140e+05</td>\n",
       "      <td>0.000000</td>\n",
       "      <td>0.000000</td>\n",
       "    </tr>\n",
       "    <tr>\n",
       "      <th>25%</th>\n",
       "      <td>6.783989e+17</td>\n",
       "      <td>6.757419e+17</td>\n",
       "      <td>3.086374e+08</td>\n",
       "      <td>7.186315e+17</td>\n",
       "      <td>4.196984e+09</td>\n",
       "      <td>10.000000</td>\n",
       "      <td>10.000000</td>\n",
       "    </tr>\n",
       "    <tr>\n",
       "      <th>50%</th>\n",
       "      <td>7.196279e+17</td>\n",
       "      <td>7.038708e+17</td>\n",
       "      <td>4.196984e+09</td>\n",
       "      <td>7.804657e+17</td>\n",
       "      <td>4.196984e+09</td>\n",
       "      <td>11.000000</td>\n",
       "      <td>10.000000</td>\n",
       "    </tr>\n",
       "    <tr>\n",
       "      <th>75%</th>\n",
       "      <td>7.993373e+17</td>\n",
       "      <td>8.257804e+17</td>\n",
       "      <td>4.196984e+09</td>\n",
       "      <td>8.203146e+17</td>\n",
       "      <td>4.196984e+09</td>\n",
       "      <td>12.000000</td>\n",
       "      <td>10.000000</td>\n",
       "    </tr>\n",
       "    <tr>\n",
       "      <th>max</th>\n",
       "      <td>8.924206e+17</td>\n",
       "      <td>8.862664e+17</td>\n",
       "      <td>8.405479e+17</td>\n",
       "      <td>8.874740e+17</td>\n",
       "      <td>7.874618e+17</td>\n",
       "      <td>1776.000000</td>\n",
       "      <td>170.000000</td>\n",
       "    </tr>\n",
       "  </tbody>\n",
       "</table>\n",
       "</div>"
      ],
      "text/plain": [
       "           tweet_id  in_reply_to_status_id  in_reply_to_user_id  \\\n",
       "count  2.356000e+03           7.800000e+01         7.800000e+01   \n",
       "mean   7.427716e+17           7.455079e+17         2.014171e+16   \n",
       "std    6.856705e+16           7.582492e+16         1.252797e+17   \n",
       "min    6.660209e+17           6.658147e+17         1.185634e+07   \n",
       "25%    6.783989e+17           6.757419e+17         3.086374e+08   \n",
       "50%    7.196279e+17           7.038708e+17         4.196984e+09   \n",
       "75%    7.993373e+17           8.257804e+17         4.196984e+09   \n",
       "max    8.924206e+17           8.862664e+17         8.405479e+17   \n",
       "\n",
       "       retweeted_status_id  retweeted_status_user_id  rating_numerator  \\\n",
       "count         1.810000e+02              1.810000e+02       2356.000000   \n",
       "mean          7.720400e+17              1.241698e+16         13.126486   \n",
       "std           6.236928e+16              9.599254e+16         45.876648   \n",
       "min           6.661041e+17              7.832140e+05          0.000000   \n",
       "25%           7.186315e+17              4.196984e+09         10.000000   \n",
       "50%           7.804657e+17              4.196984e+09         11.000000   \n",
       "75%           8.203146e+17              4.196984e+09         12.000000   \n",
       "max           8.874740e+17              7.874618e+17       1776.000000   \n",
       "\n",
       "       rating_denominator  \n",
       "count         2356.000000  \n",
       "mean            10.455433  \n",
       "std              6.745237  \n",
       "min              0.000000  \n",
       "25%             10.000000  \n",
       "50%             10.000000  \n",
       "75%             10.000000  \n",
       "max            170.000000  "
      ]
     },
     "execution_count": 88,
     "metadata": {},
     "output_type": "execute_result"
    }
   ],
   "source": [
    "# displaying descriptive statistics of the DataFrame\n",
    "df.describe()"
   ]
  },
  {
   "cell_type": "markdown",
   "id": "cc7ebec8",
   "metadata": {},
   "source": [
    "##### df_02"
   ]
  },
  {
   "cell_type": "code",
   "execution_count": 89,
   "id": "07277962",
   "metadata": {
    "scrolled": true
   },
   "outputs": [
    {
     "data": {
      "text/html": [
       "<div>\n",
       "<style scoped>\n",
       "    .dataframe tbody tr th:only-of-type {\n",
       "        vertical-align: middle;\n",
       "    }\n",
       "\n",
       "    .dataframe tbody tr th {\n",
       "        vertical-align: top;\n",
       "    }\n",
       "\n",
       "    .dataframe thead th {\n",
       "        text-align: right;\n",
       "    }\n",
       "</style>\n",
       "<table border=\"1\" class=\"dataframe\">\n",
       "  <thead>\n",
       "    <tr style=\"text-align: right;\">\n",
       "      <th></th>\n",
       "      <th>tweet_id</th>\n",
       "      <th>jpg_url</th>\n",
       "      <th>img_num</th>\n",
       "      <th>p1</th>\n",
       "      <th>p1_conf</th>\n",
       "      <th>p1_dog</th>\n",
       "      <th>p2</th>\n",
       "      <th>p2_conf</th>\n",
       "      <th>p2_dog</th>\n",
       "      <th>p3</th>\n",
       "      <th>p3_conf</th>\n",
       "      <th>p3_dog</th>\n",
       "    </tr>\n",
       "  </thead>\n",
       "  <tbody>\n",
       "    <tr>\n",
       "      <th>2070</th>\n",
       "      <td>891327558926688256</td>\n",
       "      <td>https://pbs.twimg.com/media/DF6hr6BUMAAzZgT.jpg</td>\n",
       "      <td>2</td>\n",
       "      <td>basset</td>\n",
       "      <td>0.555712</td>\n",
       "      <td>True</td>\n",
       "      <td>English_springer</td>\n",
       "      <td>0.225770</td>\n",
       "      <td>True</td>\n",
       "      <td>German_short-haired_pointer</td>\n",
       "      <td>0.175219</td>\n",
       "      <td>True</td>\n",
       "    </tr>\n",
       "    <tr>\n",
       "      <th>2071</th>\n",
       "      <td>891689557279858688</td>\n",
       "      <td>https://pbs.twimg.com/media/DF_q7IAWsAEuuN8.jpg</td>\n",
       "      <td>1</td>\n",
       "      <td>paper_towel</td>\n",
       "      <td>0.170278</td>\n",
       "      <td>False</td>\n",
       "      <td>Labrador_retriever</td>\n",
       "      <td>0.168086</td>\n",
       "      <td>True</td>\n",
       "      <td>spatula</td>\n",
       "      <td>0.040836</td>\n",
       "      <td>False</td>\n",
       "    </tr>\n",
       "    <tr>\n",
       "      <th>2072</th>\n",
       "      <td>891815181378084864</td>\n",
       "      <td>https://pbs.twimg.com/media/DGBdLU1WsAANxJ9.jpg</td>\n",
       "      <td>1</td>\n",
       "      <td>Chihuahua</td>\n",
       "      <td>0.716012</td>\n",
       "      <td>True</td>\n",
       "      <td>malamute</td>\n",
       "      <td>0.078253</td>\n",
       "      <td>True</td>\n",
       "      <td>kelpie</td>\n",
       "      <td>0.031379</td>\n",
       "      <td>True</td>\n",
       "    </tr>\n",
       "    <tr>\n",
       "      <th>2073</th>\n",
       "      <td>892177421306343426</td>\n",
       "      <td>https://pbs.twimg.com/media/DGGmoV4XsAAUL6n.jpg</td>\n",
       "      <td>1</td>\n",
       "      <td>Chihuahua</td>\n",
       "      <td>0.323581</td>\n",
       "      <td>True</td>\n",
       "      <td>Pekinese</td>\n",
       "      <td>0.090647</td>\n",
       "      <td>True</td>\n",
       "      <td>papillon</td>\n",
       "      <td>0.068957</td>\n",
       "      <td>True</td>\n",
       "    </tr>\n",
       "    <tr>\n",
       "      <th>2074</th>\n",
       "      <td>892420643555336193</td>\n",
       "      <td>https://pbs.twimg.com/media/DGKD1-bXoAAIAUK.jpg</td>\n",
       "      <td>1</td>\n",
       "      <td>orange</td>\n",
       "      <td>0.097049</td>\n",
       "      <td>False</td>\n",
       "      <td>bagel</td>\n",
       "      <td>0.085851</td>\n",
       "      <td>False</td>\n",
       "      <td>banana</td>\n",
       "      <td>0.076110</td>\n",
       "      <td>False</td>\n",
       "    </tr>\n",
       "  </tbody>\n",
       "</table>\n",
       "</div>"
      ],
      "text/plain": [
       "                tweet_id                                          jpg_url  \\\n",
       "2070  891327558926688256  https://pbs.twimg.com/media/DF6hr6BUMAAzZgT.jpg   \n",
       "2071  891689557279858688  https://pbs.twimg.com/media/DF_q7IAWsAEuuN8.jpg   \n",
       "2072  891815181378084864  https://pbs.twimg.com/media/DGBdLU1WsAANxJ9.jpg   \n",
       "2073  892177421306343426  https://pbs.twimg.com/media/DGGmoV4XsAAUL6n.jpg   \n",
       "2074  892420643555336193  https://pbs.twimg.com/media/DGKD1-bXoAAIAUK.jpg   \n",
       "\n",
       "      img_num           p1   p1_conf  p1_dog                  p2   p2_conf  \\\n",
       "2070        2       basset  0.555712    True    English_springer  0.225770   \n",
       "2071        1  paper_towel  0.170278   False  Labrador_retriever  0.168086   \n",
       "2072        1    Chihuahua  0.716012    True            malamute  0.078253   \n",
       "2073        1    Chihuahua  0.323581    True            Pekinese  0.090647   \n",
       "2074        1       orange  0.097049   False               bagel  0.085851   \n",
       "\n",
       "      p2_dog                           p3   p3_conf  p3_dog  \n",
       "2070    True  German_short-haired_pointer  0.175219    True  \n",
       "2071    True                      spatula  0.040836   False  \n",
       "2072    True                       kelpie  0.031379    True  \n",
       "2073    True                     papillon  0.068957    True  \n",
       "2074   False                       banana  0.076110   False  "
      ]
     },
     "execution_count": 89,
     "metadata": {},
     "output_type": "execute_result"
    }
   ],
   "source": [
    "# displaying last 5 rows in the DataFrame\n",
    "df_02.tail()"
   ]
  },
  {
   "cell_type": "code",
   "execution_count": 90,
   "id": "17168649",
   "metadata": {
    "scrolled": true
   },
   "outputs": [
    {
     "data": {
      "text/html": [
       "<div>\n",
       "<style scoped>\n",
       "    .dataframe tbody tr th:only-of-type {\n",
       "        vertical-align: middle;\n",
       "    }\n",
       "\n",
       "    .dataframe tbody tr th {\n",
       "        vertical-align: top;\n",
       "    }\n",
       "\n",
       "    .dataframe thead th {\n",
       "        text-align: right;\n",
       "    }\n",
       "</style>\n",
       "<table border=\"1\" class=\"dataframe\">\n",
       "  <thead>\n",
       "    <tr style=\"text-align: right;\">\n",
       "      <th></th>\n",
       "      <th>tweet_id</th>\n",
       "      <th>jpg_url</th>\n",
       "      <th>img_num</th>\n",
       "      <th>p1</th>\n",
       "      <th>p1_conf</th>\n",
       "      <th>p1_dog</th>\n",
       "      <th>p2</th>\n",
       "      <th>p2_conf</th>\n",
       "      <th>p2_dog</th>\n",
       "      <th>p3</th>\n",
       "      <th>p3_conf</th>\n",
       "      <th>p3_dog</th>\n",
       "    </tr>\n",
       "  </thead>\n",
       "  <tbody>\n",
       "    <tr>\n",
       "      <th>380</th>\n",
       "      <td>673295268553605120</td>\n",
       "      <td>https://pbs.twimg.com/media/CVgGc9hWIAIe1bn.jpg</td>\n",
       "      <td>1</td>\n",
       "      <td>golden_retriever</td>\n",
       "      <td>0.889241</td>\n",
       "      <td>True</td>\n",
       "      <td>Labrador_retriever</td>\n",
       "      <td>0.064683</td>\n",
       "      <td>True</td>\n",
       "      <td>Great_Pyrenees</td>\n",
       "      <td>0.012613</td>\n",
       "      <td>True</td>\n",
       "    </tr>\n",
       "    <tr>\n",
       "      <th>1917</th>\n",
       "      <td>854732716440526848</td>\n",
       "      <td>https://pbs.twimg.com/media/C9ye3b3WAAAlTo0.jpg</td>\n",
       "      <td>1</td>\n",
       "      <td>Pembroke</td>\n",
       "      <td>0.695548</td>\n",
       "      <td>True</td>\n",
       "      <td>Cardigan</td>\n",
       "      <td>0.058902</td>\n",
       "      <td>True</td>\n",
       "      <td>chow</td>\n",
       "      <td>0.028411</td>\n",
       "      <td>True</td>\n",
       "    </tr>\n",
       "    <tr>\n",
       "      <th>175</th>\n",
       "      <td>669037058363662336</td>\n",
       "      <td>https://pbs.twimg.com/media/CUjlp51WcAA1vGA.jpg</td>\n",
       "      <td>1</td>\n",
       "      <td>Chihuahua</td>\n",
       "      <td>0.803528</td>\n",
       "      <td>True</td>\n",
       "      <td>Pomeranian</td>\n",
       "      <td>0.053871</td>\n",
       "      <td>True</td>\n",
       "      <td>chow</td>\n",
       "      <td>0.032257</td>\n",
       "      <td>True</td>\n",
       "    </tr>\n",
       "    <tr>\n",
       "      <th>165</th>\n",
       "      <td>668979806671884288</td>\n",
       "      <td>https://pbs.twimg.com/media/CUixld6WoAArDrJ.jpg</td>\n",
       "      <td>1</td>\n",
       "      <td>golden_retriever</td>\n",
       "      <td>0.608537</td>\n",
       "      <td>True</td>\n",
       "      <td>Irish_setter</td>\n",
       "      <td>0.097078</td>\n",
       "      <td>True</td>\n",
       "      <td>redbone</td>\n",
       "      <td>0.076022</td>\n",
       "      <td>True</td>\n",
       "    </tr>\n",
       "    <tr>\n",
       "      <th>516</th>\n",
       "      <td>676430933382295552</td>\n",
       "      <td>https://pbs.twimg.com/media/CWMqV7WUYAEEClG.jpg</td>\n",
       "      <td>1</td>\n",
       "      <td>golden_retriever</td>\n",
       "      <td>0.583875</td>\n",
       "      <td>True</td>\n",
       "      <td>cocker_spaniel</td>\n",
       "      <td>0.203671</td>\n",
       "      <td>True</td>\n",
       "      <td>Labrador_retriever</td>\n",
       "      <td>0.036122</td>\n",
       "      <td>True</td>\n",
       "    </tr>\n",
       "    <tr>\n",
       "      <th>1818</th>\n",
       "      <td>834167344700198914</td>\n",
       "      <td>https://pbs.twimg.com/media/C5OOxY6WAAAxERz.jpg</td>\n",
       "      <td>1</td>\n",
       "      <td>ox</td>\n",
       "      <td>0.991682</td>\n",
       "      <td>False</td>\n",
       "      <td>bison</td>\n",
       "      <td>0.005335</td>\n",
       "      <td>False</td>\n",
       "      <td>water_buffalo</td>\n",
       "      <td>0.001130</td>\n",
       "      <td>False</td>\n",
       "    </tr>\n",
       "    <tr>\n",
       "      <th>1117</th>\n",
       "      <td>725786712245440512</td>\n",
       "      <td>https://pbs.twimg.com/media/ChKDKmIWIAIJP_e.jpg</td>\n",
       "      <td>1</td>\n",
       "      <td>chow</td>\n",
       "      <td>0.335761</td>\n",
       "      <td>True</td>\n",
       "      <td>Samoyed</td>\n",
       "      <td>0.167173</td>\n",
       "      <td>True</td>\n",
       "      <td>kuvasz</td>\n",
       "      <td>0.145715</td>\n",
       "      <td>True</td>\n",
       "    </tr>\n",
       "    <tr>\n",
       "      <th>18</th>\n",
       "      <td>666268910803644416</td>\n",
       "      <td>https://pbs.twimg.com/media/CT8QCd1WEAADXws.jpg</td>\n",
       "      <td>1</td>\n",
       "      <td>desktop_computer</td>\n",
       "      <td>0.086502</td>\n",
       "      <td>False</td>\n",
       "      <td>desk</td>\n",
       "      <td>0.085547</td>\n",
       "      <td>False</td>\n",
       "      <td>bookcase</td>\n",
       "      <td>0.079480</td>\n",
       "      <td>False</td>\n",
       "    </tr>\n",
       "    <tr>\n",
       "      <th>1009</th>\n",
       "      <td>709225125749587968</td>\n",
       "      <td>https://pbs.twimg.com/media/Cdese-zWEAArIqE.jpg</td>\n",
       "      <td>1</td>\n",
       "      <td>Labrador_retriever</td>\n",
       "      <td>0.271109</td>\n",
       "      <td>True</td>\n",
       "      <td>Pomeranian</td>\n",
       "      <td>0.150487</td>\n",
       "      <td>True</td>\n",
       "      <td>golden_retriever</td>\n",
       "      <td>0.145578</td>\n",
       "      <td>True</td>\n",
       "    </tr>\n",
       "    <tr>\n",
       "      <th>809</th>\n",
       "      <td>692158366030913536</td>\n",
       "      <td>https://pbs.twimg.com/media/CZsKVxfWQAAXy2u.jpg</td>\n",
       "      <td>1</td>\n",
       "      <td>pug</td>\n",
       "      <td>0.956565</td>\n",
       "      <td>True</td>\n",
       "      <td>swing</td>\n",
       "      <td>0.018907</td>\n",
       "      <td>False</td>\n",
       "      <td>toy_poodle</td>\n",
       "      <td>0.013544</td>\n",
       "      <td>True</td>\n",
       "    </tr>\n",
       "  </tbody>\n",
       "</table>\n",
       "</div>"
      ],
      "text/plain": [
       "                tweet_id                                          jpg_url  \\\n",
       "380   673295268553605120  https://pbs.twimg.com/media/CVgGc9hWIAIe1bn.jpg   \n",
       "1917  854732716440526848  https://pbs.twimg.com/media/C9ye3b3WAAAlTo0.jpg   \n",
       "175   669037058363662336  https://pbs.twimg.com/media/CUjlp51WcAA1vGA.jpg   \n",
       "165   668979806671884288  https://pbs.twimg.com/media/CUixld6WoAArDrJ.jpg   \n",
       "516   676430933382295552  https://pbs.twimg.com/media/CWMqV7WUYAEEClG.jpg   \n",
       "1818  834167344700198914  https://pbs.twimg.com/media/C5OOxY6WAAAxERz.jpg   \n",
       "1117  725786712245440512  https://pbs.twimg.com/media/ChKDKmIWIAIJP_e.jpg   \n",
       "18    666268910803644416  https://pbs.twimg.com/media/CT8QCd1WEAADXws.jpg   \n",
       "1009  709225125749587968  https://pbs.twimg.com/media/Cdese-zWEAArIqE.jpg   \n",
       "809   692158366030913536  https://pbs.twimg.com/media/CZsKVxfWQAAXy2u.jpg   \n",
       "\n",
       "      img_num                  p1   p1_conf  p1_dog                  p2  \\\n",
       "380         1    golden_retriever  0.889241    True  Labrador_retriever   \n",
       "1917        1            Pembroke  0.695548    True            Cardigan   \n",
       "175         1           Chihuahua  0.803528    True          Pomeranian   \n",
       "165         1    golden_retriever  0.608537    True        Irish_setter   \n",
       "516         1    golden_retriever  0.583875    True      cocker_spaniel   \n",
       "1818        1                  ox  0.991682   False               bison   \n",
       "1117        1                chow  0.335761    True             Samoyed   \n",
       "18          1    desktop_computer  0.086502   False                desk   \n",
       "1009        1  Labrador_retriever  0.271109    True          Pomeranian   \n",
       "809         1                 pug  0.956565    True               swing   \n",
       "\n",
       "       p2_conf  p2_dog                  p3   p3_conf  p3_dog  \n",
       "380   0.064683    True      Great_Pyrenees  0.012613    True  \n",
       "1917  0.058902    True                chow  0.028411    True  \n",
       "175   0.053871    True                chow  0.032257    True  \n",
       "165   0.097078    True             redbone  0.076022    True  \n",
       "516   0.203671    True  Labrador_retriever  0.036122    True  \n",
       "1818  0.005335   False       water_buffalo  0.001130   False  \n",
       "1117  0.167173    True              kuvasz  0.145715    True  \n",
       "18    0.085547   False            bookcase  0.079480   False  \n",
       "1009  0.150487    True    golden_retriever  0.145578    True  \n",
       "809   0.018907   False          toy_poodle  0.013544    True  "
      ]
     },
     "execution_count": 90,
     "metadata": {},
     "output_type": "execute_result"
    }
   ],
   "source": [
    "# displaying a sample of 10 rows in the DataFrame\n",
    "df_02.sample(10)"
   ]
  },
  {
   "cell_type": "code",
   "execution_count": 91,
   "id": "2b7fd1a6",
   "metadata": {
    "scrolled": true
   },
   "outputs": [
    {
     "name": "stdout",
     "output_type": "stream",
     "text": [
      "<class 'pandas.core.frame.DataFrame'>\n",
      "RangeIndex: 2075 entries, 0 to 2074\n",
      "Data columns (total 12 columns):\n",
      " #   Column    Non-Null Count  Dtype  \n",
      "---  ------    --------------  -----  \n",
      " 0   tweet_id  2075 non-null   int64  \n",
      " 1   jpg_url   2075 non-null   object \n",
      " 2   img_num   2075 non-null   int64  \n",
      " 3   p1        2075 non-null   object \n",
      " 4   p1_conf   2075 non-null   float64\n",
      " 5   p1_dog    2075 non-null   bool   \n",
      " 6   p2        2075 non-null   object \n",
      " 7   p2_conf   2075 non-null   float64\n",
      " 8   p2_dog    2075 non-null   bool   \n",
      " 9   p3        2075 non-null   object \n",
      " 10  p3_conf   2075 non-null   float64\n",
      " 11  p3_dog    2075 non-null   bool   \n",
      "dtypes: bool(3), float64(3), int64(2), object(4)\n",
      "memory usage: 152.1+ KB\n"
     ]
    }
   ],
   "source": [
    "df_02.info()"
   ]
  },
  {
   "cell_type": "code",
   "execution_count": 92,
   "id": "b889fefe",
   "metadata": {},
   "outputs": [
    {
     "data": {
      "text/plain": [
       "0"
      ]
     },
     "execution_count": 92,
     "metadata": {},
     "output_type": "execute_result"
    }
   ],
   "source": [
    "# checking for number of duplicated columns in the DataFrame\n",
    "df_02.duplicated().sum()"
   ]
  },
  {
   "cell_type": "code",
   "execution_count": 93,
   "id": "58e95cf4",
   "metadata": {
    "scrolled": true
   },
   "outputs": [
    {
     "data": {
      "text/html": [
       "<div>\n",
       "<style scoped>\n",
       "    .dataframe tbody tr th:only-of-type {\n",
       "        vertical-align: middle;\n",
       "    }\n",
       "\n",
       "    .dataframe tbody tr th {\n",
       "        vertical-align: top;\n",
       "    }\n",
       "\n",
       "    .dataframe thead th {\n",
       "        text-align: right;\n",
       "    }\n",
       "</style>\n",
       "<table border=\"1\" class=\"dataframe\">\n",
       "  <thead>\n",
       "    <tr style=\"text-align: right;\">\n",
       "      <th></th>\n",
       "      <th>tweet_id</th>\n",
       "      <th>img_num</th>\n",
       "      <th>p1_conf</th>\n",
       "      <th>p2_conf</th>\n",
       "      <th>p3_conf</th>\n",
       "    </tr>\n",
       "  </thead>\n",
       "  <tbody>\n",
       "    <tr>\n",
       "      <th>count</th>\n",
       "      <td>2.075000e+03</td>\n",
       "      <td>2075.000000</td>\n",
       "      <td>2075.000000</td>\n",
       "      <td>2.075000e+03</td>\n",
       "      <td>2.075000e+03</td>\n",
       "    </tr>\n",
       "    <tr>\n",
       "      <th>mean</th>\n",
       "      <td>7.384514e+17</td>\n",
       "      <td>1.203855</td>\n",
       "      <td>0.594548</td>\n",
       "      <td>1.345886e-01</td>\n",
       "      <td>6.032417e-02</td>\n",
       "    </tr>\n",
       "    <tr>\n",
       "      <th>std</th>\n",
       "      <td>6.785203e+16</td>\n",
       "      <td>0.561875</td>\n",
       "      <td>0.271174</td>\n",
       "      <td>1.006657e-01</td>\n",
       "      <td>5.090593e-02</td>\n",
       "    </tr>\n",
       "    <tr>\n",
       "      <th>min</th>\n",
       "      <td>6.660209e+17</td>\n",
       "      <td>1.000000</td>\n",
       "      <td>0.044333</td>\n",
       "      <td>1.011300e-08</td>\n",
       "      <td>1.740170e-10</td>\n",
       "    </tr>\n",
       "    <tr>\n",
       "      <th>25%</th>\n",
       "      <td>6.764835e+17</td>\n",
       "      <td>1.000000</td>\n",
       "      <td>0.364412</td>\n",
       "      <td>5.388625e-02</td>\n",
       "      <td>1.622240e-02</td>\n",
       "    </tr>\n",
       "    <tr>\n",
       "      <th>50%</th>\n",
       "      <td>7.119988e+17</td>\n",
       "      <td>1.000000</td>\n",
       "      <td>0.588230</td>\n",
       "      <td>1.181810e-01</td>\n",
       "      <td>4.944380e-02</td>\n",
       "    </tr>\n",
       "    <tr>\n",
       "      <th>75%</th>\n",
       "      <td>7.932034e+17</td>\n",
       "      <td>1.000000</td>\n",
       "      <td>0.843855</td>\n",
       "      <td>1.955655e-01</td>\n",
       "      <td>9.180755e-02</td>\n",
       "    </tr>\n",
       "    <tr>\n",
       "      <th>max</th>\n",
       "      <td>8.924206e+17</td>\n",
       "      <td>4.000000</td>\n",
       "      <td>1.000000</td>\n",
       "      <td>4.880140e-01</td>\n",
       "      <td>2.734190e-01</td>\n",
       "    </tr>\n",
       "  </tbody>\n",
       "</table>\n",
       "</div>"
      ],
      "text/plain": [
       "           tweet_id      img_num      p1_conf       p2_conf       p3_conf\n",
       "count  2.075000e+03  2075.000000  2075.000000  2.075000e+03  2.075000e+03\n",
       "mean   7.384514e+17     1.203855     0.594548  1.345886e-01  6.032417e-02\n",
       "std    6.785203e+16     0.561875     0.271174  1.006657e-01  5.090593e-02\n",
       "min    6.660209e+17     1.000000     0.044333  1.011300e-08  1.740170e-10\n",
       "25%    6.764835e+17     1.000000     0.364412  5.388625e-02  1.622240e-02\n",
       "50%    7.119988e+17     1.000000     0.588230  1.181810e-01  4.944380e-02\n",
       "75%    7.932034e+17     1.000000     0.843855  1.955655e-01  9.180755e-02\n",
       "max    8.924206e+17     4.000000     1.000000  4.880140e-01  2.734190e-01"
      ]
     },
     "execution_count": 93,
     "metadata": {},
     "output_type": "execute_result"
    }
   ],
   "source": [
    "# displaying descriptive statistics\n",
    "df_02.describe()"
   ]
  },
  {
   "cell_type": "code",
   "execution_count": 94,
   "id": "3c8c3b15",
   "metadata": {},
   "outputs": [
    {
     "data": {
      "text/plain": [
       "0.5945482636144582"
      ]
     },
     "execution_count": 94,
     "metadata": {},
     "output_type": "execute_result"
    }
   ],
   "source": [
    "# average confidence level of the p1 algorithm\n",
    "df_02.p1_conf.mean()"
   ]
  },
  {
   "cell_type": "code",
   "execution_count": 95,
   "id": "26a23138",
   "metadata": {},
   "outputs": [
    {
     "data": {
      "text/plain": [
       "0.13458860950039184"
      ]
     },
     "execution_count": 95,
     "metadata": {},
     "output_type": "execute_result"
    }
   ],
   "source": [
    "# average confidence level of the p2 algorithm\n",
    "df_02.p2_conf.mean()"
   ]
  },
  {
   "cell_type": "code",
   "execution_count": 96,
   "id": "aad9f2d5",
   "metadata": {},
   "outputs": [
    {
     "data": {
      "text/plain": [
       "0.06032416861810644"
      ]
     },
     "execution_count": 96,
     "metadata": {},
     "output_type": "execute_result"
    }
   ],
   "source": [
    "# average confidence level of the p1 algorithm\n",
    "df_02.p3_conf.mean()"
   ]
  },
  {
   "cell_type": "markdown",
   "id": "9d0329e9",
   "metadata": {},
   "source": [
    "The average confidence level of the first algorithm (`p1`) is relatively higher than the other two algorithms."
   ]
  },
  {
   "cell_type": "code",
   "execution_count": 97,
   "id": "885fd054",
   "metadata": {},
   "outputs": [
    {
     "data": {
      "text/plain": [
       "True     1532\n",
       "False     543\n",
       "Name: p1_dog, dtype: int64"
      ]
     },
     "execution_count": 97,
     "metadata": {},
     "output_type": "execute_result"
    }
   ],
   "source": [
    "df_02.p1_dog.value_counts()"
   ]
  },
  {
   "cell_type": "code",
   "execution_count": 98,
   "id": "17624bfb",
   "metadata": {},
   "outputs": [
    {
     "data": {
      "text/html": [
       "<div>\n",
       "<style scoped>\n",
       "    .dataframe tbody tr th:only-of-type {\n",
       "        vertical-align: middle;\n",
       "    }\n",
       "\n",
       "    .dataframe tbody tr th {\n",
       "        vertical-align: top;\n",
       "    }\n",
       "\n",
       "    .dataframe thead th {\n",
       "        text-align: right;\n",
       "    }\n",
       "</style>\n",
       "<table border=\"1\" class=\"dataframe\">\n",
       "  <thead>\n",
       "    <tr style=\"text-align: right;\">\n",
       "      <th></th>\n",
       "      <th>tweet_id</th>\n",
       "      <th>jpg_url</th>\n",
       "      <th>img_num</th>\n",
       "      <th>p1</th>\n",
       "      <th>p1_conf</th>\n",
       "      <th>p1_dog</th>\n",
       "      <th>p2</th>\n",
       "      <th>p2_conf</th>\n",
       "      <th>p2_dog</th>\n",
       "      <th>p3</th>\n",
       "      <th>p3_conf</th>\n",
       "      <th>p3_dog</th>\n",
       "    </tr>\n",
       "  </thead>\n",
       "  <tbody>\n",
       "    <tr>\n",
       "      <th>6</th>\n",
       "      <td>666051853826850816</td>\n",
       "      <td>https://pbs.twimg.com/media/CT5KoJ1WoAAJash.jpg</td>\n",
       "      <td>1</td>\n",
       "      <td>box_turtle</td>\n",
       "      <td>0.933012</td>\n",
       "      <td>False</td>\n",
       "      <td>mud_turtle</td>\n",
       "      <td>0.045885</td>\n",
       "      <td>False</td>\n",
       "      <td>terrapin</td>\n",
       "      <td>0.017885</td>\n",
       "      <td>False</td>\n",
       "    </tr>\n",
       "    <tr>\n",
       "      <th>8</th>\n",
       "      <td>666057090499244032</td>\n",
       "      <td>https://pbs.twimg.com/media/CT5PY90WoAAQGLo.jpg</td>\n",
       "      <td>1</td>\n",
       "      <td>shopping_cart</td>\n",
       "      <td>0.962465</td>\n",
       "      <td>False</td>\n",
       "      <td>shopping_basket</td>\n",
       "      <td>0.014594</td>\n",
       "      <td>False</td>\n",
       "      <td>golden_retriever</td>\n",
       "      <td>0.007959</td>\n",
       "      <td>True</td>\n",
       "    </tr>\n",
       "    <tr>\n",
       "      <th>17</th>\n",
       "      <td>666104133288665088</td>\n",
       "      <td>https://pbs.twimg.com/media/CT56LSZWoAAlJj2.jpg</td>\n",
       "      <td>1</td>\n",
       "      <td>hen</td>\n",
       "      <td>0.965932</td>\n",
       "      <td>False</td>\n",
       "      <td>cock</td>\n",
       "      <td>0.033919</td>\n",
       "      <td>False</td>\n",
       "      <td>partridge</td>\n",
       "      <td>0.000052</td>\n",
       "      <td>False</td>\n",
       "    </tr>\n",
       "    <tr>\n",
       "      <th>18</th>\n",
       "      <td>666268910803644416</td>\n",
       "      <td>https://pbs.twimg.com/media/CT8QCd1WEAADXws.jpg</td>\n",
       "      <td>1</td>\n",
       "      <td>desktop_computer</td>\n",
       "      <td>0.086502</td>\n",
       "      <td>False</td>\n",
       "      <td>desk</td>\n",
       "      <td>0.085547</td>\n",
       "      <td>False</td>\n",
       "      <td>bookcase</td>\n",
       "      <td>0.079480</td>\n",
       "      <td>False</td>\n",
       "    </tr>\n",
       "    <tr>\n",
       "      <th>21</th>\n",
       "      <td>666293911632134144</td>\n",
       "      <td>https://pbs.twimg.com/media/CT8mx7KW4AEQu8N.jpg</td>\n",
       "      <td>1</td>\n",
       "      <td>three-toed_sloth</td>\n",
       "      <td>0.914671</td>\n",
       "      <td>False</td>\n",
       "      <td>otter</td>\n",
       "      <td>0.015250</td>\n",
       "      <td>False</td>\n",
       "      <td>great_grey_owl</td>\n",
       "      <td>0.013207</td>\n",
       "      <td>False</td>\n",
       "    </tr>\n",
       "    <tr>\n",
       "      <th>...</th>\n",
       "      <td>...</td>\n",
       "      <td>...</td>\n",
       "      <td>...</td>\n",
       "      <td>...</td>\n",
       "      <td>...</td>\n",
       "      <td>...</td>\n",
       "      <td>...</td>\n",
       "      <td>...</td>\n",
       "      <td>...</td>\n",
       "      <td>...</td>\n",
       "      <td>...</td>\n",
       "      <td>...</td>\n",
       "    </tr>\n",
       "    <tr>\n",
       "      <th>2026</th>\n",
       "      <td>882045870035918850</td>\n",
       "      <td>https://pbs.twimg.com/media/DD2oCl2WAAEI_4a.jpg</td>\n",
       "      <td>1</td>\n",
       "      <td>web_site</td>\n",
       "      <td>0.949591</td>\n",
       "      <td>False</td>\n",
       "      <td>dhole</td>\n",
       "      <td>0.017326</td>\n",
       "      <td>False</td>\n",
       "      <td>golden_retriever</td>\n",
       "      <td>0.006941</td>\n",
       "      <td>True</td>\n",
       "    </tr>\n",
       "    <tr>\n",
       "      <th>2046</th>\n",
       "      <td>886680336477933568</td>\n",
       "      <td>https://pbs.twimg.com/media/DE4fEDzWAAAyHMM.jpg</td>\n",
       "      <td>1</td>\n",
       "      <td>convertible</td>\n",
       "      <td>0.738995</td>\n",
       "      <td>False</td>\n",
       "      <td>sports_car</td>\n",
       "      <td>0.139952</td>\n",
       "      <td>False</td>\n",
       "      <td>car_wheel</td>\n",
       "      <td>0.044173</td>\n",
       "      <td>False</td>\n",
       "    </tr>\n",
       "    <tr>\n",
       "      <th>2052</th>\n",
       "      <td>887517139158093824</td>\n",
       "      <td>https://pbs.twimg.com/ext_tw_video_thumb/88751...</td>\n",
       "      <td>1</td>\n",
       "      <td>limousine</td>\n",
       "      <td>0.130432</td>\n",
       "      <td>False</td>\n",
       "      <td>tow_truck</td>\n",
       "      <td>0.029175</td>\n",
       "      <td>False</td>\n",
       "      <td>shopping_cart</td>\n",
       "      <td>0.026321</td>\n",
       "      <td>False</td>\n",
       "    </tr>\n",
       "    <tr>\n",
       "      <th>2071</th>\n",
       "      <td>891689557279858688</td>\n",
       "      <td>https://pbs.twimg.com/media/DF_q7IAWsAEuuN8.jpg</td>\n",
       "      <td>1</td>\n",
       "      <td>paper_towel</td>\n",
       "      <td>0.170278</td>\n",
       "      <td>False</td>\n",
       "      <td>Labrador_retriever</td>\n",
       "      <td>0.168086</td>\n",
       "      <td>True</td>\n",
       "      <td>spatula</td>\n",
       "      <td>0.040836</td>\n",
       "      <td>False</td>\n",
       "    </tr>\n",
       "    <tr>\n",
       "      <th>2074</th>\n",
       "      <td>892420643555336193</td>\n",
       "      <td>https://pbs.twimg.com/media/DGKD1-bXoAAIAUK.jpg</td>\n",
       "      <td>1</td>\n",
       "      <td>orange</td>\n",
       "      <td>0.097049</td>\n",
       "      <td>False</td>\n",
       "      <td>bagel</td>\n",
       "      <td>0.085851</td>\n",
       "      <td>False</td>\n",
       "      <td>banana</td>\n",
       "      <td>0.076110</td>\n",
       "      <td>False</td>\n",
       "    </tr>\n",
       "  </tbody>\n",
       "</table>\n",
       "<p>543 rows × 12 columns</p>\n",
       "</div>"
      ],
      "text/plain": [
       "                tweet_id                                            jpg_url  \\\n",
       "6     666051853826850816    https://pbs.twimg.com/media/CT5KoJ1WoAAJash.jpg   \n",
       "8     666057090499244032    https://pbs.twimg.com/media/CT5PY90WoAAQGLo.jpg   \n",
       "17    666104133288665088    https://pbs.twimg.com/media/CT56LSZWoAAlJj2.jpg   \n",
       "18    666268910803644416    https://pbs.twimg.com/media/CT8QCd1WEAADXws.jpg   \n",
       "21    666293911632134144    https://pbs.twimg.com/media/CT8mx7KW4AEQu8N.jpg   \n",
       "...                  ...                                                ...   \n",
       "2026  882045870035918850    https://pbs.twimg.com/media/DD2oCl2WAAEI_4a.jpg   \n",
       "2046  886680336477933568    https://pbs.twimg.com/media/DE4fEDzWAAAyHMM.jpg   \n",
       "2052  887517139158093824  https://pbs.twimg.com/ext_tw_video_thumb/88751...   \n",
       "2071  891689557279858688    https://pbs.twimg.com/media/DF_q7IAWsAEuuN8.jpg   \n",
       "2074  892420643555336193    https://pbs.twimg.com/media/DGKD1-bXoAAIAUK.jpg   \n",
       "\n",
       "      img_num                p1   p1_conf  p1_dog                  p2  \\\n",
       "6           1        box_turtle  0.933012   False          mud_turtle   \n",
       "8           1     shopping_cart  0.962465   False     shopping_basket   \n",
       "17          1               hen  0.965932   False                cock   \n",
       "18          1  desktop_computer  0.086502   False                desk   \n",
       "21          1  three-toed_sloth  0.914671   False               otter   \n",
       "...       ...               ...       ...     ...                 ...   \n",
       "2026        1          web_site  0.949591   False               dhole   \n",
       "2046        1       convertible  0.738995   False          sports_car   \n",
       "2052        1         limousine  0.130432   False           tow_truck   \n",
       "2071        1       paper_towel  0.170278   False  Labrador_retriever   \n",
       "2074        1            orange  0.097049   False               bagel   \n",
       "\n",
       "       p2_conf  p2_dog                p3   p3_conf  p3_dog  \n",
       "6     0.045885   False          terrapin  0.017885   False  \n",
       "8     0.014594   False  golden_retriever  0.007959    True  \n",
       "17    0.033919   False         partridge  0.000052   False  \n",
       "18    0.085547   False          bookcase  0.079480   False  \n",
       "21    0.015250   False    great_grey_owl  0.013207   False  \n",
       "...        ...     ...               ...       ...     ...  \n",
       "2026  0.017326   False  golden_retriever  0.006941    True  \n",
       "2046  0.139952   False         car_wheel  0.044173   False  \n",
       "2052  0.029175   False     shopping_cart  0.026321   False  \n",
       "2071  0.168086    True           spatula  0.040836   False  \n",
       "2074  0.085851   False            banana  0.076110   False  \n",
       "\n",
       "[543 rows x 12 columns]"
      ]
     },
     "execution_count": 98,
     "metadata": {},
     "output_type": "execute_result"
    }
   ],
   "source": [
    "# checking for tweet IDs the p1 algorithm as not being dogs\n",
    "df_02.query('p1_dog == False')"
   ]
  },
  {
   "cell_type": "markdown",
   "id": "4d1563ab",
   "metadata": {},
   "source": [
    "A total of 543 tweets where flagged by the algorithm as not being dogs"
   ]
  },
  {
   "cell_type": "markdown",
   "id": "c53b1cba",
   "metadata": {},
   "source": [
    "##### df_03"
   ]
  },
  {
   "cell_type": "code",
   "execution_count": 99,
   "id": "6ccdcdae",
   "metadata": {},
   "outputs": [
    {
     "data": {
      "text/html": [
       "<div>\n",
       "<style scoped>\n",
       "    .dataframe tbody tr th:only-of-type {\n",
       "        vertical-align: middle;\n",
       "    }\n",
       "\n",
       "    .dataframe tbody tr th {\n",
       "        vertical-align: top;\n",
       "    }\n",
       "\n",
       "    .dataframe thead th {\n",
       "        text-align: right;\n",
       "    }\n",
       "</style>\n",
       "<table border=\"1\" class=\"dataframe\">\n",
       "  <thead>\n",
       "    <tr style=\"text-align: right;\">\n",
       "      <th></th>\n",
       "      <th>id</th>\n",
       "      <th>retweet_count</th>\n",
       "      <th>favorite_count</th>\n",
       "    </tr>\n",
       "  </thead>\n",
       "  <tbody>\n",
       "    <tr>\n",
       "      <th>0</th>\n",
       "      <td>892420643555336193</td>\n",
       "      <td>6962</td>\n",
       "      <td>33652</td>\n",
       "    </tr>\n",
       "    <tr>\n",
       "      <th>1</th>\n",
       "      <td>892177421306343426</td>\n",
       "      <td>5267</td>\n",
       "      <td>29208</td>\n",
       "    </tr>\n",
       "    <tr>\n",
       "      <th>2</th>\n",
       "      <td>891815181378084864</td>\n",
       "      <td>3463</td>\n",
       "      <td>21959</td>\n",
       "    </tr>\n",
       "    <tr>\n",
       "      <th>3</th>\n",
       "      <td>891689557279858688</td>\n",
       "      <td>7189</td>\n",
       "      <td>36763</td>\n",
       "    </tr>\n",
       "    <tr>\n",
       "      <th>4</th>\n",
       "      <td>891327558926688256</td>\n",
       "      <td>7709</td>\n",
       "      <td>35120</td>\n",
       "    </tr>\n",
       "  </tbody>\n",
       "</table>\n",
       "</div>"
      ],
      "text/plain": [
       "                   id  retweet_count  favorite_count\n",
       "0  892420643555336193           6962           33652\n",
       "1  892177421306343426           5267           29208\n",
       "2  891815181378084864           3463           21959\n",
       "3  891689557279858688           7189           36763\n",
       "4  891327558926688256           7709           35120"
      ]
     },
     "execution_count": 99,
     "metadata": {},
     "output_type": "execute_result"
    }
   ],
   "source": [
    "# displaying the first 5 rows\n",
    "df_03.head()"
   ]
  },
  {
   "cell_type": "code",
   "execution_count": 100,
   "id": "c496a48d",
   "metadata": {
    "scrolled": true
   },
   "outputs": [
    {
     "name": "stdout",
     "output_type": "stream",
     "text": [
      "<class 'pandas.core.frame.DataFrame'>\n",
      "RangeIndex: 2327 entries, 0 to 2326\n",
      "Data columns (total 3 columns):\n",
      " #   Column          Non-Null Count  Dtype\n",
      "---  ------          --------------  -----\n",
      " 0   id              2327 non-null   int64\n",
      " 1   retweet_count   2327 non-null   int64\n",
      " 2   favorite_count  2327 non-null   int64\n",
      "dtypes: int64(3)\n",
      "memory usage: 54.7 KB\n"
     ]
    }
   ],
   "source": [
    "df_03.info()"
   ]
  },
  {
   "cell_type": "code",
   "execution_count": 101,
   "id": "0a6d6a93",
   "metadata": {},
   "outputs": [
    {
     "data": {
      "text/plain": [
       "0"
      ]
     },
     "execution_count": 101,
     "metadata": {},
     "output_type": "execute_result"
    }
   ],
   "source": [
    "# checking for number of duplicates\n",
    "df_03.duplicated().sum()"
   ]
  },
  {
   "cell_type": "code",
   "execution_count": 102,
   "id": "16aa854c",
   "metadata": {},
   "outputs": [
    {
     "data": {
      "text/html": [
       "<div>\n",
       "<style scoped>\n",
       "    .dataframe tbody tr th:only-of-type {\n",
       "        vertical-align: middle;\n",
       "    }\n",
       "\n",
       "    .dataframe tbody tr th {\n",
       "        vertical-align: top;\n",
       "    }\n",
       "\n",
       "    .dataframe thead th {\n",
       "        text-align: right;\n",
       "    }\n",
       "</style>\n",
       "<table border=\"1\" class=\"dataframe\">\n",
       "  <thead>\n",
       "    <tr style=\"text-align: right;\">\n",
       "      <th></th>\n",
       "      <th>id</th>\n",
       "      <th>retweet_count</th>\n",
       "      <th>favorite_count</th>\n",
       "    </tr>\n",
       "  </thead>\n",
       "  <tbody>\n",
       "    <tr>\n",
       "      <th>count</th>\n",
       "      <td>2.327000e+03</td>\n",
       "      <td>2327.000000</td>\n",
       "      <td>2327.000000</td>\n",
       "    </tr>\n",
       "    <tr>\n",
       "      <th>mean</th>\n",
       "      <td>7.417930e+17</td>\n",
       "      <td>2456.647185</td>\n",
       "      <td>7019.900731</td>\n",
       "    </tr>\n",
       "    <tr>\n",
       "      <th>std</th>\n",
       "      <td>6.820795e+16</td>\n",
       "      <td>4159.638809</td>\n",
       "      <td>10907.925731</td>\n",
       "    </tr>\n",
       "    <tr>\n",
       "      <th>min</th>\n",
       "      <td>6.660209e+17</td>\n",
       "      <td>1.000000</td>\n",
       "      <td>0.000000</td>\n",
       "    </tr>\n",
       "    <tr>\n",
       "      <th>25%</th>\n",
       "      <td>6.781394e+17</td>\n",
       "      <td>492.500000</td>\n",
       "      <td>1218.000000</td>\n",
       "    </tr>\n",
       "    <tr>\n",
       "      <th>50%</th>\n",
       "      <td>7.178418e+17</td>\n",
       "      <td>1143.000000</td>\n",
       "      <td>3033.000000</td>\n",
       "    </tr>\n",
       "    <tr>\n",
       "      <th>75%</th>\n",
       "      <td>7.986547e+17</td>\n",
       "      <td>2843.500000</td>\n",
       "      <td>8554.500000</td>\n",
       "    </tr>\n",
       "    <tr>\n",
       "      <th>max</th>\n",
       "      <td>8.924206e+17</td>\n",
       "      <td>70243.000000</td>\n",
       "      <td>144106.000000</td>\n",
       "    </tr>\n",
       "  </tbody>\n",
       "</table>\n",
       "</div>"
      ],
      "text/plain": [
       "                 id  retweet_count  favorite_count\n",
       "count  2.327000e+03    2327.000000     2327.000000\n",
       "mean   7.417930e+17    2456.647185     7019.900731\n",
       "std    6.820795e+16    4159.638809    10907.925731\n",
       "min    6.660209e+17       1.000000        0.000000\n",
       "25%    6.781394e+17     492.500000     1218.000000\n",
       "50%    7.178418e+17    1143.000000     3033.000000\n",
       "75%    7.986547e+17    2843.500000     8554.500000\n",
       "max    8.924206e+17   70243.000000   144106.000000"
      ]
     },
     "execution_count": 102,
     "metadata": {},
     "output_type": "execute_result"
    }
   ],
   "source": [
    "# descriptive statistics of the DataFrame\n",
    "df_03.describe()"
   ]
  },
  {
   "cell_type": "markdown",
   "id": "abbf731a",
   "metadata": {},
   "source": [
    "### QUALITY ISSUES\n",
    "\n",
    "#### df\n",
    "* Dataframe contains retweets\n",
    "* Some tweets have double dog stages for one dog\n",
    "* Missing values in the `in_reply_to_status_id` column\n",
    "* Missing values in the `in_reply_to_user_id` column\n",
    "* HTML tag in the `source` column\n",
    "* Missing values in the `retweeted_status_id` column\n",
    "* Missing values in the `retweeted_status_timestamp` column\n",
    "* Missing values represented as `None` in the `name` column\n",
    "* Missing values in the `expanded_urls` column\n",
    "* Data type of `timestamps` column is string\n",
    "* `rating_denominator` column has values less than or more than 10\n",
    "* irrelevant columns(`in_reply_to_status_id`,`in_reply_to_user_id`, `source`, `retweeted_status_id`,`retweeted_status_user_id`, `retweeted_status_timestamp`, `expanded_urls`, `name`)\n",
    "\n",
    "\n",
    "#### df_02\n",
    "* Some values in the `p1`, `p2_` and `p3` columns are capitalized while others are not\n",
    "* The confidence level of the 2nd(`p2_conf`) and 3rd(`p3_conf`) algorithms are relatively lower than the 1st algorithm(`p1_conf`)\n",
    "* According to the p1 algorithm some tweets are not dogs hence `False` in the `p1_dog` column\n",
    "* `jpg_url` column is irrelevant \n",
    "\n",
    "#### df_03\n",
    "* tweet IDs column is labeled as `id`"
   ]
  },
  {
   "cell_type": "markdown",
   "id": "f5859745",
   "metadata": {},
   "source": [
    "### Tidiness issues\n",
    "* dog stage is one variable but it is spread across multiple columns - `doggo`,`pupper`,`floofer`,`puppo` in the `df` dataframe\n",
    "* information about one observational unit (tweets) is contained in the 3 different dataframes\n"
   ]
  },
  {
   "cell_type": "markdown",
   "id": "8b6ac46c",
   "metadata": {},
   "source": [
    "<a id='clean'></a>\n",
    "## Cleaning Data"
   ]
  },
  {
   "cell_type": "markdown",
   "id": "3037d647",
   "metadata": {},
   "source": [
    "#### COPYING"
   ]
  },
  {
   "cell_type": "code",
   "execution_count": 103,
   "id": "f18c52a8",
   "metadata": {},
   "outputs": [],
   "source": [
    "# creating a copy of each DataFrame\n",
    "df_clean = copy.deepcopy(df)\n",
    "df_02_clean = copy.deepcopy(df_02)\n",
    "df_03_clean = copy.deepcopy(df_03)"
   ]
  },
  {
   "cell_type": "markdown",
   "id": "8043ceea",
   "metadata": {},
   "source": [
    "### Issue:\n",
    "* double dog stages instead of one\n",
    "* wrong rating numerator and denominator\n",
    "* tweets with ratings that were not dog ratings"
   ]
  },
  {
   "cell_type": "markdown",
   "id": "52bf3b25",
   "metadata": {},
   "source": [
    "#### Define:\n",
    "* Drop index of tweets identified to not be dog ratings\n",
    "* Replace wrong dog stages with `None`\n",
    "* Replace wrong rating numerator and denominator with correct figures obtained from the text"
   ]
  },
  {
   "cell_type": "markdown",
   "id": "da393ac4",
   "metadata": {},
   "source": [
    "#### Code"
   ]
  },
  {
   "cell_type": "code",
   "execution_count": 104,
   "id": "cef51ced",
   "metadata": {},
   "outputs": [],
   "source": [
    "df_clean.drop([784,1598,342,313,516,1635,1663,188],inplace=True)"
   ]
  },
  {
   "cell_type": "code",
   "execution_count": 105,
   "id": "23d0438a",
   "metadata": {},
   "outputs": [],
   "source": [
    "# correcting double dog stages that should have been 1\n",
    "df_clean.at[200,'doggo'] = \"None\"\n",
    "df_clean.at[460,'doggo'] = \"None\"\n",
    "df_clean.at[575,'doggo'] = \"None\"\n",
    "df_clean.at[705,'pupper'] = \"None\"\n",
    "df_clean.at[956,'doggo'] = \"None\"\n",
    "df_clean.at[956,'pupper'] = \"None\"\n",
    "df_clean.at[191,'doggo'] = \"None\""
   ]
  },
  {
   "cell_type": "code",
   "execution_count": 106,
   "id": "5368b531",
   "metadata": {},
   "outputs": [],
   "source": [
    "# changing the rating_denominator to reflect the correct rating\n",
    "index = [1068,1662,1202,1165,2335]\n",
    "for i in index:\n",
    "    df_clean.at[i,'rating_denominator']=10"
   ]
  },
  {
   "cell_type": "code",
   "execution_count": 107,
   "id": "48c7cc01",
   "metadata": {},
   "outputs": [],
   "source": [
    "# correcting rating_numerator\n",
    "df_clean.at[1068,'rating_numerator'] = 14\n",
    "df_clean.at[1662,'rating_numerator'] = 10\n",
    "df_clean.at[1202,'rating_numerator'] = 11\n",
    "df_clean.at[1165,'rating_numerator'] = 13\n",
    "df_clean.at[2335,'rating_numerator'] = 9\n",
    "df_clean.at[763, 'rating_numerator'] = 11.27\n",
    "df_clean.at[1712,'rating_numerator'] = 11.26\n",
    "df_clean.at[55,  'rating_numerator'] = 13\n",
    "df_clean.at[340, 'rating_numerator'] = 9.75\n",
    "df_clean.at[695, 'rating_numerator'] = 9.75\n",
    "df_clean.at[45,  'rating_numerator'] = 13.5"
   ]
  },
  {
   "cell_type": "markdown",
   "id": "2e3affec",
   "metadata": {},
   "source": [
    "#### Test"
   ]
  },
  {
   "cell_type": "code",
   "execution_count": 108,
   "id": "39940783",
   "metadata": {},
   "outputs": [
    {
     "data": {
      "text/plain": [
       "False"
      ]
     },
     "execution_count": 108,
     "metadata": {},
     "output_type": "execute_result"
    }
   ],
   "source": [
    "df_clean['rating_numerator'].equals(df['rating_numerator'])"
   ]
  },
  {
   "cell_type": "code",
   "execution_count": 109,
   "id": "46e3851e",
   "metadata": {},
   "outputs": [
    {
     "data": {
      "text/plain": [
       "False"
      ]
     },
     "execution_count": 109,
     "metadata": {},
     "output_type": "execute_result"
    }
   ],
   "source": [
    "df_clean['rating_denominator'].equals(df['rating_denominator'])"
   ]
  },
  {
   "cell_type": "markdown",
   "id": "ed7ece1e",
   "metadata": {},
   "source": [
    "### Issue :\n",
    "*  `df` DataFrame contains retweets"
   ]
  },
  {
   "cell_type": "markdown",
   "id": "47f18bd8",
   "metadata": {},
   "source": [
    "#### Define\n",
    "* drop rows where `retweeted_status_id` column is not null by filtering for the index of those rows"
   ]
  },
  {
   "cell_type": "markdown",
   "id": "6f12c0e1",
   "metadata": {},
   "source": [
    "Note: Tweet IDs with non null values in `retweeted_status_id`, `retweeted_status_user_id` and `retweeted_status_timestamp` are retweets."
   ]
  },
  {
   "cell_type": "markdown",
   "id": "63820328",
   "metadata": {},
   "source": [
    "#### Code"
   ]
  },
  {
   "cell_type": "code",
   "execution_count": 110,
   "id": "706f0eb2",
   "metadata": {},
   "outputs": [],
   "source": [
    "# dropping rows using index of rows where the `retweeted_status_id` column is not null\n",
    "df_clean.drop(df_clean.index[df_clean['retweeted_status_id'].notnull()], inplace=True)"
   ]
  },
  {
   "cell_type": "markdown",
   "id": "0048ea20",
   "metadata": {},
   "source": [
    "#### Test"
   ]
  },
  {
   "cell_type": "code",
   "execution_count": 111,
   "id": "6852737d",
   "metadata": {
    "scrolled": true
   },
   "outputs": [
    {
     "name": "stdout",
     "output_type": "stream",
     "text": [
      "<class 'pandas.core.frame.DataFrame'>\n",
      "Int64Index: 2168 entries, 0 to 2355\n",
      "Data columns (total 17 columns):\n",
      " #   Column                      Non-Null Count  Dtype  \n",
      "---  ------                      --------------  -----  \n",
      " 0   tweet_id                    2168 non-null   int64  \n",
      " 1   in_reply_to_status_id       73 non-null     float64\n",
      " 2   in_reply_to_user_id         73 non-null     float64\n",
      " 3   timestamp                   2168 non-null   object \n",
      " 4   source                      2168 non-null   object \n",
      " 5   text                        2168 non-null   object \n",
      " 6   retweeted_status_id         0 non-null      float64\n",
      " 7   retweeted_status_user_id    0 non-null      float64\n",
      " 8   retweeted_status_timestamp  0 non-null      object \n",
      " 9   expanded_urls               2115 non-null   object \n",
      " 10  rating_numerator            2168 non-null   float64\n",
      " 11  rating_denominator          2168 non-null   int64  \n",
      " 12  name                        2168 non-null   object \n",
      " 13  doggo                       2168 non-null   object \n",
      " 14  floofer                     2168 non-null   object \n",
      " 15  pupper                      2168 non-null   object \n",
      " 16  puppo                       2168 non-null   object \n",
      "dtypes: float64(5), int64(2), object(10)\n",
      "memory usage: 304.9+ KB\n"
     ]
    }
   ],
   "source": [
    "df_clean.info()"
   ]
  },
  {
   "cell_type": "markdown",
   "id": "93481dfc",
   "metadata": {},
   "source": [
    "0 non-null values in the `retweeted_status_id`,`retweeted_status_user` and `retweeted_status_timestamp` columns confirms that retweets have been dropped"
   ]
  },
  {
   "cell_type": "markdown",
   "id": "fe4cf7b9",
   "metadata": {},
   "source": [
    "### Issue: \n",
    "* dog stage is one variable but it is spread across multiple columns - `doggo`,`pupper`,`floofer`,`puppo` in the `df` dataframe"
   ]
  },
  {
   "cell_type": "markdown",
   "id": "2e3521e0",
   "metadata": {},
   "source": [
    "#### Define\n",
    "* Replace `None` in those columns with empty strings\n",
    "* Combine values in four columns into one column\n",
    "* Replace multiple dog stages with `multiple_stages`\n"
   ]
  },
  {
   "cell_type": "markdown",
   "id": "3cb508d6",
   "metadata": {},
   "source": [
    "#### Code"
   ]
  },
  {
   "cell_type": "code",
   "execution_count": 112,
   "id": "3d42fb1b",
   "metadata": {},
   "outputs": [],
   "source": [
    "# replacing `None` in the columns with NaN\n",
    "df_clean.doggo = df_clean.doggo.replace('None','')\n",
    "df_clean.pupper = df_clean.pupper.replace('None','')\n",
    "df_clean.floofer = df_clean.floofer.replace('None','')\n",
    "df_clean.puppo = df_clean.puppo.replace('None','')"
   ]
  },
  {
   "cell_type": "code",
   "execution_count": 113,
   "id": "9f945945",
   "metadata": {},
   "outputs": [],
   "source": [
    "# creating new column by combining string values in four columns\n",
    "df_clean['dog_stage'] = df_clean['doggo'] + df_clean['floofer'] + df_clean['pupper'] + df_clean['puppo']"
   ]
  },
  {
   "cell_type": "code",
   "execution_count": 114,
   "id": "f392e9ac",
   "metadata": {},
   "outputs": [
    {
     "data": {
      "text/plain": [
       "               1825\n",
       "pupper          226\n",
       "doggo            76\n",
       "puppo            25\n",
       "floofer          10\n",
       "doggopupper       6\n",
       "Name: dog_stage, dtype: int64"
      ]
     },
     "execution_count": 114,
     "metadata": {},
     "output_type": "execute_result"
    }
   ],
   "source": [
    "df_clean.dog_stage.value_counts()"
   ]
  },
  {
   "cell_type": "markdown",
   "id": "85a4f2cc",
   "metadata": {},
   "source": [
    "Empty strings are captured as values and stage names are joined where there were two stages in the tweet"
   ]
  },
  {
   "cell_type": "code",
   "execution_count": 115,
   "id": "3124f4fc",
   "metadata": {},
   "outputs": [],
   "source": [
    "# index of rows with double dog stages\n",
    "a = df_clean.query('dog_stage == \"doggopupper\"').index\n",
    "b = df_clean.query('dog_stage == \"doggopuppo\"').index\n",
    "c = df_clean.query('dog_stage == \"doggofloofer\"').index\n",
    "# appending the indexes to one variable\n",
    "index = a.append(b).append(c)"
   ]
  },
  {
   "cell_type": "code",
   "execution_count": 116,
   "id": "f49842e1",
   "metadata": {},
   "outputs": [],
   "source": [
    "# looping through the index and replacing double dog stage names\n",
    "for i in index:\n",
    "    df_clean.at[i,'dog_stage'] = 'multiple_stages'"
   ]
  },
  {
   "cell_type": "code",
   "execution_count": 117,
   "id": "8e15a7b1",
   "metadata": {},
   "outputs": [
    {
     "data": {
      "text/plain": [
       "                   1825\n",
       "pupper              226\n",
       "doggo                76\n",
       "puppo                25\n",
       "floofer              10\n",
       "multiple_stages       6\n",
       "Name: dog_stage, dtype: int64"
      ]
     },
     "execution_count": 117,
     "metadata": {},
     "output_type": "execute_result"
    }
   ],
   "source": [
    "df_clean.dog_stage.value_counts()"
   ]
  },
  {
   "cell_type": "code",
   "execution_count": 118,
   "id": "5e72c1e4",
   "metadata": {},
   "outputs": [],
   "source": [
    "# dropping the four columns that were merged into one\n",
    "df_clean.drop(['doggo','floofer','pupper','puppo'],axis=1,inplace=True)"
   ]
  },
  {
   "cell_type": "markdown",
   "id": "b8172b70",
   "metadata": {},
   "source": [
    "#### Test"
   ]
  },
  {
   "cell_type": "code",
   "execution_count": 119,
   "id": "eb05f30e",
   "metadata": {
    "scrolled": true
   },
   "outputs": [
    {
     "data": {
      "text/plain": [
       "                   1825\n",
       "pupper              226\n",
       "doggo                76\n",
       "puppo                25\n",
       "floofer              10\n",
       "multiple_stages       6\n",
       "Name: dog_stage, dtype: int64"
      ]
     },
     "execution_count": 119,
     "metadata": {},
     "output_type": "execute_result"
    }
   ],
   "source": [
    "df_clean.dog_stage.value_counts()"
   ]
  },
  {
   "cell_type": "markdown",
   "id": "d3b9d7b7",
   "metadata": {},
   "source": [
    "Empty strings are regarded as values hence why they appear in the value counts however as stated earlier, these may be transformed into NaNs as the analysis progresses"
   ]
  },
  {
   "cell_type": "markdown",
   "id": "57ebd480",
   "metadata": {},
   "source": [
    "### Issue: \n",
    "\n",
    "* data type of `timestamp` column is string instead of datetime"
   ]
  },
  {
   "cell_type": "markdown",
   "id": "6cbd5ecc",
   "metadata": {},
   "source": [
    "#### Define:\n",
    "* convert dtype of `timestamp` column to datetime"
   ]
  },
  {
   "cell_type": "markdown",
   "id": "6a85abaf",
   "metadata": {},
   "source": [
    "#### Code"
   ]
  },
  {
   "cell_type": "code",
   "execution_count": 120,
   "id": "d463a823",
   "metadata": {},
   "outputs": [],
   "source": [
    "# converting column dtype to datetime\n",
    "df_clean['timestamp'] = pd.to_datetime(df['timestamp'])"
   ]
  },
  {
   "cell_type": "markdown",
   "id": "5819214d",
   "metadata": {},
   "source": [
    "#### Test"
   ]
  },
  {
   "cell_type": "code",
   "execution_count": 121,
   "id": "b8598665",
   "metadata": {
    "scrolled": true
   },
   "outputs": [
    {
     "name": "stdout",
     "output_type": "stream",
     "text": [
      "<class 'pandas.core.frame.DataFrame'>\n",
      "Int64Index: 2168 entries, 0 to 2355\n",
      "Data columns (total 14 columns):\n",
      " #   Column                      Non-Null Count  Dtype              \n",
      "---  ------                      --------------  -----              \n",
      " 0   tweet_id                    2168 non-null   int64              \n",
      " 1   in_reply_to_status_id       73 non-null     float64            \n",
      " 2   in_reply_to_user_id         73 non-null     float64            \n",
      " 3   timestamp                   2168 non-null   datetime64[ns, UTC]\n",
      " 4   source                      2168 non-null   object             \n",
      " 5   text                        2168 non-null   object             \n",
      " 6   retweeted_status_id         0 non-null      float64            \n",
      " 7   retweeted_status_user_id    0 non-null      float64            \n",
      " 8   retweeted_status_timestamp  0 non-null      object             \n",
      " 9   expanded_urls               2115 non-null   object             \n",
      " 10  rating_numerator            2168 non-null   float64            \n",
      " 11  rating_denominator          2168 non-null   int64              \n",
      " 12  name                        2168 non-null   object             \n",
      " 13  dog_stage                   2168 non-null   object             \n",
      "dtypes: datetime64[ns, UTC](1), float64(5), int64(2), object(6)\n",
      "memory usage: 318.6+ KB\n"
     ]
    }
   ],
   "source": [
    "df_clean.info()"
   ]
  },
  {
   "cell_type": "markdown",
   "id": "a2e52aa2",
   "metadata": {},
   "source": [
    "### Issues:\n",
    "* Missing values in the `in_reply_to_status_id` column\n",
    "* Missing values in the `in_reply_to_user_id` column\n",
    "* HTML tag in the `source` column\n",
    "* Missing values in the `retweeted_status_id` column\n",
    "* Missing values in the `retweeted_status_timestamp` column\n",
    "* Missing values represented as `None` in the `name` column\n",
    "* Missing values in the `expanded_urls` column"
   ]
  },
  {
   "cell_type": "markdown",
   "id": "ddfda000",
   "metadata": {},
   "source": [
    "Note: These issues can be accessed and cleaned individually but as they are not relevant to the analysis, they were just dropped."
   ]
  },
  {
   "cell_type": "markdown",
   "id": "c354dece",
   "metadata": {},
   "source": [
    "#### Define:\n",
    "\n",
    "* Drop columns with missing values and html tags"
   ]
  },
  {
   "cell_type": "markdown",
   "id": "36656b9e",
   "metadata": {},
   "source": [
    "#### Code"
   ]
  },
  {
   "cell_type": "code",
   "execution_count": 122,
   "id": "930b51ad",
   "metadata": {},
   "outputs": [],
   "source": [
    "# dropping the columns listed above\n",
    "columns = ['in_reply_to_status_id', 'in_reply_to_user_id','source',\n",
    "           'retweeted_status_id','retweeted_status_user_id',\n",
    "           'retweeted_status_timestamp','expanded_urls','name']\n",
    "df_clean.drop(columns,axis=1,inplace=True)"
   ]
  },
  {
   "cell_type": "markdown",
   "id": "3b2bc5dd",
   "metadata": {},
   "source": [
    "#### Test"
   ]
  },
  {
   "cell_type": "code",
   "execution_count": 123,
   "id": "9474826f",
   "metadata": {},
   "outputs": [
    {
     "data": {
      "text/plain": [
       "Index(['tweet_id', 'timestamp', 'text', 'rating_numerator',\n",
       "       'rating_denominator', 'dog_stage'],\n",
       "      dtype='object')"
      ]
     },
     "execution_count": 123,
     "metadata": {},
     "output_type": "execute_result"
    }
   ],
   "source": [
    "df_clean.columns"
   ]
  },
  {
   "cell_type": "markdown",
   "id": "ff85d797",
   "metadata": {},
   "source": [
    "### Issue: \n",
    "* Some values in the `p1`, `p2` and `p3` columns are capitalized while others are not"
   ]
  },
  {
   "cell_type": "markdown",
   "id": "7efa8678",
   "metadata": {},
   "source": [
    "#### Define\n",
    "* Convert all values in the three columns to lowercase"
   ]
  },
  {
   "cell_type": "markdown",
   "id": "bbcceb92",
   "metadata": {},
   "source": [
    "#### Code"
   ]
  },
  {
   "cell_type": "code",
   "execution_count": 124,
   "id": "2ac97c6c",
   "metadata": {},
   "outputs": [],
   "source": [
    "df_02_clean['p1'] = df_02_clean.p1.str.lower()\n",
    "df_02_clean['p2'] = df_02_clean.p2.str.lower()\n",
    "df_02_clean['p3'] = df_02_clean.p3.str.lower()"
   ]
  },
  {
   "cell_type": "markdown",
   "id": "f9288023",
   "metadata": {},
   "source": [
    "#### Test"
   ]
  },
  {
   "cell_type": "code",
   "execution_count": 125,
   "id": "621a0691",
   "metadata": {
    "scrolled": true
   },
   "outputs": [
    {
     "data": {
      "text/html": [
       "<div>\n",
       "<style scoped>\n",
       "    .dataframe tbody tr th:only-of-type {\n",
       "        vertical-align: middle;\n",
       "    }\n",
       "\n",
       "    .dataframe tbody tr th {\n",
       "        vertical-align: top;\n",
       "    }\n",
       "\n",
       "    .dataframe thead th {\n",
       "        text-align: right;\n",
       "    }\n",
       "</style>\n",
       "<table border=\"1\" class=\"dataframe\">\n",
       "  <thead>\n",
       "    <tr style=\"text-align: right;\">\n",
       "      <th></th>\n",
       "      <th>tweet_id</th>\n",
       "      <th>jpg_url</th>\n",
       "      <th>img_num</th>\n",
       "      <th>p1</th>\n",
       "      <th>p1_conf</th>\n",
       "      <th>p1_dog</th>\n",
       "      <th>p2</th>\n",
       "      <th>p2_conf</th>\n",
       "      <th>p2_dog</th>\n",
       "      <th>p3</th>\n",
       "      <th>p3_conf</th>\n",
       "      <th>p3_dog</th>\n",
       "    </tr>\n",
       "  </thead>\n",
       "  <tbody>\n",
       "    <tr>\n",
       "      <th>1176</th>\n",
       "      <td>737678689543020544</td>\n",
       "      <td>https://pbs.twimg.com/media/CjzC2oGWYAAyIfG.jpg</td>\n",
       "      <td>1</td>\n",
       "      <td>pembroke</td>\n",
       "      <td>0.935307</td>\n",
       "      <td>True</td>\n",
       "      <td>cardigan</td>\n",
       "      <td>0.049874</td>\n",
       "      <td>True</td>\n",
       "      <td>chihuahua</td>\n",
       "      <td>0.011603</td>\n",
       "      <td>True</td>\n",
       "    </tr>\n",
       "    <tr>\n",
       "      <th>35</th>\n",
       "      <td>666437273139982337</td>\n",
       "      <td>https://pbs.twimg.com/media/CT-pKmRWIAAxUWj.jpg</td>\n",
       "      <td>1</td>\n",
       "      <td>chihuahua</td>\n",
       "      <td>0.671853</td>\n",
       "      <td>True</td>\n",
       "      <td>beagle</td>\n",
       "      <td>0.124680</td>\n",
       "      <td>True</td>\n",
       "      <td>saluki</td>\n",
       "      <td>0.044094</td>\n",
       "      <td>True</td>\n",
       "    </tr>\n",
       "    <tr>\n",
       "      <th>205</th>\n",
       "      <td>669923323644657664</td>\n",
       "      <td>https://pbs.twimg.com/media/CUwLtPeU8AAfAb2.jpg</td>\n",
       "      <td>1</td>\n",
       "      <td>car_mirror</td>\n",
       "      <td>0.343063</td>\n",
       "      <td>False</td>\n",
       "      <td>seat_belt</td>\n",
       "      <td>0.110289</td>\n",
       "      <td>False</td>\n",
       "      <td>wing</td>\n",
       "      <td>0.080148</td>\n",
       "      <td>False</td>\n",
       "    </tr>\n",
       "    <tr>\n",
       "      <th>1762</th>\n",
       "      <td>826204788643753985</td>\n",
       "      <td>https://pbs.twimg.com/media/C3dEza1WcAAhlNU.jpg</td>\n",
       "      <td>2</td>\n",
       "      <td>labrador_retriever</td>\n",
       "      <td>0.782058</td>\n",
       "      <td>True</td>\n",
       "      <td>golden_retriever</td>\n",
       "      <td>0.156581</td>\n",
       "      <td>True</td>\n",
       "      <td>soft-coated_wheaten_terrier</td>\n",
       "      <td>0.007275</td>\n",
       "      <td>True</td>\n",
       "    </tr>\n",
       "    <tr>\n",
       "      <th>857</th>\n",
       "      <td>696877980375769088</td>\n",
       "      <td>https://pbs.twimg.com/media/CavO0uuWEAE96Ed.jpg</td>\n",
       "      <td>1</td>\n",
       "      <td>space_heater</td>\n",
       "      <td>0.206876</td>\n",
       "      <td>False</td>\n",
       "      <td>spatula</td>\n",
       "      <td>0.123450</td>\n",
       "      <td>False</td>\n",
       "      <td>vacuum</td>\n",
       "      <td>0.119218</td>\n",
       "      <td>False</td>\n",
       "    </tr>\n",
       "    <tr>\n",
       "      <th>557</th>\n",
       "      <td>677687604918272002</td>\n",
       "      <td>https://pbs.twimg.com/media/CWehRdEWIAAySyO.jpg</td>\n",
       "      <td>1</td>\n",
       "      <td>pembroke</td>\n",
       "      <td>0.573047</td>\n",
       "      <td>True</td>\n",
       "      <td>sunglasses</td>\n",
       "      <td>0.126758</td>\n",
       "      <td>False</td>\n",
       "      <td>golden_retriever</td>\n",
       "      <td>0.108047</td>\n",
       "      <td>True</td>\n",
       "    </tr>\n",
       "    <tr>\n",
       "      <th>566</th>\n",
       "      <td>678334497360859136</td>\n",
       "      <td>https://pbs.twimg.com/media/CWntoDVWcAEl3NB.jpg</td>\n",
       "      <td>1</td>\n",
       "      <td>norfolk_terrier</td>\n",
       "      <td>0.378643</td>\n",
       "      <td>True</td>\n",
       "      <td>golden_retriever</td>\n",
       "      <td>0.095594</td>\n",
       "      <td>True</td>\n",
       "      <td>kelpie</td>\n",
       "      <td>0.085309</td>\n",
       "      <td>True</td>\n",
       "    </tr>\n",
       "    <tr>\n",
       "      <th>376</th>\n",
       "      <td>673148804208660480</td>\n",
       "      <td>https://pbs.twimg.com/media/CVeBQwiUsAAqhLw.jpg</td>\n",
       "      <td>1</td>\n",
       "      <td>tub</td>\n",
       "      <td>0.873010</td>\n",
       "      <td>False</td>\n",
       "      <td>bathtub</td>\n",
       "      <td>0.091434</td>\n",
       "      <td>False</td>\n",
       "      <td>toilet_seat</td>\n",
       "      <td>0.025456</td>\n",
       "      <td>False</td>\n",
       "    </tr>\n",
       "    <tr>\n",
       "      <th>1946</th>\n",
       "      <td>862457590147678208</td>\n",
       "      <td>https://pbs.twimg.com/media/C_gQmaTUMAAPYSS.jpg</td>\n",
       "      <td>1</td>\n",
       "      <td>home_theater</td>\n",
       "      <td>0.496348</td>\n",
       "      <td>False</td>\n",
       "      <td>studio_couch</td>\n",
       "      <td>0.167256</td>\n",
       "      <td>False</td>\n",
       "      <td>barber_chair</td>\n",
       "      <td>0.052625</td>\n",
       "      <td>False</td>\n",
       "    </tr>\n",
       "    <tr>\n",
       "      <th>1093</th>\n",
       "      <td>719704490224398336</td>\n",
       "      <td>https://pbs.twimg.com/media/CfznaXuUsAAH-py.jpg</td>\n",
       "      <td>1</td>\n",
       "      <td>home_theater</td>\n",
       "      <td>0.059033</td>\n",
       "      <td>False</td>\n",
       "      <td>window_shade</td>\n",
       "      <td>0.038299</td>\n",
       "      <td>False</td>\n",
       "      <td>bathtub</td>\n",
       "      <td>0.035528</td>\n",
       "      <td>False</td>\n",
       "    </tr>\n",
       "  </tbody>\n",
       "</table>\n",
       "</div>"
      ],
      "text/plain": [
       "                tweet_id                                          jpg_url  \\\n",
       "1176  737678689543020544  https://pbs.twimg.com/media/CjzC2oGWYAAyIfG.jpg   \n",
       "35    666437273139982337  https://pbs.twimg.com/media/CT-pKmRWIAAxUWj.jpg   \n",
       "205   669923323644657664  https://pbs.twimg.com/media/CUwLtPeU8AAfAb2.jpg   \n",
       "1762  826204788643753985  https://pbs.twimg.com/media/C3dEza1WcAAhlNU.jpg   \n",
       "857   696877980375769088  https://pbs.twimg.com/media/CavO0uuWEAE96Ed.jpg   \n",
       "557   677687604918272002  https://pbs.twimg.com/media/CWehRdEWIAAySyO.jpg   \n",
       "566   678334497360859136  https://pbs.twimg.com/media/CWntoDVWcAEl3NB.jpg   \n",
       "376   673148804208660480  https://pbs.twimg.com/media/CVeBQwiUsAAqhLw.jpg   \n",
       "1946  862457590147678208  https://pbs.twimg.com/media/C_gQmaTUMAAPYSS.jpg   \n",
       "1093  719704490224398336  https://pbs.twimg.com/media/CfznaXuUsAAH-py.jpg   \n",
       "\n",
       "      img_num                  p1   p1_conf  p1_dog                p2  \\\n",
       "1176        1            pembroke  0.935307    True          cardigan   \n",
       "35          1           chihuahua  0.671853    True            beagle   \n",
       "205         1          car_mirror  0.343063   False         seat_belt   \n",
       "1762        2  labrador_retriever  0.782058    True  golden_retriever   \n",
       "857         1        space_heater  0.206876   False           spatula   \n",
       "557         1            pembroke  0.573047    True        sunglasses   \n",
       "566         1     norfolk_terrier  0.378643    True  golden_retriever   \n",
       "376         1                 tub  0.873010   False           bathtub   \n",
       "1946        1        home_theater  0.496348   False      studio_couch   \n",
       "1093        1        home_theater  0.059033   False      window_shade   \n",
       "\n",
       "       p2_conf  p2_dog                           p3   p3_conf  p3_dog  \n",
       "1176  0.049874    True                    chihuahua  0.011603    True  \n",
       "35    0.124680    True                       saluki  0.044094    True  \n",
       "205   0.110289   False                         wing  0.080148   False  \n",
       "1762  0.156581    True  soft-coated_wheaten_terrier  0.007275    True  \n",
       "857   0.123450   False                       vacuum  0.119218   False  \n",
       "557   0.126758   False             golden_retriever  0.108047    True  \n",
       "566   0.095594    True                       kelpie  0.085309    True  \n",
       "376   0.091434   False                  toilet_seat  0.025456   False  \n",
       "1946  0.167256   False                 barber_chair  0.052625   False  \n",
       "1093  0.038299   False                      bathtub  0.035528   False  "
      ]
     },
     "execution_count": 125,
     "metadata": {},
     "output_type": "execute_result"
    }
   ],
   "source": [
    "df_02_clean.sample(10)"
   ]
  },
  {
   "cell_type": "markdown",
   "id": "8c748682",
   "metadata": {},
   "source": [
    "### Issue:\n",
    "* the confidence level of the 2nd(`p2_conf`) and 3rd(`p3_conf`) algorithms are relatively lower than the 1st algorithm(`p1_conf`)\n",
    "\n"
   ]
  },
  {
   "cell_type": "markdown",
   "id": "e34a3852",
   "metadata": {},
   "source": [
    "#### Define\n",
    "* drop `p2`,`p2_conf`,`p2_dog` and `p3`,`p3_conf`,`p3_dog`"
   ]
  },
  {
   "cell_type": "markdown",
   "id": "4d27fad4",
   "metadata": {},
   "source": [
    "NB: I dropped these columns because I decided to use the predictions of the first algorithm since its confidence levels were higher than the other two algorithms"
   ]
  },
  {
   "cell_type": "markdown",
   "id": "c76f3000",
   "metadata": {},
   "source": [
    "#### Code"
   ]
  },
  {
   "cell_type": "code",
   "execution_count": 126,
   "id": "a5a36a9f",
   "metadata": {
    "scrolled": true
   },
   "outputs": [],
   "source": [
    "df_02_clean.drop(['p2','p2_conf','p2_dog','p3','p3_conf','p3_dog'],\n",
    "        axis=1,\n",
    "        inplace=True)"
   ]
  },
  {
   "cell_type": "markdown",
   "id": "0a99ea9f",
   "metadata": {},
   "source": [
    "#### Test"
   ]
  },
  {
   "cell_type": "code",
   "execution_count": 127,
   "id": "e5075685",
   "metadata": {},
   "outputs": [
    {
     "data": {
      "text/html": [
       "<div>\n",
       "<style scoped>\n",
       "    .dataframe tbody tr th:only-of-type {\n",
       "        vertical-align: middle;\n",
       "    }\n",
       "\n",
       "    .dataframe tbody tr th {\n",
       "        vertical-align: top;\n",
       "    }\n",
       "\n",
       "    .dataframe thead th {\n",
       "        text-align: right;\n",
       "    }\n",
       "</style>\n",
       "<table border=\"1\" class=\"dataframe\">\n",
       "  <thead>\n",
       "    <tr style=\"text-align: right;\">\n",
       "      <th></th>\n",
       "      <th>tweet_id</th>\n",
       "      <th>jpg_url</th>\n",
       "      <th>img_num</th>\n",
       "      <th>p1</th>\n",
       "      <th>p1_conf</th>\n",
       "      <th>p1_dog</th>\n",
       "    </tr>\n",
       "  </thead>\n",
       "  <tbody>\n",
       "    <tr>\n",
       "      <th>0</th>\n",
       "      <td>666020888022790149</td>\n",
       "      <td>https://pbs.twimg.com/media/CT4udn0WwAA0aMy.jpg</td>\n",
       "      <td>1</td>\n",
       "      <td>welsh_springer_spaniel</td>\n",
       "      <td>0.465074</td>\n",
       "      <td>True</td>\n",
       "    </tr>\n",
       "    <tr>\n",
       "      <th>1</th>\n",
       "      <td>666029285002620928</td>\n",
       "      <td>https://pbs.twimg.com/media/CT42GRgUYAA5iDo.jpg</td>\n",
       "      <td>1</td>\n",
       "      <td>redbone</td>\n",
       "      <td>0.506826</td>\n",
       "      <td>True</td>\n",
       "    </tr>\n",
       "    <tr>\n",
       "      <th>2</th>\n",
       "      <td>666033412701032449</td>\n",
       "      <td>https://pbs.twimg.com/media/CT4521TWwAEvMyu.jpg</td>\n",
       "      <td>1</td>\n",
       "      <td>german_shepherd</td>\n",
       "      <td>0.596461</td>\n",
       "      <td>True</td>\n",
       "    </tr>\n",
       "    <tr>\n",
       "      <th>3</th>\n",
       "      <td>666044226329800704</td>\n",
       "      <td>https://pbs.twimg.com/media/CT5Dr8HUEAA-lEu.jpg</td>\n",
       "      <td>1</td>\n",
       "      <td>rhodesian_ridgeback</td>\n",
       "      <td>0.408143</td>\n",
       "      <td>True</td>\n",
       "    </tr>\n",
       "    <tr>\n",
       "      <th>4</th>\n",
       "      <td>666049248165822465</td>\n",
       "      <td>https://pbs.twimg.com/media/CT5IQmsXIAAKY4A.jpg</td>\n",
       "      <td>1</td>\n",
       "      <td>miniature_pinscher</td>\n",
       "      <td>0.560311</td>\n",
       "      <td>True</td>\n",
       "    </tr>\n",
       "  </tbody>\n",
       "</table>\n",
       "</div>"
      ],
      "text/plain": [
       "             tweet_id                                          jpg_url  \\\n",
       "0  666020888022790149  https://pbs.twimg.com/media/CT4udn0WwAA0aMy.jpg   \n",
       "1  666029285002620928  https://pbs.twimg.com/media/CT42GRgUYAA5iDo.jpg   \n",
       "2  666033412701032449  https://pbs.twimg.com/media/CT4521TWwAEvMyu.jpg   \n",
       "3  666044226329800704  https://pbs.twimg.com/media/CT5Dr8HUEAA-lEu.jpg   \n",
       "4  666049248165822465  https://pbs.twimg.com/media/CT5IQmsXIAAKY4A.jpg   \n",
       "\n",
       "   img_num                      p1   p1_conf  p1_dog  \n",
       "0        1  welsh_springer_spaniel  0.465074    True  \n",
       "1        1                 redbone  0.506826    True  \n",
       "2        1         german_shepherd  0.596461    True  \n",
       "3        1     rhodesian_ridgeback  0.408143    True  \n",
       "4        1      miniature_pinscher  0.560311    True  "
      ]
     },
     "execution_count": 127,
     "metadata": {},
     "output_type": "execute_result"
    }
   ],
   "source": [
    "df_02_clean.head()"
   ]
  },
  {
   "cell_type": "markdown",
   "id": "3838b3a7",
   "metadata": {},
   "source": [
    "### Issue:\n",
    "* According to the p1 algorithm some tweets are not dogs hence `False` in the `p1_dog` column"
   ]
  },
  {
   "cell_type": "markdown",
   "id": "c1085039",
   "metadata": {},
   "source": [
    "#### Define\n",
    "* drop all rows where `p1_dog` is False"
   ]
  },
  {
   "cell_type": "markdown",
   "id": "991c1a64",
   "metadata": {},
   "source": [
    "#### Code"
   ]
  },
  {
   "cell_type": "code",
   "execution_count": 128,
   "id": "83c27762",
   "metadata": {},
   "outputs": [],
   "source": [
    "df_02_clean.drop(df_02_clean[df_02_clean.p1_dog == False].index,inplace=True)"
   ]
  },
  {
   "cell_type": "code",
   "execution_count": 129,
   "id": "b0913fdf",
   "metadata": {},
   "outputs": [
    {
     "data": {
      "text/plain": [
       "True    1532\n",
       "Name: p1_dog, dtype: int64"
      ]
     },
     "execution_count": 129,
     "metadata": {},
     "output_type": "execute_result"
    }
   ],
   "source": [
    "df_02_clean.p1_dog.value_counts()"
   ]
  },
  {
   "cell_type": "markdown",
   "id": "ff1228e4",
   "metadata": {},
   "source": [
    "Note: since the tweets marked as not dogs by the algorithm have been dropped leaving only tweets with True in the p1_dog column, the `p1_dog` column can be dropped"
   ]
  },
  {
   "cell_type": "code",
   "execution_count": 130,
   "id": "1b7db006",
   "metadata": {},
   "outputs": [],
   "source": [
    "df_02_clean.drop('p1_dog',axis=1,inplace=True)"
   ]
  },
  {
   "cell_type": "markdown",
   "id": "78c1bf14",
   "metadata": {},
   "source": [
    "#### Test"
   ]
  },
  {
   "cell_type": "code",
   "execution_count": 131,
   "id": "bf9c6014",
   "metadata": {},
   "outputs": [
    {
     "data": {
      "text/html": [
       "<div>\n",
       "<style scoped>\n",
       "    .dataframe tbody tr th:only-of-type {\n",
       "        vertical-align: middle;\n",
       "    }\n",
       "\n",
       "    .dataframe tbody tr th {\n",
       "        vertical-align: top;\n",
       "    }\n",
       "\n",
       "    .dataframe thead th {\n",
       "        text-align: right;\n",
       "    }\n",
       "</style>\n",
       "<table border=\"1\" class=\"dataframe\">\n",
       "  <thead>\n",
       "    <tr style=\"text-align: right;\">\n",
       "      <th></th>\n",
       "      <th>tweet_id</th>\n",
       "      <th>jpg_url</th>\n",
       "      <th>img_num</th>\n",
       "      <th>p1</th>\n",
       "      <th>p1_conf</th>\n",
       "    </tr>\n",
       "  </thead>\n",
       "  <tbody>\n",
       "    <tr>\n",
       "      <th>1811</th>\n",
       "      <td>832998151111966721</td>\n",
       "      <td>https://pbs.twimg.com/media/C49nZavUYAEJjGw.jpg</td>\n",
       "      <td>1</td>\n",
       "      <td>boxer</td>\n",
       "      <td>0.539036</td>\n",
       "    </tr>\n",
       "    <tr>\n",
       "      <th>419</th>\n",
       "      <td>674038233588723717</td>\n",
       "      <td>https://pbs.twimg.com/media/CVqqMtiVEAEye_L.jpg</td>\n",
       "      <td>1</td>\n",
       "      <td>eskimo_dog</td>\n",
       "      <td>0.358459</td>\n",
       "    </tr>\n",
       "    <tr>\n",
       "      <th>1275</th>\n",
       "      <td>750056684286914561</td>\n",
       "      <td>https://pbs.twimg.com/media/Cmfx2oNW8AAGg4H.jpg</td>\n",
       "      <td>1</td>\n",
       "      <td>saluki</td>\n",
       "      <td>0.484428</td>\n",
       "    </tr>\n",
       "    <tr>\n",
       "      <th>1540</th>\n",
       "      <td>790987426131050500</td>\n",
       "      <td>https://pbs.twimg.com/media/Cvom3ZJXEAE29TD.jpg</td>\n",
       "      <td>1</td>\n",
       "      <td>cocker_spaniel</td>\n",
       "      <td>0.349195</td>\n",
       "    </tr>\n",
       "    <tr>\n",
       "      <th>783</th>\n",
       "      <td>690015576308211712</td>\n",
       "      <td>https://pbs.twimg.com/media/CZNtgWhWkAAbq3W.jpg</td>\n",
       "      <td>2</td>\n",
       "      <td>malamute</td>\n",
       "      <td>0.949609</td>\n",
       "    </tr>\n",
       "  </tbody>\n",
       "</table>\n",
       "</div>"
      ],
      "text/plain": [
       "                tweet_id                                          jpg_url  \\\n",
       "1811  832998151111966721  https://pbs.twimg.com/media/C49nZavUYAEJjGw.jpg   \n",
       "419   674038233588723717  https://pbs.twimg.com/media/CVqqMtiVEAEye_L.jpg   \n",
       "1275  750056684286914561  https://pbs.twimg.com/media/Cmfx2oNW8AAGg4H.jpg   \n",
       "1540  790987426131050500  https://pbs.twimg.com/media/Cvom3ZJXEAE29TD.jpg   \n",
       "783   690015576308211712  https://pbs.twimg.com/media/CZNtgWhWkAAbq3W.jpg   \n",
       "\n",
       "      img_num              p1   p1_conf  \n",
       "1811        1           boxer  0.539036  \n",
       "419         1      eskimo_dog  0.358459  \n",
       "1275        1          saluki  0.484428  \n",
       "1540        1  cocker_spaniel  0.349195  \n",
       "783         2        malamute  0.949609  "
      ]
     },
     "execution_count": 131,
     "metadata": {},
     "output_type": "execute_result"
    }
   ],
   "source": [
    "df_02_clean.sample(5)"
   ]
  },
  {
   "cell_type": "markdown",
   "id": "04b869e7",
   "metadata": {},
   "source": [
    "#### `jpg_url` column is irrelevant\n",
    "\n",
    "#### Define\n",
    "* drop `jpg_url` column from dataframe"
   ]
  },
  {
   "cell_type": "markdown",
   "id": "2aa04496",
   "metadata": {},
   "source": [
    "#### Code"
   ]
  },
  {
   "cell_type": "code",
   "execution_count": 132,
   "id": "93585060",
   "metadata": {},
   "outputs": [],
   "source": [
    "df_02_clean.drop('jpg_url',axis=1,inplace=True)"
   ]
  },
  {
   "cell_type": "markdown",
   "id": "8a6388fa",
   "metadata": {},
   "source": [
    "#### Test"
   ]
  },
  {
   "cell_type": "code",
   "execution_count": 133,
   "id": "022d4189",
   "metadata": {
    "scrolled": false
   },
   "outputs": [
    {
     "data": {
      "text/html": [
       "<div>\n",
       "<style scoped>\n",
       "    .dataframe tbody tr th:only-of-type {\n",
       "        vertical-align: middle;\n",
       "    }\n",
       "\n",
       "    .dataframe tbody tr th {\n",
       "        vertical-align: top;\n",
       "    }\n",
       "\n",
       "    .dataframe thead th {\n",
       "        text-align: right;\n",
       "    }\n",
       "</style>\n",
       "<table border=\"1\" class=\"dataframe\">\n",
       "  <thead>\n",
       "    <tr style=\"text-align: right;\">\n",
       "      <th></th>\n",
       "      <th>tweet_id</th>\n",
       "      <th>img_num</th>\n",
       "      <th>p1</th>\n",
       "      <th>p1_conf</th>\n",
       "    </tr>\n",
       "  </thead>\n",
       "  <tbody>\n",
       "    <tr>\n",
       "      <th>1099</th>\n",
       "      <td>720415127506415616</td>\n",
       "      <td>1</td>\n",
       "      <td>rottweiler</td>\n",
       "      <td>0.990312</td>\n",
       "    </tr>\n",
       "    <tr>\n",
       "      <th>1877</th>\n",
       "      <td>846042936437604353</td>\n",
       "      <td>1</td>\n",
       "      <td>golden_retriever</td>\n",
       "      <td>0.961110</td>\n",
       "    </tr>\n",
       "    <tr>\n",
       "      <th>717</th>\n",
       "      <td>685663452032069632</td>\n",
       "      <td>1</td>\n",
       "      <td>chesapeake_bay_retriever</td>\n",
       "      <td>0.171174</td>\n",
       "    </tr>\n",
       "    <tr>\n",
       "      <th>1454</th>\n",
       "      <td>777189768882946048</td>\n",
       "      <td>2</td>\n",
       "      <td>chihuahua</td>\n",
       "      <td>0.988412</td>\n",
       "    </tr>\n",
       "    <tr>\n",
       "      <th>1435</th>\n",
       "      <td>773704687002451968</td>\n",
       "      <td>2</td>\n",
       "      <td>silky_terrier</td>\n",
       "      <td>0.324251</td>\n",
       "    </tr>\n",
       "    <tr>\n",
       "      <th>1655</th>\n",
       "      <td>810284430598270976</td>\n",
       "      <td>1</td>\n",
       "      <td>malamute</td>\n",
       "      <td>0.620768</td>\n",
       "    </tr>\n",
       "    <tr>\n",
       "      <th>1739</th>\n",
       "      <td>822462944365645825</td>\n",
       "      <td>3</td>\n",
       "      <td>pomeranian</td>\n",
       "      <td>0.960199</td>\n",
       "    </tr>\n",
       "    <tr>\n",
       "      <th>1221</th>\n",
       "      <td>744234799360020481</td>\n",
       "      <td>1</td>\n",
       "      <td>labrador_retriever</td>\n",
       "      <td>0.825333</td>\n",
       "    </tr>\n",
       "    <tr>\n",
       "      <th>360</th>\n",
       "      <td>672640509974827008</td>\n",
       "      <td>1</td>\n",
       "      <td>chesapeake_bay_retriever</td>\n",
       "      <td>0.420155</td>\n",
       "    </tr>\n",
       "    <tr>\n",
       "      <th>602</th>\n",
       "      <td>679828447187857408</td>\n",
       "      <td>3</td>\n",
       "      <td>chihuahua</td>\n",
       "      <td>0.346545</td>\n",
       "    </tr>\n",
       "  </tbody>\n",
       "</table>\n",
       "</div>"
      ],
      "text/plain": [
       "                tweet_id  img_num                        p1   p1_conf\n",
       "1099  720415127506415616        1                rottweiler  0.990312\n",
       "1877  846042936437604353        1          golden_retriever  0.961110\n",
       "717   685663452032069632        1  chesapeake_bay_retriever  0.171174\n",
       "1454  777189768882946048        2                 chihuahua  0.988412\n",
       "1435  773704687002451968        2             silky_terrier  0.324251\n",
       "1655  810284430598270976        1                  malamute  0.620768\n",
       "1739  822462944365645825        3                pomeranian  0.960199\n",
       "1221  744234799360020481        1        labrador_retriever  0.825333\n",
       "360   672640509974827008        1  chesapeake_bay_retriever  0.420155\n",
       "602   679828447187857408        3                 chihuahua  0.346545"
      ]
     },
     "execution_count": 133,
     "metadata": {},
     "output_type": "execute_result"
    }
   ],
   "source": [
    "df_02_clean.sample(10)"
   ]
  },
  {
   "cell_type": "markdown",
   "id": "82a2197b",
   "metadata": {},
   "source": [
    "### Issue:\n",
    "* tweet IDs column is labeled as `id`\n",
    "\n"
   ]
  },
  {
   "cell_type": "markdown",
   "id": "31bc061e",
   "metadata": {},
   "source": [
    "#### Define\n",
    "* rename `id` column to `tweet_id`"
   ]
  },
  {
   "cell_type": "markdown",
   "id": "986e7d42",
   "metadata": {},
   "source": [
    "#### Code"
   ]
  },
  {
   "cell_type": "code",
   "execution_count": 134,
   "id": "81d6e6e7",
   "metadata": {},
   "outputs": [],
   "source": [
    "# renaming id column to tweet_id\n",
    "df_03_clean.rename(columns={'id':'tweet_id'},inplace=True)"
   ]
  },
  {
   "cell_type": "markdown",
   "id": "8bde5128",
   "metadata": {},
   "source": [
    "#### Test"
   ]
  },
  {
   "cell_type": "code",
   "execution_count": 135,
   "id": "69cdb173",
   "metadata": {
    "scrolled": true
   },
   "outputs": [
    {
     "data": {
      "text/html": [
       "<div>\n",
       "<style scoped>\n",
       "    .dataframe tbody tr th:only-of-type {\n",
       "        vertical-align: middle;\n",
       "    }\n",
       "\n",
       "    .dataframe tbody tr th {\n",
       "        vertical-align: top;\n",
       "    }\n",
       "\n",
       "    .dataframe thead th {\n",
       "        text-align: right;\n",
       "    }\n",
       "</style>\n",
       "<table border=\"1\" class=\"dataframe\">\n",
       "  <thead>\n",
       "    <tr style=\"text-align: right;\">\n",
       "      <th></th>\n",
       "      <th>tweet_id</th>\n",
       "      <th>retweet_count</th>\n",
       "      <th>favorite_count</th>\n",
       "    </tr>\n",
       "  </thead>\n",
       "  <tbody>\n",
       "    <tr>\n",
       "      <th>0</th>\n",
       "      <td>892420643555336193</td>\n",
       "      <td>6962</td>\n",
       "      <td>33652</td>\n",
       "    </tr>\n",
       "    <tr>\n",
       "      <th>1</th>\n",
       "      <td>892177421306343426</td>\n",
       "      <td>5267</td>\n",
       "      <td>29208</td>\n",
       "    </tr>\n",
       "    <tr>\n",
       "      <th>2</th>\n",
       "      <td>891815181378084864</td>\n",
       "      <td>3463</td>\n",
       "      <td>21959</td>\n",
       "    </tr>\n",
       "    <tr>\n",
       "      <th>3</th>\n",
       "      <td>891689557279858688</td>\n",
       "      <td>7189</td>\n",
       "      <td>36763</td>\n",
       "    </tr>\n",
       "    <tr>\n",
       "      <th>4</th>\n",
       "      <td>891327558926688256</td>\n",
       "      <td>7709</td>\n",
       "      <td>35120</td>\n",
       "    </tr>\n",
       "  </tbody>\n",
       "</table>\n",
       "</div>"
      ],
      "text/plain": [
       "             tweet_id  retweet_count  favorite_count\n",
       "0  892420643555336193           6962           33652\n",
       "1  892177421306343426           5267           29208\n",
       "2  891815181378084864           3463           21959\n",
       "3  891689557279858688           7189           36763\n",
       "4  891327558926688256           7709           35120"
      ]
     },
     "execution_count": 135,
     "metadata": {},
     "output_type": "execute_result"
    }
   ],
   "source": [
    "df_03_clean.head()"
   ]
  },
  {
   "cell_type": "markdown",
   "id": "2031f621",
   "metadata": {},
   "source": [
    "### Issue:\n",
    "* information about one observational unit (tweets) is contained in the 3 different dataframes"
   ]
  },
  {
   "cell_type": "markdown",
   "id": "9ff52e22",
   "metadata": {},
   "source": [
    "#### Define:\n",
    "* merge cleaned dataframes into one based on the observational unit (`tweet_id`)"
   ]
  },
  {
   "cell_type": "markdown",
   "id": "f01b9a57",
   "metadata": {},
   "source": [
    "#### Code"
   ]
  },
  {
   "cell_type": "code",
   "execution_count": 136,
   "id": "01d4fe36",
   "metadata": {},
   "outputs": [],
   "source": [
    "# merging cleaned DataFrames into a master DataFrame\n",
    "master_df =  pd.merge(pd.merge(df_clean,df_02_clean,on='tweet_id'),df_03_clean,on='tweet_id')"
   ]
  },
  {
   "cell_type": "markdown",
   "id": "1703df37",
   "metadata": {},
   "source": [
    "#### Test"
   ]
  },
  {
   "cell_type": "code",
   "execution_count": 137,
   "id": "922e2b32",
   "metadata": {
    "scrolled": true
   },
   "outputs": [
    {
     "name": "stdout",
     "output_type": "stream",
     "text": [
      "<class 'pandas.core.frame.DataFrame'>\n",
      "Int64Index: 1467 entries, 0 to 1466\n",
      "Data columns (total 11 columns):\n",
      " #   Column              Non-Null Count  Dtype              \n",
      "---  ------              --------------  -----              \n",
      " 0   tweet_id            1467 non-null   int64              \n",
      " 1   timestamp           1467 non-null   datetime64[ns, UTC]\n",
      " 2   text                1467 non-null   object             \n",
      " 3   rating_numerator    1467 non-null   float64            \n",
      " 4   rating_denominator  1467 non-null   int64              \n",
      " 5   dog_stage           1467 non-null   object             \n",
      " 6   img_num             1467 non-null   int64              \n",
      " 7   p1                  1467 non-null   object             \n",
      " 8   p1_conf             1467 non-null   float64            \n",
      " 9   retweet_count       1467 non-null   int64              \n",
      " 10  favorite_count      1467 non-null   int64              \n",
      "dtypes: datetime64[ns, UTC](1), float64(2), int64(5), object(3)\n",
      "memory usage: 137.5+ KB\n"
     ]
    }
   ],
   "source": [
    "master_df.info()"
   ]
  },
  {
   "cell_type": "code",
   "execution_count": 138,
   "id": "e84477b4",
   "metadata": {},
   "outputs": [
    {
     "data": {
      "text/plain": [
       "                   1241\n",
       "pupper              146\n",
       "doggo                47\n",
       "puppo                20\n",
       "floofer               8\n",
       "multiple_stages       5\n",
       "Name: dog_stage, dtype: int64"
      ]
     },
     "execution_count": 138,
     "metadata": {},
     "output_type": "execute_result"
    }
   ],
   "source": [
    "master_df.dog_stage.value_counts()"
   ]
  },
  {
   "cell_type": "markdown",
   "id": "5ce1c7e1",
   "metadata": {},
   "source": [
    "### Storing Data"
   ]
  },
  {
   "cell_type": "code",
   "execution_count": 139,
   "id": "906c19ef",
   "metadata": {},
   "outputs": [],
   "source": [
    "# storing master DataFrame to a csv file\n",
    "master_df.to_csv('twitter_archive_master.csv',index=False)"
   ]
  },
  {
   "cell_type": "markdown",
   "id": "6e8926f8",
   "metadata": {},
   "source": [
    "<a id='analysis'></a>\n",
    "## Analyzing and Visualizing Data"
   ]
  },
  {
   "cell_type": "code",
   "execution_count": 140,
   "id": "d53462ce",
   "metadata": {},
   "outputs": [],
   "source": [
    "# replacing empty strings with NANs \n",
    "master_df['dog_stage'] = master_df.dog_stage.replace('',np.nan)"
   ]
  },
  {
   "cell_type": "markdown",
   "id": "835ba66e",
   "metadata": {},
   "source": [
    "NB: I did this because empty strings are regarded as values but NaNs are not"
   ]
  },
  {
   "cell_type": "markdown",
   "id": "88d7711d",
   "metadata": {},
   "source": [
    "Even though the rating denominators were not equal, for dogs with stated dog stages, the denominator was always 10."
   ]
  },
  {
   "cell_type": "code",
   "execution_count": 141,
   "id": "8862e686",
   "metadata": {},
   "outputs": [
    {
     "data": {
      "text/plain": [
       "10    47\n",
       "Name: rating_denominator, dtype: int64"
      ]
     },
     "execution_count": 141,
     "metadata": {},
     "output_type": "execute_result"
    }
   ],
   "source": [
    "master_df.query('dog_stage == \"doggo\"').rating_denominator.value_counts()"
   ]
  },
  {
   "cell_type": "code",
   "execution_count": 142,
   "id": "c3804592",
   "metadata": {},
   "outputs": [
    {
     "data": {
      "text/plain": [
       "10    146\n",
       "Name: rating_denominator, dtype: int64"
      ]
     },
     "execution_count": 142,
     "metadata": {},
     "output_type": "execute_result"
    }
   ],
   "source": [
    "master_df.query('dog_stage == \"pupper\"').rating_denominator.value_counts()"
   ]
  },
  {
   "cell_type": "code",
   "execution_count": 143,
   "id": "ba4625f7",
   "metadata": {},
   "outputs": [
    {
     "data": {
      "text/plain": [
       "10    8\n",
       "Name: rating_denominator, dtype: int64"
      ]
     },
     "execution_count": 143,
     "metadata": {},
     "output_type": "execute_result"
    }
   ],
   "source": [
    "master_df.query('dog_stage == \"floofer\"').rating_denominator.value_counts()"
   ]
  },
  {
   "cell_type": "code",
   "execution_count": 144,
   "id": "2292fb4c",
   "metadata": {},
   "outputs": [
    {
     "data": {
      "text/plain": [
       "10    20\n",
       "Name: rating_denominator, dtype: int64"
      ]
     },
     "execution_count": 144,
     "metadata": {},
     "output_type": "execute_result"
    }
   ],
   "source": [
    "master_df.query('dog_stage == \"puppo\"').rating_denominator.value_counts()"
   ]
  },
  {
   "cell_type": "markdown",
   "id": "d111d52d",
   "metadata": {},
   "source": [
    "With dog stage analysis, I could therefore use the rating denominators as they were."
   ]
  },
  {
   "cell_type": "markdown",
   "id": "3feb1313",
   "metadata": {},
   "source": [
    "##### Dog stage and rating"
   ]
  },
  {
   "cell_type": "code",
   "execution_count": 145,
   "id": "71aa08c7",
   "metadata": {
    "scrolled": false
   },
   "outputs": [
    {
     "data": {
      "text/html": [
       "<div>\n",
       "<style scoped>\n",
       "    .dataframe tbody tr th:only-of-type {\n",
       "        vertical-align: middle;\n",
       "    }\n",
       "\n",
       "    .dataframe tbody tr th {\n",
       "        vertical-align: top;\n",
       "    }\n",
       "\n",
       "    .dataframe thead th {\n",
       "        text-align: right;\n",
       "    }\n",
       "</style>\n",
       "<table border=\"1\" class=\"dataframe\">\n",
       "  <thead>\n",
       "    <tr style=\"text-align: right;\">\n",
       "      <th></th>\n",
       "      <th>dog_stage</th>\n",
       "      <th>rating_numerator</th>\n",
       "    </tr>\n",
       "  </thead>\n",
       "  <tbody>\n",
       "    <tr>\n",
       "      <th>0</th>\n",
       "      <td>doggo</td>\n",
       "      <td>12.000000</td>\n",
       "    </tr>\n",
       "    <tr>\n",
       "      <th>1</th>\n",
       "      <td>floofer</td>\n",
       "      <td>11.875000</td>\n",
       "    </tr>\n",
       "    <tr>\n",
       "      <th>2</th>\n",
       "      <td>multiple_stages</td>\n",
       "      <td>11.800000</td>\n",
       "    </tr>\n",
       "    <tr>\n",
       "      <th>3</th>\n",
       "      <td>pupper</td>\n",
       "      <td>10.974452</td>\n",
       "    </tr>\n",
       "    <tr>\n",
       "      <th>4</th>\n",
       "      <td>puppo</td>\n",
       "      <td>12.050000</td>\n",
       "    </tr>\n",
       "  </tbody>\n",
       "</table>\n",
       "</div>"
      ],
      "text/plain": [
       "         dog_stage  rating_numerator\n",
       "0            doggo         12.000000\n",
       "1          floofer         11.875000\n",
       "2  multiple_stages         11.800000\n",
       "3           pupper         10.974452\n",
       "4            puppo         12.050000"
      ]
     },
     "execution_count": 145,
     "metadata": {},
     "output_type": "execute_result"
    }
   ],
   "source": [
    "# grouping average rating by stage\n",
    "master_df.groupby('dog_stage',as_index=False)['rating_numerator'].mean()"
   ]
  },
  {
   "cell_type": "code",
   "execution_count": 146,
   "id": "61858725",
   "metadata": {
    "scrolled": false
   },
   "outputs": [
    {
     "data": {
      "image/png": "[encoded data removed]",
      "text/plain": [
       "<Figure size 720x576 with 1 Axes>"
      ]
     },
     "metadata": {
      "needs_background": "light"
     },
     "output_type": "display_data"
    }
   ],
   "source": [
    "# visualizing the resulting table above in a bar chart\n",
    "ax = master_df.groupby('dog_stage')['rating_numerator'].mean().plot(\n",
    "        kind='bar',\n",
    "        title='average rating by dog stage',\n",
    "        figsize=(10,8),\n",
    "        color=['grey','grey','grey','grey','blue'],\n",
    "        rot=0\n",
    "        )\n",
    "ax.set_xlabel('dog stage')\n",
    "ax.set_ylabel('average ratings');"
   ]
  },
  {
   "cell_type": "markdown",
   "id": "0ecb793f",
   "metadata": {},
   "source": [
    "Dogs in the puppo stage received the highest ratings followed by doggo stage."
   ]
  },
  {
   "cell_type": "markdown",
   "id": "3b4280b1",
   "metadata": {},
   "source": [
    "##### Dog stage and Favorite count"
   ]
  },
  {
   "cell_type": "code",
   "execution_count": 147,
   "id": "c17eec95",
   "metadata": {},
   "outputs": [
    {
     "data": {
      "text/html": [
       "<div>\n",
       "<style scoped>\n",
       "    .dataframe tbody tr th:only-of-type {\n",
       "        vertical-align: middle;\n",
       "    }\n",
       "\n",
       "    .dataframe tbody tr th {\n",
       "        vertical-align: top;\n",
       "    }\n",
       "\n",
       "    .dataframe thead th {\n",
       "        text-align: right;\n",
       "    }\n",
       "</style>\n",
       "<table border=\"1\" class=\"dataframe\">\n",
       "  <thead>\n",
       "    <tr style=\"text-align: right;\">\n",
       "      <th></th>\n",
       "      <th>dog_stage</th>\n",
       "      <th>favorite_count</th>\n",
       "    </tr>\n",
       "  </thead>\n",
       "  <tbody>\n",
       "    <tr>\n",
       "      <th>0</th>\n",
       "      <td>doggo</td>\n",
       "      <td>18909.872340</td>\n",
       "    </tr>\n",
       "    <tr>\n",
       "      <th>1</th>\n",
       "      <td>floofer</td>\n",
       "      <td>11620.250000</td>\n",
       "    </tr>\n",
       "    <tr>\n",
       "      <th>2</th>\n",
       "      <td>multiple_stages</td>\n",
       "      <td>15701.400000</td>\n",
       "    </tr>\n",
       "    <tr>\n",
       "      <th>3</th>\n",
       "      <td>pupper</td>\n",
       "      <td>6960.452055</td>\n",
       "    </tr>\n",
       "    <tr>\n",
       "      <th>4</th>\n",
       "      <td>puppo</td>\n",
       "      <td>21372.150000</td>\n",
       "    </tr>\n",
       "  </tbody>\n",
       "</table>\n",
       "</div>"
      ],
      "text/plain": [
       "         dog_stage  favorite_count\n",
       "0            doggo    18909.872340\n",
       "1          floofer    11620.250000\n",
       "2  multiple_stages    15701.400000\n",
       "3           pupper     6960.452055\n",
       "4            puppo    21372.150000"
      ]
     },
     "execution_count": 147,
     "metadata": {},
     "output_type": "execute_result"
    }
   ],
   "source": [
    "# grouping mean favorite count by stage\n",
    "master_df.groupby('dog_stage',as_index=False)['favorite_count'].mean()"
   ]
  },
  {
   "cell_type": "code",
   "execution_count": 148,
   "id": "c19167db",
   "metadata": {},
   "outputs": [
    {
     "data": {
      "image/png": "[encoded data removed]",
      "text/plain": [
       "<Figure size 720x576 with 1 Axes>"
      ]
     },
     "metadata": {
      "needs_background": "light"
     },
     "output_type": "display_data"
    }
   ],
   "source": [
    "# visualizing the resulting table above in a bar chart\n",
    "ax = master_df.groupby('dog_stage')['favorite_count'].mean().plot(\n",
    "        kind='bar',\n",
    "        title='Average favorite count by dog stage',\n",
    "        figsize=(10,8),\n",
    "        color=['grey','grey','grey','blue','green'],rot=0\n",
    "         )\n",
    "ax.set_xlabel('dog stage')\n",
    "ax.set_ylabel('average favorite count');"
   ]
  },
  {
   "cell_type": "markdown",
   "id": "63799b4f",
   "metadata": {},
   "source": [
    "On the average, tweets with dogs in the `puppo` stage are the most favorited while tweets with dogs in the `pupper` stage are the least favorited "
   ]
  },
  {
   "cell_type": "markdown",
   "id": "4e06a0a8",
   "metadata": {},
   "source": [
    "##### Dog stage and retweet count"
   ]
  },
  {
   "cell_type": "code",
   "execution_count": 149,
   "id": "e6a9c84f",
   "metadata": {
    "scrolled": true
   },
   "outputs": [
    {
     "data": {
      "text/html": [
       "<div>\n",
       "<style scoped>\n",
       "    .dataframe tbody tr th:only-of-type {\n",
       "        vertical-align: middle;\n",
       "    }\n",
       "\n",
       "    .dataframe tbody tr th {\n",
       "        vertical-align: top;\n",
       "    }\n",
       "\n",
       "    .dataframe thead th {\n",
       "        text-align: right;\n",
       "    }\n",
       "</style>\n",
       "<table border=\"1\" class=\"dataframe\">\n",
       "  <thead>\n",
       "    <tr style=\"text-align: right;\">\n",
       "      <th></th>\n",
       "      <th>dog_stage</th>\n",
       "      <th>retweet_count</th>\n",
       "    </tr>\n",
       "  </thead>\n",
       "  <tbody>\n",
       "    <tr>\n",
       "      <th>0</th>\n",
       "      <td>doggo</td>\n",
       "      <td>6395.106383</td>\n",
       "    </tr>\n",
       "    <tr>\n",
       "      <th>1</th>\n",
       "      <td>floofer</td>\n",
       "      <td>3809.250000</td>\n",
       "    </tr>\n",
       "    <tr>\n",
       "      <th>2</th>\n",
       "      <td>multiple_stages</td>\n",
       "      <td>4667.400000</td>\n",
       "    </tr>\n",
       "    <tr>\n",
       "      <th>3</th>\n",
       "      <td>pupper</td>\n",
       "      <td>2061.027397</td>\n",
       "    </tr>\n",
       "    <tr>\n",
       "      <th>4</th>\n",
       "      <td>puppo</td>\n",
       "      <td>5919.900000</td>\n",
       "    </tr>\n",
       "  </tbody>\n",
       "</table>\n",
       "</div>"
      ],
      "text/plain": [
       "         dog_stage  retweet_count\n",
       "0            doggo    6395.106383\n",
       "1          floofer    3809.250000\n",
       "2  multiple_stages    4667.400000\n",
       "3           pupper    2061.027397\n",
       "4            puppo    5919.900000"
      ]
     },
     "execution_count": 149,
     "metadata": {},
     "output_type": "execute_result"
    }
   ],
   "source": [
    "# grouping mean retweet count by stage\n",
    "master_df.groupby('dog_stage',as_index=False)['retweet_count'].mean()"
   ]
  },
  {
   "cell_type": "code",
   "execution_count": 150,
   "id": "eb62f8c4",
   "metadata": {},
   "outputs": [
    {
     "data": {
      "image/png": "[encoded data removed]",
      "text/plain": [
       "<Figure size 720x576 with 1 Axes>"
      ]
     },
     "metadata": {
      "needs_background": "light"
     },
     "output_type": "display_data"
    }
   ],
   "source": [
    "# visualizing the above table in a bar chart\n",
    "ax = master_df.groupby('dog_stage')['retweet_count'].mean().plot(\n",
    "        kind='bar',\n",
    "        title='Average retweet count by dog stage',\n",
    "        figsize=(10,8),\n",
    "        color=['green','grey','grey','blue','grey'],rot=0\n",
    "                                                 )\n",
    "ax.set_xlabel('dog stage')\n",
    "ax.set_ylabel('average retweet count');"
   ]
  },
  {
   "cell_type": "markdown",
   "id": "c3510660",
   "metadata": {},
   "source": [
    "Dogs of the `doggo` stage average the most retweets while dogs of the `pupper` stage average the least retweets."
   ]
  },
  {
   "cell_type": "code",
   "execution_count": 151,
   "id": "1acdf3ad",
   "metadata": {
    "scrolled": true
   },
   "outputs": [
    {
     "data": {
      "text/html": [
       "<div>\n",
       "<style scoped>\n",
       "    .dataframe tbody tr th:only-of-type {\n",
       "        vertical-align: middle;\n",
       "    }\n",
       "\n",
       "    .dataframe tbody tr th {\n",
       "        vertical-align: top;\n",
       "    }\n",
       "\n",
       "    .dataframe thead th {\n",
       "        text-align: right;\n",
       "    }\n",
       "</style>\n",
       "<table border=\"1\" class=\"dataframe\">\n",
       "  <thead>\n",
       "    <tr style=\"text-align: right;\">\n",
       "      <th></th>\n",
       "      <th>favorite_count</th>\n",
       "      <th>retweet_count</th>\n",
       "    </tr>\n",
       "    <tr>\n",
       "      <th>dog_stage</th>\n",
       "      <th></th>\n",
       "      <th></th>\n",
       "    </tr>\n",
       "  </thead>\n",
       "  <tbody>\n",
       "    <tr>\n",
       "      <th>doggo</th>\n",
       "      <td>18909.872340</td>\n",
       "      <td>6395.106383</td>\n",
       "    </tr>\n",
       "    <tr>\n",
       "      <th>floofer</th>\n",
       "      <td>11620.250000</td>\n",
       "      <td>3809.250000</td>\n",
       "    </tr>\n",
       "    <tr>\n",
       "      <th>multiple_stages</th>\n",
       "      <td>15701.400000</td>\n",
       "      <td>4667.400000</td>\n",
       "    </tr>\n",
       "    <tr>\n",
       "      <th>pupper</th>\n",
       "      <td>6960.452055</td>\n",
       "      <td>2061.027397</td>\n",
       "    </tr>\n",
       "    <tr>\n",
       "      <th>puppo</th>\n",
       "      <td>21372.150000</td>\n",
       "      <td>5919.900000</td>\n",
       "    </tr>\n",
       "  </tbody>\n",
       "</table>\n",
       "</div>"
      ],
      "text/plain": [
       "                 favorite_count  retweet_count\n",
       "dog_stage                                     \n",
       "doggo              18909.872340    6395.106383\n",
       "floofer            11620.250000    3809.250000\n",
       "multiple_stages    15701.400000    4667.400000\n",
       "pupper              6960.452055    2061.027397\n",
       "puppo              21372.150000    5919.900000"
      ]
     },
     "execution_count": 151,
     "metadata": {},
     "output_type": "execute_result"
    }
   ],
   "source": [
    "# creating a pivot table\n",
    "pivot = pd.pivot_table(data=master_df,\n",
    "                       index='dog_stage',\n",
    "                       values=['favorite_count','retweet_count'])\n",
    "pivot"
   ]
  },
  {
   "cell_type": "code",
   "execution_count": 152,
   "id": "3bbd9898",
   "metadata": {},
   "outputs": [
    {
     "data": {
      "image/png": "[encoded data removed]",
      "text/plain": [
       "<Figure size 720x576 with 1 Axes>"
      ]
     },
     "metadata": {
      "needs_background": "light"
     },
     "output_type": "display_data"
    }
   ],
   "source": [
    "# plotting pivot table on a bar chart\n",
    "ax = pivot.plot(kind='bar',\n",
    "                title = 'Average Retweets and Favorites by Dog stage',\n",
    "                figsize=(10,8),\n",
    "                rot=0)\n",
    "ax.set_xlabel('Dog stage')\n",
    "ax.set_ylabel('Average');"
   ]
  },
  {
   "cell_type": "markdown",
   "id": "018d03ac",
   "metadata": {},
   "source": [
    "##### Image number and rating"
   ]
  },
  {
   "cell_type": "markdown",
   "id": "d1657973",
   "metadata": {},
   "source": [
    "During data cleaning, I discovered an interesting tweet by WeRateDogs and decided to investigate."
   ]
  },
  {
   "cell_type": "code",
   "execution_count": 153,
   "id": "c6e1010f",
   "metadata": {},
   "outputs": [
    {
     "data": {
      "text/plain": [
       "[\"@Jack_Septic_Eye I'd need a few more pics to polish a full analysis, but based on the good boy content above I'm leaning towards 12/10\"]"
      ]
     },
     "execution_count": 153,
     "metadata": {},
     "output_type": "execute_result"
    }
   ],
   "source": [
    "# displaying tweet with the interesting observation\n",
    "df.query('tweet_id == 863427515083354112').text.tolist()"
   ]
  },
  {
   "cell_type": "markdown",
   "id": "aa8ac5da",
   "metadata": {},
   "source": [
    "As the denominators were not equal, I decided to perform this analysis by converting the rating into decimals and using the mean."
   ]
  },
  {
   "cell_type": "code",
   "execution_count": 154,
   "id": "b775ad98",
   "metadata": {},
   "outputs": [],
   "source": [
    "# creating new column by dividing rating numerator by denominator\n",
    "master_df['rating_decimal'] = master_df['rating_numerator']/master_df['rating_denominator']"
   ]
  },
  {
   "cell_type": "code",
   "execution_count": 155,
   "id": "fbb2d943",
   "metadata": {},
   "outputs": [
    {
     "data": {
      "text/html": [
       "<div>\n",
       "<style scoped>\n",
       "    .dataframe tbody tr th:only-of-type {\n",
       "        vertical-align: middle;\n",
       "    }\n",
       "\n",
       "    .dataframe tbody tr th {\n",
       "        vertical-align: top;\n",
       "    }\n",
       "\n",
       "    .dataframe thead th {\n",
       "        text-align: right;\n",
       "    }\n",
       "</style>\n",
       "<table border=\"1\" class=\"dataframe\">\n",
       "  <thead>\n",
       "    <tr style=\"text-align: right;\">\n",
       "      <th></th>\n",
       "      <th>tweet_id</th>\n",
       "      <th>timestamp</th>\n",
       "      <th>text</th>\n",
       "      <th>rating_numerator</th>\n",
       "      <th>rating_denominator</th>\n",
       "      <th>dog_stage</th>\n",
       "      <th>img_num</th>\n",
       "      <th>p1</th>\n",
       "      <th>p1_conf</th>\n",
       "      <th>retweet_count</th>\n",
       "      <th>favorite_count</th>\n",
       "      <th>rating_decimal</th>\n",
       "    </tr>\n",
       "  </thead>\n",
       "  <tbody>\n",
       "    <tr>\n",
       "      <th>0</th>\n",
       "      <td>892177421306343426</td>\n",
       "      <td>2017-08-01 00:17:27+00:00</td>\n",
       "      <td>This is Tilly. She's just checking pup on you....</td>\n",
       "      <td>13.0</td>\n",
       "      <td>10</td>\n",
       "      <td>NaN</td>\n",
       "      <td>1</td>\n",
       "      <td>chihuahua</td>\n",
       "      <td>0.323581</td>\n",
       "      <td>5267</td>\n",
       "      <td>29208</td>\n",
       "      <td>1.3</td>\n",
       "    </tr>\n",
       "    <tr>\n",
       "      <th>1</th>\n",
       "      <td>891815181378084864</td>\n",
       "      <td>2017-07-31 00:18:03+00:00</td>\n",
       "      <td>This is Archie. He is a rare Norwegian Pouncin...</td>\n",
       "      <td>12.0</td>\n",
       "      <td>10</td>\n",
       "      <td>NaN</td>\n",
       "      <td>1</td>\n",
       "      <td>chihuahua</td>\n",
       "      <td>0.716012</td>\n",
       "      <td>3463</td>\n",
       "      <td>21959</td>\n",
       "      <td>1.2</td>\n",
       "    </tr>\n",
       "    <tr>\n",
       "      <th>2</th>\n",
       "      <td>891327558926688256</td>\n",
       "      <td>2017-07-29 16:00:24+00:00</td>\n",
       "      <td>This is Franklin. He would like you to stop ca...</td>\n",
       "      <td>12.0</td>\n",
       "      <td>10</td>\n",
       "      <td>NaN</td>\n",
       "      <td>2</td>\n",
       "      <td>basset</td>\n",
       "      <td>0.555712</td>\n",
       "      <td>7709</td>\n",
       "      <td>35120</td>\n",
       "      <td>1.2</td>\n",
       "    </tr>\n",
       "    <tr>\n",
       "      <th>3</th>\n",
       "      <td>891087950875897856</td>\n",
       "      <td>2017-07-29 00:08:17+00:00</td>\n",
       "      <td>Here we have a majestic great white breaching ...</td>\n",
       "      <td>13.0</td>\n",
       "      <td>10</td>\n",
       "      <td>NaN</td>\n",
       "      <td>1</td>\n",
       "      <td>chesapeake_bay_retriever</td>\n",
       "      <td>0.425595</td>\n",
       "      <td>2583</td>\n",
       "      <td>17734</td>\n",
       "      <td>1.3</td>\n",
       "    </tr>\n",
       "    <tr>\n",
       "      <th>4</th>\n",
       "      <td>890971913173991426</td>\n",
       "      <td>2017-07-28 16:27:12+00:00</td>\n",
       "      <td>Meet Jax. He enjoys ice cream so much he gets ...</td>\n",
       "      <td>13.0</td>\n",
       "      <td>10</td>\n",
       "      <td>NaN</td>\n",
       "      <td>1</td>\n",
       "      <td>appenzeller</td>\n",
       "      <td>0.341703</td>\n",
       "      <td>1645</td>\n",
       "      <td>10322</td>\n",
       "      <td>1.3</td>\n",
       "    </tr>\n",
       "  </tbody>\n",
       "</table>\n",
       "</div>"
      ],
      "text/plain": [
       "             tweet_id                 timestamp  \\\n",
       "0  892177421306343426 2017-08-01 00:17:27+00:00   \n",
       "1  891815181378084864 2017-07-31 00:18:03+00:00   \n",
       "2  891327558926688256 2017-07-29 16:00:24+00:00   \n",
       "3  891087950875897856 2017-07-29 00:08:17+00:00   \n",
       "4  890971913173991426 2017-07-28 16:27:12+00:00   \n",
       "\n",
       "                                                text  rating_numerator  \\\n",
       "0  This is Tilly. She's just checking pup on you....              13.0   \n",
       "1  This is Archie. He is a rare Norwegian Pouncin...              12.0   \n",
       "2  This is Franklin. He would like you to stop ca...              12.0   \n",
       "3  Here we have a majestic great white breaching ...              13.0   \n",
       "4  Meet Jax. He enjoys ice cream so much he gets ...              13.0   \n",
       "\n",
       "   rating_denominator dog_stage  img_num                        p1   p1_conf  \\\n",
       "0                  10       NaN        1                 chihuahua  0.323581   \n",
       "1                  10       NaN        1                 chihuahua  0.716012   \n",
       "2                  10       NaN        2                    basset  0.555712   \n",
       "3                  10       NaN        1  chesapeake_bay_retriever  0.425595   \n",
       "4                  10       NaN        1               appenzeller  0.341703   \n",
       "\n",
       "   retweet_count  favorite_count  rating_decimal  \n",
       "0           5267           29208             1.3  \n",
       "1           3463           21959             1.2  \n",
       "2           7709           35120             1.2  \n",
       "3           2583           17734             1.3  \n",
       "4           1645           10322             1.3  "
      ]
     },
     "execution_count": 155,
     "metadata": {},
     "output_type": "execute_result"
    }
   ],
   "source": [
    "master_df.head()"
   ]
  },
  {
   "cell_type": "code",
   "execution_count": 156,
   "id": "16b6a3a0",
   "metadata": {},
   "outputs": [
    {
     "data": {
      "text/html": [
       "<div>\n",
       "<style scoped>\n",
       "    .dataframe tbody tr th:only-of-type {\n",
       "        vertical-align: middle;\n",
       "    }\n",
       "\n",
       "    .dataframe tbody tr th {\n",
       "        vertical-align: top;\n",
       "    }\n",
       "\n",
       "    .dataframe thead th {\n",
       "        text-align: right;\n",
       "    }\n",
       "</style>\n",
       "<table border=\"1\" class=\"dataframe\">\n",
       "  <thead>\n",
       "    <tr style=\"text-align: right;\">\n",
       "      <th></th>\n",
       "      <th>img_num</th>\n",
       "      <th>rating_decimal</th>\n",
       "    </tr>\n",
       "  </thead>\n",
       "  <tbody>\n",
       "    <tr>\n",
       "      <th>0</th>\n",
       "      <td>1</td>\n",
       "      <td>1.079373</td>\n",
       "    </tr>\n",
       "    <tr>\n",
       "      <th>1</th>\n",
       "      <td>2</td>\n",
       "      <td>1.144000</td>\n",
       "    </tr>\n",
       "    <tr>\n",
       "      <th>2</th>\n",
       "      <td>3</td>\n",
       "      <td>1.202222</td>\n",
       "    </tr>\n",
       "    <tr>\n",
       "      <th>3</th>\n",
       "      <td>4</td>\n",
       "      <td>1.240000</td>\n",
       "    </tr>\n",
       "  </tbody>\n",
       "</table>\n",
       "</div>"
      ],
      "text/plain": [
       "   img_num  rating_decimal\n",
       "0        1        1.079373\n",
       "1        2        1.144000\n",
       "2        3        1.202222\n",
       "3        4        1.240000"
      ]
     },
     "execution_count": 156,
     "metadata": {},
     "output_type": "execute_result"
    }
   ],
   "source": [
    "# grouping mean rating by image number\n",
    "master_df.groupby('img_num',as_index=False)['rating_decimal'].mean()"
   ]
  },
  {
   "cell_type": "code",
   "execution_count": 157,
   "id": "78081c56",
   "metadata": {
    "scrolled": false
   },
   "outputs": [
    {
     "data": {
      "image/png": "[encoded data removed]",
      "text/plain": [
       "<Figure size 720x576 with 1 Axes>"
      ]
     },
     "metadata": {
      "needs_background": "light"
     },
     "output_type": "display_data"
    }
   ],
   "source": [
    "# visualizing the table above in a bar chart\n",
    "ax  = master_df.groupby('img_num')['rating_decimal'].mean().plot(\n",
    "        kind='bar',\n",
    "        title='Average ratings by image number',\n",
    "    figsize=(10,8),\n",
    "        color=['grey','grey','grey','blue'],\n",
    "        rot=0\n",
    "        )\n",
    "ax.set_xlabel('image number')\n",
    "ax.set_ylabel('average ratings');"
   ]
  },
  {
   "cell_type": "markdown",
   "id": "3a379cc7",
   "metadata": {},
   "source": [
    "I discovered that on the average, tweets with four images received higher ratings. I wnated to investigate this further."
   ]
  },
  {
   "cell_type": "code",
   "execution_count": 158,
   "id": "ff2af72b",
   "metadata": {
    "scrolled": true
   },
   "outputs": [
    {
     "data": {
      "image/png": "[encoded data removed]",
      "text/plain": [
       "<Figure size 432x288 with 1 Axes>"
      ]
     },
     "metadata": {
      "needs_background": "light"
     },
     "output_type": "display_data"
    }
   ],
   "source": [
    "# plotting a scatter graph of the table above\n",
    "scatter_df = master_df.groupby('img_num',as_index=False)['rating_decimal'].mean().copy()\n",
    "scatter_df.plot.scatter(\n",
    "        x='img_num',\n",
    "        y='rating_decimal',\n",
    "        title='relationship between image number and ratings'\n",
    "        );"
   ]
  },
  {
   "cell_type": "markdown",
   "id": "84bd30af",
   "metadata": {},
   "source": [
    "I discovered that the higher the image number the higher the average ratings. Perhaps because with more images WeRateDogs could 'polish a full analysis'."
   ]
  },
  {
   "cell_type": "markdown",
   "id": "5e53259a",
   "metadata": {},
   "source": [
    "### Dog breed analysis"
   ]
  },
  {
   "cell_type": "markdown",
   "id": "0af3ad01",
   "metadata": {},
   "source": [
    "NB: the dog breeds are based on the image prediction algorithm used by Udacity"
   ]
  },
  {
   "cell_type": "code",
   "execution_count": 159,
   "id": "d37d6c32",
   "metadata": {
    "scrolled": false
   },
   "outputs": [
    {
     "data": {
      "image/png": "[encoded data removed]",
      "text/plain": [
       "<Figure size 864x864 with 1 Axes>"
      ]
     },
     "metadata": {
      "needs_background": "light"
     },
     "output_type": "display_data"
    }
   ],
   "source": [
    "# plotting distribution of dog breeds\n",
    "ax = master_df.p1.value_counts().plot.bar(\n",
    "        title='Dog breed distribution',\n",
    "        figsize=(12,12),\n",
    "        rot=0)\n",
    "ax.set_xlabel('dog breed')\n",
    "ax.set_ylabel('frequency');"
   ]
  },
  {
   "cell_type": "markdown",
   "id": "2b07d635",
   "metadata": {},
   "source": [
    "The graph is not clear therefore I decided to plot the top 10 dog breeds"
   ]
  },
  {
   "cell_type": "code",
   "execution_count": 160,
   "id": "b1f8be93",
   "metadata": {
    "scrolled": false
   },
   "outputs": [
    {
     "data": {
      "image/png": "[encoded data removed]",
      "text/plain": [
       "<Figure size 864x864 with 1 Axes>"
      ]
     },
     "metadata": {
      "needs_background": "light"
     },
     "output_type": "display_data"
    }
   ],
   "source": [
    "# plottiing top 10 dog breeds by frequency\n",
    "ax = master_df.p1.value_counts().nlargest(10).plot.bar(\n",
    "        title='Top 10 dog breeds',\n",
    "        figsize=(12,12),\n",
    "        rot=0)\n",
    "ax.set_xlabel('dog breed')\n",
    "ax.set_ylabel('frequency');"
   ]
  },
  {
   "cell_type": "markdown",
   "id": "75c0dd32",
   "metadata": {},
   "source": [
    "The most occuring dog breed was the golden retriver followed by the labrador retriever."
   ]
  },
  {
   "cell_type": "markdown",
   "id": "5969d781",
   "metadata": {},
   "source": [
    "### Text Analysis"
   ]
  },
  {
   "cell_type": "code",
   "execution_count": 161,
   "id": "e5c8d8c6",
   "metadata": {},
   "outputs": [],
   "source": [
    "# importing libraries\n",
    "from wordcloud import WordCloud\n",
    "import imageio\n",
    "from PIL import Image"
   ]
  },
  {
   "cell_type": "code",
   "execution_count": 162,
   "id": "cb23eb04",
   "metadata": {},
   "outputs": [
    {
     "data": {
      "image/png": "[encoded data removed]",
      "text/plain": [
       "<Figure size 576x576 with 1 Axes>"
      ]
     },
     "metadata": {
      "needs_background": "light"
     },
     "output_type": "display_data"
    }
   ],
   "source": [
    "# assigning tweets without http tag to variable \n",
    "text = ''.join(master_df.text.str.split(pat='http',expand=True)[0])\n",
    "# creating a mask using a copy of WeRateDogs twitter avi\n",
    "weratedogs_mask = imageio.imread('preview.png')\n",
    "# generating wordcloud\n",
    "wordcloud = WordCloud(\n",
    "                    background_color='white',\n",
    "                    mask=weratedogs_mask\n",
    "                    ).generate(text)\n",
    "# displaying wordcloud\n",
    "plt.figure(figsize=(8,8))\n",
    "plt.imshow(wordcloud, interpolation='bilinear')\n",
    "plt.axis('off')\n",
    "plt.show()"
   ]
  },
  {
   "cell_type": "markdown",
   "id": "3a2767bd",
   "metadata": {},
   "source": [
    "<a id='insights'></a>\n",
    "## Insights:\n",
    "* Dogs of puppo stage received the highest ratings\n",
    "* Increase in image number corresponds with increase in ratings\n",
    "* Dogs of puppo stage were the most favorited\n",
    "* Dogs of doggo stage were the most retweeted\n",
    "* Image number and dog stage may be used in predictive analysis"
   ]
  },
  {
   "cell_type": "markdown",
   "id": "fe6d3491",
   "metadata": {},
   "source": [
    "### Limitations\n",
    "Only rows and columns relevant to my analysis were cleaned therefore there may be other quality issues in the master dataframe and individual dataframes that were not cleaned because cleaning them would have no impact on the analysis.\n",
    "\n",
    "Using the independent variables (image number and dog stage) in predicting ratinsg will require more in-depth analysis and application of machine learning models."
   ]
  }
 ],
 "metadata": {
  "kernelspec": {
   "display_name": "Python 3 (ipykernel)",
   "language": "python",
   "name": "python3"
  },
  "language_info": {
   "codemirror_mode": {
    "name": "ipython",
    "version": 3
   },
   "file_extension": ".py",
   "mimetype": "text/x-python",
   "name": "python",
   "nbconvert_exporter": "python",
   "pygments_lexer": "ipython3",
   "version": "3.9.12"
  },
  "vscode": {
   "interpreter": {
    "hash": "73daebb8c5e963255a8d4e574cfd4a275e87fbc8721cbb75a3aa7bc07dfe7361"
   }
  }
 },
 "nbformat": 4,
 "nbformat_minor": 5
}
